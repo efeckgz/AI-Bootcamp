{
 "cells": [
  {
   "cell_type": "code",
   "execution_count": null,
   "id": "fc16ba96-68df-4051-9d00-c07e3e8b6ad6",
   "metadata": {},
   "outputs": [
    {
     "name": "stdout",
     "output_type": "stream",
     "text": [
      "Serving HTTP on :: port 8000 (http://[::]:8000/) ...\n",
      "::1 - - [10/Mar/2024 10:52:21] code 404, message File not found\n",
      "::1 - - [10/Mar/2024 10:52:21] \"GET /index HTTP/1.1\" 404 -\n",
      "::1 - - [10/Mar/2024 10:52:21] code 404, message File not found\n",
      "::1 - - [10/Mar/2024 10:52:21] \"GET /favicon.ico HTTP/1.1\" 404 -\n",
      "::1 - - [10/Mar/2024 10:52:31] \"GET /index.html HTTP/1.1\" 200 -\n",
      "::1 - - [10/Mar/2024 10:52:41] \"GET / HTTP/1.1\" 200 -\n",
      "::1 - - [10/Mar/2024 10:54:03] \"GET / HTTP/1.1\" 200 -\n",
      "::1 - - [10/Mar/2024 10:56:05] \"GET / HTTP/1.1\" 200 -\n",
      "::1 - - [10/Mar/2024 11:13:43] \"GET / HTTP/1.1\" 200 -\n",
      "::1 - - [10/Mar/2024 11:19:41] \"GET / HTTP/1.1\" 200 -\n"
     ]
    }
   ],
   "source": [
    "!python -m http.server 8000"
   ]
  },
  {
   "cell_type": "code",
   "execution_count": null,
   "id": "27a33f5c-1eb4-4a5e-a1f2-76496c0a21ec",
   "metadata": {},
   "outputs": [],
   "source": []
  }
 ],
 "metadata": {
  "kernelspec": {
   "display_name": "Python 3 (ipykernel)",
   "language": "python",
   "name": "python3"
  },
  "language_info": {
   "codemirror_mode": {
    "name": "ipython",
    "version": 3
   },
   "file_extension": ".py",
   "mimetype": "text/x-python",
   "name": "python",
   "nbconvert_exporter": "python",
   "pygments_lexer": "ipython3",
   "version": "3.11.7"
  }
 },
 "nbformat": 4,
 "nbformat_minor": 5
}
