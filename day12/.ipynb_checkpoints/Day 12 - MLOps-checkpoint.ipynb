{
 "cells": [
  {
   "cell_type": "markdown",
   "id": "a8895db3-6df2-4e87-b4c0-0ea3230289e9",
   "metadata": {},
   "source": [
    "# Machine Learning Operations"
   ]
  },
  {
   "cell_type": "code",
   "execution_count": null,
   "id": "831166c8-5dd9-41b6-a9dc-7816cc368b81",
   "metadata": {},
   "outputs": [],
   "source": []
  }
 ],
 "metadata": {
  "kernelspec": {
   "display_name": "Python 3 (ipykernel)",
   "language": "python",
   "name": "python3"
  },
  "language_info": {
   "codemirror_mode": {
    "name": "ipython",
    "version": 3
   },
   "file_extension": ".py",
   "mimetype": "text/x-python",
   "name": "python",
   "nbconvert_exporter": "python",
   "pygments_lexer": "ipython3",
   "version": "3.11.7"
  }
 },
 "nbformat": 4,
 "nbformat_minor": 5
}
