{
 "cells": [
  {
   "cell_type": "markdown",
   "id": "8f238846-fb8a-439f-aa14-7404c98a80e4",
   "metadata": {},
   "source": [
    "# Three Generations Romance"
   ]
  },
  {
   "cell_type": "code",
   "execution_count": 1,
   "id": "e8cedb7e-4a6f-47f4-9e28-98a70ab7c46e",
   "metadata": {},
   "outputs": [],
   "source": [
    "import pandas as pd\n",
    "from numpy import nan\n",
    "\n",
    "pd.set_option('display.max_columns', None)\n",
    "pd.set_option('display.max_rows', None)"
   ]
  },
  {
   "cell_type": "markdown",
   "id": "8ccfbf3d-be40-4b2a-94a0-ddd46d09d4d9",
   "metadata": {},
   "source": [
    "The original file was way too large for my computer to handle. I could not work on it not only on my own laptop with jupyter running locally, but also it didn't work on online platforms like google collab as well. My computer ran out of memory all the time. I managed to take a look at the data, and saw that the majority of the data was missing. There were 51,000 rows where all the values were NaN. I could not drop these rows in jupyter while working because my computer could not handle anything after calling read_csv(), so I wrote a simple python program to drop all these rows and save the rest as 'romance_small.csv', so I am reading that file here. I will be sending my python program as well as this notebook.s"
   ]
  },
  {
   "cell_type": "code",
   "execution_count": 2,
   "id": "7428987b-a7b8-4c43-a332-1746d432561e",
   "metadata": {},
   "outputs": [
    {
     "name": "stderr",
     "output_type": "stream",
     "text": [
      "/var/folders/qp/9j67xhhx3z1_9y5zm_dghclw0000gn/T/ipykernel_17189/2923526071.py:1: DtypeWarning: Columns (1,2,3,4,5,6,7,8,9,10,11,12,13,14,15,16,19,20,21,22,23,24,25,26,27,28,29,30) have mixed types. Specify dtype option on import or set low_memory=False.\n",
      "  df = pd.read_csv('profiles.csv')\n"
     ]
    }
   ],
   "source": [
    "df = pd.read_csv('profiles.csv')"
   ]
  },
  {
   "cell_type": "code",
   "execution_count": 3,
   "id": "2d73a488-812d-4f31-a545-7eadad45edbf",
   "metadata": {},
   "outputs": [
    {
     "data": {
      "text/html": [
       "<div>\n",
       "<style scoped>\n",
       "    .dataframe tbody tr th:only-of-type {\n",
       "        vertical-align: middle;\n",
       "    }\n",
       "\n",
       "    .dataframe tbody tr th {\n",
       "        vertical-align: top;\n",
       "    }\n",
       "\n",
       "    .dataframe thead th {\n",
       "        text-align: right;\n",
       "    }\n",
       "</style>\n",
       "<table border=\"1\" class=\"dataframe\">\n",
       "  <thead>\n",
       "    <tr style=\"text-align: right;\">\n",
       "      <th></th>\n",
       "      <th>age</th>\n",
       "      <th>body_type</th>\n",
       "      <th>diet</th>\n",
       "      <th>drinks</th>\n",
       "      <th>drugs</th>\n",
       "      <th>education</th>\n",
       "      <th>essay0</th>\n",
       "      <th>essay1</th>\n",
       "      <th>essay2</th>\n",
       "      <th>essay3</th>\n",
       "      <th>essay4</th>\n",
       "      <th>essay5</th>\n",
       "      <th>essay6</th>\n",
       "      <th>essay7</th>\n",
       "      <th>essay8</th>\n",
       "      <th>essay9</th>\n",
       "      <th>ethnicity</th>\n",
       "      <th>height</th>\n",
       "      <th>income</th>\n",
       "      <th>job</th>\n",
       "      <th>last_online</th>\n",
       "      <th>location</th>\n",
       "      <th>offspring</th>\n",
       "      <th>orientation</th>\n",
       "      <th>pets</th>\n",
       "      <th>religion</th>\n",
       "      <th>sex</th>\n",
       "      <th>sign</th>\n",
       "      <th>smokes</th>\n",
       "      <th>speaks</th>\n",
       "      <th>status</th>\n",
       "    </tr>\n",
       "  </thead>\n",
       "  <tbody>\n",
       "    <tr>\n",
       "      <th>0</th>\n",
       "      <td>22.0</td>\n",
       "      <td>a little extra</td>\n",
       "      <td>strictly anything</td>\n",
       "      <td>socially</td>\n",
       "      <td>never</td>\n",
       "      <td>working on college/university</td>\n",
       "      <td>about me:&lt;br /&gt;\\n&lt;br /&gt;\\ni would love to think...</td>\n",
       "      <td>currently working as an international agent fo...</td>\n",
       "      <td>making people laugh.&lt;br /&gt;\\nranting about a go...</td>\n",
       "      <td>the way i look. i am a six foot half asian, ha...</td>\n",
       "      <td>books:&lt;br /&gt;\\nabsurdistan, the republic, of mi...</td>\n",
       "      <td>food.&lt;br /&gt;\\nwater.&lt;br /&gt;\\ncell phone.&lt;br /&gt;\\n...</td>\n",
       "      <td>duality and humorous things</td>\n",
       "      <td>trying to find someone to hang out with. i am ...</td>\n",
       "      <td>i am new to california and looking for someone...</td>\n",
       "      <td>you want to be swept off your feet!&lt;br /&gt;\\nyou...</td>\n",
       "      <td>asian, white</td>\n",
       "      <td>75.0</td>\n",
       "      <td>-1.0</td>\n",
       "      <td>transportation</td>\n",
       "      <td>2012-06-28-20-30</td>\n",
       "      <td>south san francisco, california</td>\n",
       "      <td>doesn&amp;rsquo;t have kids, but might want them</td>\n",
       "      <td>straight</td>\n",
       "      <td>likes dogs and likes cats</td>\n",
       "      <td>agnosticism and very serious about it</td>\n",
       "      <td>m</td>\n",
       "      <td>gemini</td>\n",
       "      <td>sometimes</td>\n",
       "      <td>english</td>\n",
       "      <td>single</td>\n",
       "    </tr>\n",
       "    <tr>\n",
       "      <th>1</th>\n",
       "      <td>35.0</td>\n",
       "      <td>average</td>\n",
       "      <td>mostly other</td>\n",
       "      <td>often</td>\n",
       "      <td>sometimes</td>\n",
       "      <td>working on space camp</td>\n",
       "      <td>i am a chef: this is what that means.&lt;br /&gt;\\n1...</td>\n",
       "      <td>dedicating everyday to being an unbelievable b...</td>\n",
       "      <td>being silly. having ridiculous amonts of fun w...</td>\n",
       "      <td>NaN</td>\n",
       "      <td>i am die hard christopher moore fan. i don't r...</td>\n",
       "      <td>delicious porkness in all of its glories.&lt;br /...</td>\n",
       "      <td>NaN</td>\n",
       "      <td>NaN</td>\n",
       "      <td>i am very open and will share just about anyth...</td>\n",
       "      <td>NaN</td>\n",
       "      <td>white</td>\n",
       "      <td>70.0</td>\n",
       "      <td>80000.0</td>\n",
       "      <td>hospitality / travel</td>\n",
       "      <td>2012-06-29-21-41</td>\n",
       "      <td>oakland, california</td>\n",
       "      <td>doesn&amp;rsquo;t have kids, but might want them</td>\n",
       "      <td>straight</td>\n",
       "      <td>likes dogs and likes cats</td>\n",
       "      <td>agnosticism but not too serious about it</td>\n",
       "      <td>m</td>\n",
       "      <td>cancer</td>\n",
       "      <td>no</td>\n",
       "      <td>english (fluently), spanish (poorly), french (...</td>\n",
       "      <td>single</td>\n",
       "    </tr>\n",
       "    <tr>\n",
       "      <th>2</th>\n",
       "      <td>38.0</td>\n",
       "      <td>thin</td>\n",
       "      <td>anything</td>\n",
       "      <td>socially</td>\n",
       "      <td>NaN</td>\n",
       "      <td>graduated from masters program</td>\n",
       "      <td>i'm not ashamed of much, but writing public te...</td>\n",
       "      <td>i make nerdy software for musicians, artists, ...</td>\n",
       "      <td>improvising in different contexts. alternating...</td>\n",
       "      <td>my large jaw and large glasses are the physica...</td>\n",
       "      <td>okay this is where the cultural matrix gets so...</td>\n",
       "      <td>movement&lt;br /&gt;\\nconversation&lt;br /&gt;\\ncreation&lt;b...</td>\n",
       "      <td>NaN</td>\n",
       "      <td>viewing. listening. dancing. talking. drinking...</td>\n",
       "      <td>when i was five years old, i was known as \"the...</td>\n",
       "      <td>you are bright, open, intense, silly, ironic, ...</td>\n",
       "      <td>NaN</td>\n",
       "      <td>68.0</td>\n",
       "      <td>-1.0</td>\n",
       "      <td>NaN</td>\n",
       "      <td>2012-06-27-09-10</td>\n",
       "      <td>san francisco, california</td>\n",
       "      <td>NaN</td>\n",
       "      <td>straight</td>\n",
       "      <td>has cats</td>\n",
       "      <td>NaN</td>\n",
       "      <td>m</td>\n",
       "      <td>pisces but it doesn&amp;rsquo;t matter</td>\n",
       "      <td>no</td>\n",
       "      <td>english, french, c++</td>\n",
       "      <td>available</td>\n",
       "    </tr>\n",
       "    <tr>\n",
       "      <th>3</th>\n",
       "      <td>23.0</td>\n",
       "      <td>thin</td>\n",
       "      <td>vegetarian</td>\n",
       "      <td>socially</td>\n",
       "      <td>NaN</td>\n",
       "      <td>working on college/university</td>\n",
       "      <td>i work in a library and go to school. . .</td>\n",
       "      <td>reading things written by old dead people</td>\n",
       "      <td>playing synthesizers and organizing books acco...</td>\n",
       "      <td>socially awkward but i do my best</td>\n",
       "      <td>bataille, celine, beckett. . .&lt;br /&gt;\\nlynch, j...</td>\n",
       "      <td>NaN</td>\n",
       "      <td>cats and german philosophy</td>\n",
       "      <td>NaN</td>\n",
       "      <td>NaN</td>\n",
       "      <td>you feel so inclined.</td>\n",
       "      <td>white</td>\n",
       "      <td>71.0</td>\n",
       "      <td>20000.0</td>\n",
       "      <td>student</td>\n",
       "      <td>2012-06-28-14-22</td>\n",
       "      <td>berkeley, california</td>\n",
       "      <td>doesn&amp;rsquo;t want kids</td>\n",
       "      <td>straight</td>\n",
       "      <td>likes cats</td>\n",
       "      <td>NaN</td>\n",
       "      <td>m</td>\n",
       "      <td>pisces</td>\n",
       "      <td>no</td>\n",
       "      <td>english, german (poorly)</td>\n",
       "      <td>single</td>\n",
       "    </tr>\n",
       "    <tr>\n",
       "      <th>4</th>\n",
       "      <td>29.0</td>\n",
       "      <td>athletic</td>\n",
       "      <td>NaN</td>\n",
       "      <td>socially</td>\n",
       "      <td>never</td>\n",
       "      <td>graduated from college/university</td>\n",
       "      <td>hey how's it going? currently vague on the pro...</td>\n",
       "      <td>work work work work + play</td>\n",
       "      <td>creating imagery to look at:&lt;br /&gt;\\nhttp://bag...</td>\n",
       "      <td>i smile a lot and my inquisitive nature</td>\n",
       "      <td>music: bands, rappers, musicians&lt;br /&gt;\\nat the...</td>\n",
       "      <td>NaN</td>\n",
       "      <td>NaN</td>\n",
       "      <td>NaN</td>\n",
       "      <td>NaN</td>\n",
       "      <td>NaN</td>\n",
       "      <td>asian, black, other</td>\n",
       "      <td>66.0</td>\n",
       "      <td>-1.0</td>\n",
       "      <td>artistic / musical / writer</td>\n",
       "      <td>2012-06-27-21-26</td>\n",
       "      <td>san francisco, california</td>\n",
       "      <td>NaN</td>\n",
       "      <td>straight</td>\n",
       "      <td>likes dogs and likes cats</td>\n",
       "      <td>NaN</td>\n",
       "      <td>m</td>\n",
       "      <td>aquarius</td>\n",
       "      <td>no</td>\n",
       "      <td>english</td>\n",
       "      <td>single</td>\n",
       "    </tr>\n",
       "  </tbody>\n",
       "</table>\n",
       "</div>"
      ],
      "text/plain": [
       "    age       body_type               diet    drinks      drugs  \\\n",
       "0  22.0  a little extra  strictly anything  socially      never   \n",
       "1  35.0         average       mostly other     often  sometimes   \n",
       "2  38.0            thin           anything  socially        NaN   \n",
       "3  23.0            thin         vegetarian  socially        NaN   \n",
       "4  29.0        athletic                NaN  socially      never   \n",
       "\n",
       "                           education  \\\n",
       "0      working on college/university   \n",
       "1              working on space camp   \n",
       "2     graduated from masters program   \n",
       "3      working on college/university   \n",
       "4  graduated from college/university   \n",
       "\n",
       "                                              essay0  \\\n",
       "0  about me:<br />\\n<br />\\ni would love to think...   \n",
       "1  i am a chef: this is what that means.<br />\\n1...   \n",
       "2  i'm not ashamed of much, but writing public te...   \n",
       "3          i work in a library and go to school. . .   \n",
       "4  hey how's it going? currently vague on the pro...   \n",
       "\n",
       "                                              essay1  \\\n",
       "0  currently working as an international agent fo...   \n",
       "1  dedicating everyday to being an unbelievable b...   \n",
       "2  i make nerdy software for musicians, artists, ...   \n",
       "3          reading things written by old dead people   \n",
       "4                         work work work work + play   \n",
       "\n",
       "                                              essay2  \\\n",
       "0  making people laugh.<br />\\nranting about a go...   \n",
       "1  being silly. having ridiculous amonts of fun w...   \n",
       "2  improvising in different contexts. alternating...   \n",
       "3  playing synthesizers and organizing books acco...   \n",
       "4  creating imagery to look at:<br />\\nhttp://bag...   \n",
       "\n",
       "                                              essay3  \\\n",
       "0  the way i look. i am a six foot half asian, ha...   \n",
       "1                                                NaN   \n",
       "2  my large jaw and large glasses are the physica...   \n",
       "3                  socially awkward but i do my best   \n",
       "4            i smile a lot and my inquisitive nature   \n",
       "\n",
       "                                              essay4  \\\n",
       "0  books:<br />\\nabsurdistan, the republic, of mi...   \n",
       "1  i am die hard christopher moore fan. i don't r...   \n",
       "2  okay this is where the cultural matrix gets so...   \n",
       "3  bataille, celine, beckett. . .<br />\\nlynch, j...   \n",
       "4  music: bands, rappers, musicians<br />\\nat the...   \n",
       "\n",
       "                                              essay5  \\\n",
       "0  food.<br />\\nwater.<br />\\ncell phone.<br />\\n...   \n",
       "1  delicious porkness in all of its glories.<br /...   \n",
       "2  movement<br />\\nconversation<br />\\ncreation<b...   \n",
       "3                                                NaN   \n",
       "4                                                NaN   \n",
       "\n",
       "                        essay6  \\\n",
       "0  duality and humorous things   \n",
       "1                          NaN   \n",
       "2                          NaN   \n",
       "3   cats and german philosophy   \n",
       "4                          NaN   \n",
       "\n",
       "                                              essay7  \\\n",
       "0  trying to find someone to hang out with. i am ...   \n",
       "1                                                NaN   \n",
       "2  viewing. listening. dancing. talking. drinking...   \n",
       "3                                                NaN   \n",
       "4                                                NaN   \n",
       "\n",
       "                                              essay8  \\\n",
       "0  i am new to california and looking for someone...   \n",
       "1  i am very open and will share just about anyth...   \n",
       "2  when i was five years old, i was known as \"the...   \n",
       "3                                                NaN   \n",
       "4                                                NaN   \n",
       "\n",
       "                                              essay9            ethnicity  \\\n",
       "0  you want to be swept off your feet!<br />\\nyou...         asian, white   \n",
       "1                                                NaN                white   \n",
       "2  you are bright, open, intense, silly, ironic, ...                  NaN   \n",
       "3                              you feel so inclined.                white   \n",
       "4                                                NaN  asian, black, other   \n",
       "\n",
       "   height   income                          job       last_online  \\\n",
       "0    75.0     -1.0               transportation  2012-06-28-20-30   \n",
       "1    70.0  80000.0         hospitality / travel  2012-06-29-21-41   \n",
       "2    68.0     -1.0                          NaN  2012-06-27-09-10   \n",
       "3    71.0  20000.0                      student  2012-06-28-14-22   \n",
       "4    66.0     -1.0  artistic / musical / writer  2012-06-27-21-26   \n",
       "\n",
       "                          location  \\\n",
       "0  south san francisco, california   \n",
       "1              oakland, california   \n",
       "2        san francisco, california   \n",
       "3             berkeley, california   \n",
       "4        san francisco, california   \n",
       "\n",
       "                                      offspring orientation  \\\n",
       "0  doesn&rsquo;t have kids, but might want them    straight   \n",
       "1  doesn&rsquo;t have kids, but might want them    straight   \n",
       "2                                           NaN    straight   \n",
       "3                       doesn&rsquo;t want kids    straight   \n",
       "4                                           NaN    straight   \n",
       "\n",
       "                        pets                                  religion sex  \\\n",
       "0  likes dogs and likes cats     agnosticism and very serious about it   m   \n",
       "1  likes dogs and likes cats  agnosticism but not too serious about it   m   \n",
       "2                   has cats                                       NaN   m   \n",
       "3                 likes cats                                       NaN   m   \n",
       "4  likes dogs and likes cats                                       NaN   m   \n",
       "\n",
       "                                 sign     smokes  \\\n",
       "0                              gemini  sometimes   \n",
       "1                              cancer         no   \n",
       "2  pisces but it doesn&rsquo;t matter         no   \n",
       "3                              pisces         no   \n",
       "4                            aquarius         no   \n",
       "\n",
       "                                              speaks     status  \n",
       "0                                            english     single  \n",
       "1  english (fluently), spanish (poorly), french (...     single  \n",
       "2                               english, french, c++  available  \n",
       "3                           english, german (poorly)     single  \n",
       "4                                            english     single  "
      ]
     },
     "execution_count": 3,
     "metadata": {},
     "output_type": "execute_result"
    }
   ],
   "source": [
    "df.head()"
   ]
  },
  {
   "cell_type": "code",
   "execution_count": 4,
   "id": "fa2e0e22-bb8c-41d6-ab56-1257920caa05",
   "metadata": {},
   "outputs": [
    {
     "data": {
      "text/plain": [
       "(60552, 31)"
      ]
     },
     "execution_count": 4,
     "metadata": {},
     "output_type": "execute_result"
    }
   ],
   "source": [
    "df.shape"
   ]
  },
  {
   "cell_type": "code",
   "execution_count": 5,
   "id": "c8c90907-3ade-4932-baf6-1692a7906743",
   "metadata": {},
   "outputs": [],
   "source": [
    "df.dropna(how='all', inplace=True)"
   ]
  },
  {
   "cell_type": "code",
   "execution_count": 6,
   "id": "b5617ab9-add6-4e87-bb46-e1d611a3836a",
   "metadata": {},
   "outputs": [],
   "source": [
    "nullsum = df.isnull().sum()"
   ]
  },
  {
   "cell_type": "code",
   "execution_count": 7,
   "id": "de4b6874-5b4a-4977-b1ae-06d2e37ee669",
   "metadata": {},
   "outputs": [
    {
     "data": {
      "text/plain": [
       "body_type     848\n",
       "diet         3753\n",
       "drinks        502\n",
       "drugs        2299\n",
       "education    1055\n",
       "essay0        847\n",
       "essay1       1167\n",
       "essay2       1465\n",
       "essay3       1824\n",
       "essay4       1635\n",
       "essay5       1700\n",
       "essay6       2162\n",
       "essay7       1961\n",
       "essay8       3153\n",
       "essay9       1960\n",
       "ethnicity     949\n",
       "job          1331\n",
       "offspring    5628\n",
       "pets         3162\n",
       "religion     3253\n",
       "sign         1738\n",
       "smokes        918\n",
       "speaks          6\n",
       "dtype: int64"
      ]
     },
     "execution_count": 7,
     "metadata": {},
     "output_type": "execute_result"
    }
   ],
   "source": [
    "nullsum[nullsum > 0]"
   ]
  },
  {
   "cell_type": "code",
   "execution_count": 8,
   "id": "a6f7a5df-7280-4b7a-a4e3-4f960b7cb873",
   "metadata": {},
   "outputs": [
    {
     "data": {
      "text/plain": [
       "body_type     8.913181\n",
       "diet         39.447131\n",
       "drinks        5.276435\n",
       "drugs        24.164389\n",
       "education    11.088922\n",
       "essay0        8.902670\n",
       "essay1       12.266134\n",
       "essay2       15.398360\n",
       "essay3       19.171747\n",
       "essay4       17.185201\n",
       "essay5       17.868404\n",
       "essay6       22.724406\n",
       "essay7       20.611730\n",
       "essay8       33.140635\n",
       "essay9       20.601219\n",
       "ethnicity     9.974774\n",
       "job          13.989910\n",
       "offspring    59.154930\n",
       "pets         33.235232\n",
       "religion     34.191717\n",
       "sign         18.267816\n",
       "smokes        9.648938\n",
       "speaks        0.063065\n",
       "dtype: float64"
      ]
     },
     "execution_count": 8,
     "metadata": {},
     "output_type": "execute_result"
    }
   ],
   "source": [
    "(nullsum * 100 / len(df))[nullsum > 0]"
   ]
  },
  {
   "cell_type": "markdown",
   "id": "8d17c43a-da7b-44df-b501-30102ba87e5e",
   "metadata": {},
   "source": [
    "## Age Prediction\n",
    "\n",
    "We will select some columns to predict the age of the users."
   ]
  },
  {
   "cell_type": "code",
   "execution_count": 9,
   "id": "46765021-c314-416a-9437-f9743179b6d8",
   "metadata": {},
   "outputs": [
    {
     "data": {
      "text/plain": [
       "Index(['age', 'body_type', 'diet', 'drinks', 'drugs', 'education', 'essay0',\n",
       "       'essay1', 'essay2', 'essay3', 'essay4', 'essay5', 'essay6', 'essay7',\n",
       "       'essay8', 'essay9', 'ethnicity', 'height', 'income', 'job',\n",
       "       'last_online', 'location', 'offspring', 'orientation', 'pets',\n",
       "       'religion', 'sex', 'sign', 'smokes', 'speaks', 'status'],\n",
       "      dtype='object')"
      ]
     },
     "execution_count": 9,
     "metadata": {},
     "output_type": "execute_result"
    }
   ],
   "source": [
    "df.columns"
   ]
  },
  {
   "cell_type": "code",
   "execution_count": 10,
   "id": "57696be5-72cb-42c7-975b-8b6b3295e346",
   "metadata": {},
   "outputs": [],
   "source": [
    "_df = df # save df before changing it."
   ]
  },
  {
   "cell_type": "code",
   "execution_count": 11,
   "id": "261f0990-b7de-4123-a4a3-3a8a45957c22",
   "metadata": {},
   "outputs": [],
   "source": [
    "df = df[[\n",
    "    'age', 'body_type', 'drinks', 'drugs', 'height',\n",
    "    'income', 'job', 'orientation',\n",
    "    'religion', 'smokes', 'status'\n",
    "]]"
   ]
  },
  {
   "cell_type": "code",
   "execution_count": 12,
   "id": "fb34bd94-8686-4db8-bf3d-049d4fa03117",
   "metadata": {},
   "outputs": [
    {
     "data": {
      "text/html": [
       "<div>\n",
       "<style scoped>\n",
       "    .dataframe tbody tr th:only-of-type {\n",
       "        vertical-align: middle;\n",
       "    }\n",
       "\n",
       "    .dataframe tbody tr th {\n",
       "        vertical-align: top;\n",
       "    }\n",
       "\n",
       "    .dataframe thead th {\n",
       "        text-align: right;\n",
       "    }\n",
       "</style>\n",
       "<table border=\"1\" class=\"dataframe\">\n",
       "  <thead>\n",
       "    <tr style=\"text-align: right;\">\n",
       "      <th></th>\n",
       "      <th>age</th>\n",
       "      <th>body_type</th>\n",
       "      <th>drinks</th>\n",
       "      <th>drugs</th>\n",
       "      <th>height</th>\n",
       "      <th>income</th>\n",
       "      <th>job</th>\n",
       "      <th>orientation</th>\n",
       "      <th>religion</th>\n",
       "      <th>smokes</th>\n",
       "      <th>status</th>\n",
       "    </tr>\n",
       "  </thead>\n",
       "  <tbody>\n",
       "    <tr>\n",
       "      <th>0</th>\n",
       "      <td>22.0</td>\n",
       "      <td>a little extra</td>\n",
       "      <td>socially</td>\n",
       "      <td>never</td>\n",
       "      <td>75.0</td>\n",
       "      <td>-1.0</td>\n",
       "      <td>transportation</td>\n",
       "      <td>straight</td>\n",
       "      <td>agnosticism and very serious about it</td>\n",
       "      <td>sometimes</td>\n",
       "      <td>single</td>\n",
       "    </tr>\n",
       "    <tr>\n",
       "      <th>1</th>\n",
       "      <td>35.0</td>\n",
       "      <td>average</td>\n",
       "      <td>often</td>\n",
       "      <td>sometimes</td>\n",
       "      <td>70.0</td>\n",
       "      <td>80000.0</td>\n",
       "      <td>hospitality / travel</td>\n",
       "      <td>straight</td>\n",
       "      <td>agnosticism but not too serious about it</td>\n",
       "      <td>no</td>\n",
       "      <td>single</td>\n",
       "    </tr>\n",
       "    <tr>\n",
       "      <th>2</th>\n",
       "      <td>38.0</td>\n",
       "      <td>thin</td>\n",
       "      <td>socially</td>\n",
       "      <td>NaN</td>\n",
       "      <td>68.0</td>\n",
       "      <td>-1.0</td>\n",
       "      <td>NaN</td>\n",
       "      <td>straight</td>\n",
       "      <td>NaN</td>\n",
       "      <td>no</td>\n",
       "      <td>available</td>\n",
       "    </tr>\n",
       "    <tr>\n",
       "      <th>3</th>\n",
       "      <td>23.0</td>\n",
       "      <td>thin</td>\n",
       "      <td>socially</td>\n",
       "      <td>NaN</td>\n",
       "      <td>71.0</td>\n",
       "      <td>20000.0</td>\n",
       "      <td>student</td>\n",
       "      <td>straight</td>\n",
       "      <td>NaN</td>\n",
       "      <td>no</td>\n",
       "      <td>single</td>\n",
       "    </tr>\n",
       "    <tr>\n",
       "      <th>4</th>\n",
       "      <td>29.0</td>\n",
       "      <td>athletic</td>\n",
       "      <td>socially</td>\n",
       "      <td>never</td>\n",
       "      <td>66.0</td>\n",
       "      <td>-1.0</td>\n",
       "      <td>artistic / musical / writer</td>\n",
       "      <td>straight</td>\n",
       "      <td>NaN</td>\n",
       "      <td>no</td>\n",
       "      <td>single</td>\n",
       "    </tr>\n",
       "  </tbody>\n",
       "</table>\n",
       "</div>"
      ],
      "text/plain": [
       "    age       body_type    drinks      drugs  height   income  \\\n",
       "0  22.0  a little extra  socially      never    75.0     -1.0   \n",
       "1  35.0         average     often  sometimes    70.0  80000.0   \n",
       "2  38.0            thin  socially        NaN    68.0     -1.0   \n",
       "3  23.0            thin  socially        NaN    71.0  20000.0   \n",
       "4  29.0        athletic  socially      never    66.0     -1.0   \n",
       "\n",
       "                           job orientation  \\\n",
       "0               transportation    straight   \n",
       "1         hospitality / travel    straight   \n",
       "2                          NaN    straight   \n",
       "3                      student    straight   \n",
       "4  artistic / musical / writer    straight   \n",
       "\n",
       "                                   religion     smokes     status  \n",
       "0     agnosticism and very serious about it  sometimes     single  \n",
       "1  agnosticism but not too serious about it         no     single  \n",
       "2                                       NaN         no  available  \n",
       "3                                       NaN         no     single  \n",
       "4                                       NaN         no     single  "
      ]
     },
     "execution_count": 12,
     "metadata": {},
     "output_type": "execute_result"
    }
   ],
   "source": [
    "df.head()"
   ]
  },
  {
   "cell_type": "markdown",
   "id": "f1a85a1e-fa14-42d4-9098-43685b811291",
   "metadata": {},
   "source": [
    "### Cleaning up the data"
   ]
  },
  {
   "cell_type": "markdown",
   "id": "e5f9ee17-d67e-472e-ab78-ed0eb0e68bb6",
   "metadata": {},
   "source": [
    "#### Religion\n",
    "\n",
    "We do not need the explanation of the religion, just the religion itself."
   ]
  },
  {
   "cell_type": "code",
   "execution_count": 13,
   "id": "7ee67f5a-b314-4132-b932-45999521ebcb",
   "metadata": {},
   "outputs": [
    {
     "data": {
      "text/plain": [
       "array(['agnosticism and very serious about it',\n",
       "       'agnosticism but not too serious about it', nan, 'atheism',\n",
       "       'christianity', 'christianity but not too serious about it',\n",
       "       'atheism and laughing about it',\n",
       "       'christianity and very serious about it', 'other', 'catholicism',\n",
       "       'catholicism but not too serious about it',\n",
       "       'catholicism and somewhat serious about it',\n",
       "       'agnosticism and somewhat serious about it',\n",
       "       'catholicism and laughing about it',\n",
       "       'agnosticism and laughing about it', 'agnosticism',\n",
       "       'atheism and somewhat serious about it',\n",
       "       'buddhism but not too serious about it',\n",
       "       'other but not too serious about it', 'buddhism',\n",
       "       'other and laughing about it',\n",
       "       'judaism but not too serious about it',\n",
       "       'buddhism and laughing about it',\n",
       "       'other and somewhat serious about it',\n",
       "       'other and very serious about it',\n",
       "       'hinduism but not too serious about it',\n",
       "       'atheism but not too serious about it', 'judaism',\n",
       "       'christianity and somewhat serious about it',\n",
       "       'hinduism and very serious about it',\n",
       "       'atheism and very serious about it',\n",
       "       'judaism and laughing about it',\n",
       "       'christianity and laughing about it',\n",
       "       'hinduism and laughing about it',\n",
       "       'buddhism and somewhat serious about it',\n",
       "       'islam and very serious about it', 'islam', 'hinduism',\n",
       "       'judaism and somewhat serious about it',\n",
       "       'catholicism and very serious about it',\n",
       "       'judaism and very serious about it',\n",
       "       'hinduism and somewhat serious about it',\n",
       "       'islam but not too serious about it',\n",
       "       'buddhism and very serious about it',\n",
       "       'islam and laughing about it',\n",
       "       'islam and somewhat serious about it'], dtype=object)"
      ]
     },
     "execution_count": 13,
     "metadata": {},
     "output_type": "execute_result"
    }
   ],
   "source": [
    "df['religion'].unique()"
   ]
  },
  {
   "cell_type": "markdown",
   "id": "19bf3163-108e-4c3f-b48e-b7b47c208692",
   "metadata": {},
   "source": [
    "The float values in this column are the null values. We are going to ignore them for now."
   ]
  },
  {
   "cell_type": "code",
   "execution_count": 14,
   "id": "978de7cc-08ca-42e2-b719-1f96452b731f",
   "metadata": {},
   "outputs": [],
   "source": [
    "df.loc[:, 'religion'] = [r.split()[0] if type(r) != float else r for r in df['religion']]"
   ]
  },
  {
   "cell_type": "code",
   "execution_count": 15,
   "id": "57ba5b82-7c1c-4c03-ad6d-e4e2595e76a1",
   "metadata": {},
   "outputs": [
    {
     "data": {
      "text/plain": [
       "array(['agnosticism', nan, 'atheism', 'christianity', 'other',\n",
       "       'catholicism', 'buddhism', 'judaism', 'hinduism', 'islam'],\n",
       "      dtype=object)"
      ]
     },
     "execution_count": 15,
     "metadata": {},
     "output_type": "execute_result"
    }
   ],
   "source": [
    "df['religion'].unique()"
   ]
  },
  {
   "cell_type": "markdown",
   "id": "3fd16194-63c0-4c1e-b9c4-1c7aee65e93d",
   "metadata": {},
   "source": [
    "We will merge the catholicism and christianity values, since christianity encapsulated catholicism."
   ]
  },
  {
   "cell_type": "code",
   "execution_count": 16,
   "id": "56486711-4566-4a90-a224-783700b0f3cd",
   "metadata": {},
   "outputs": [],
   "source": [
    "df.loc[:, 'religion'] = ['christianity' if r == 'catholicism' else r for r in df['religion']]"
   ]
  },
  {
   "cell_type": "code",
   "execution_count": 17,
   "id": "d2898d7f-8862-4954-9c7e-685681579417",
   "metadata": {},
   "outputs": [
    {
     "data": {
      "text/plain": [
       "array(['agnosticism', nan, 'atheism', 'christianity', 'other', 'buddhism',\n",
       "       'judaism', 'hinduism', 'islam'], dtype=object)"
      ]
     },
     "execution_count": 17,
     "metadata": {},
     "output_type": "execute_result"
    }
   ],
   "source": [
    "df['religion'].unique()"
   ]
  },
  {
   "cell_type": "markdown",
   "id": "b452cb5a-cc3c-4b9c-b440-97c2896fda68",
   "metadata": {},
   "source": [
    "We will merge agnosticism and atheism as well since they are very similiar."
   ]
  },
  {
   "cell_type": "code",
   "execution_count": 18,
   "id": "5a641ef5-a7e7-491d-868e-0c0c03758943",
   "metadata": {},
   "outputs": [],
   "source": [
    "df.loc[:, 'religion'] = ['atheism' if r == 'agnosticism' else r for r in df['religion']]"
   ]
  },
  {
   "cell_type": "code",
   "execution_count": 19,
   "id": "b327d36e-5dfa-4dc0-bd71-a7a1b44d2b90",
   "metadata": {},
   "outputs": [
    {
     "data": {
      "text/plain": [
       "array(['atheism', nan, 'christianity', 'other', 'buddhism', 'judaism',\n",
       "       'hinduism', 'islam'], dtype=object)"
      ]
     },
     "execution_count": 19,
     "metadata": {},
     "output_type": "execute_result"
    }
   ],
   "source": [
    "df['religion'].unique()"
   ]
  },
  {
   "cell_type": "markdown",
   "id": "90b4747b-4c61-4b1b-9c67-1f53c777eefb",
   "metadata": {},
   "source": [
    "##### Lets visualize this"
   ]
  },
  {
   "cell_type": "code",
   "execution_count": 20,
   "id": "422df4fc-771b-40e9-9101-3bfe3579adac",
   "metadata": {},
   "outputs": [
    {
     "data": {
      "image/png": "[encoded data removed]",
      "text/plain": [
       "<Figure size 640x480 with 1 Axes>"
      ]
     },
     "metadata": {},
     "output_type": "display_data"
    }
   ],
   "source": [
    "import seaborn as sns\n",
    "\n",
    "sns.countplot(x=df['religion'], hue=df['religion'], legend=False);"
   ]
  },
  {
   "cell_type": "code",
   "execution_count": 21,
   "id": "6ac241a0-1c34-4b84-9767-96528119f5d2",
   "metadata": {},
   "outputs": [
    {
     "data": {
      "text/plain": [
       "Index(['age', 'body_type', 'drinks', 'drugs', 'height', 'income', 'job',\n",
       "       'orientation', 'religion', 'smokes', 'status'],\n",
       "      dtype='object')"
      ]
     },
     "execution_count": 21,
     "metadata": {},
     "output_type": "execute_result"
    }
   ],
   "source": [
    "df.columns"
   ]
  },
  {
   "cell_type": "markdown",
   "id": "8ba9bd61-5b0c-4212-bf12-baf909be0c6f",
   "metadata": {},
   "source": [
    "#### Body type"
   ]
  },
  {
   "cell_type": "code",
   "execution_count": 22,
   "id": "06080757-ed2d-449d-ae47-691e4e2d91fd",
   "metadata": {},
   "outputs": [
    {
     "data": {
      "text/plain": [
       "array(['a little extra', 'average', 'thin', 'athletic', 'fit', nan,\n",
       "       'skinny', 'curvy', 'full figured', 'jacked', 'rather not say',\n",
       "       'used up', 'overweight'], dtype=object)"
      ]
     },
     "execution_count": 22,
     "metadata": {},
     "output_type": "execute_result"
    }
   ],
   "source": [
    "df['body_type'].unique()"
   ]
  },
  {
   "cell_type": "code",
   "execution_count": 23,
   "id": "6d529793-cdfa-44ef-b3a3-61aecfaf13c9",
   "metadata": {},
   "outputs": [
    {
     "data": {
      "image/png": "[encoded data removed]",
      "text/plain": [
       "<Figure size 1500x600 with 1 Axes>"
      ]
     },
     "metadata": {},
     "output_type": "display_data"
    }
   ],
   "source": [
    "import matplotlib.pyplot as plt\n",
    "\n",
    "plt.figure(figsize=(15, 6))\n",
    "sns.countplot(x=df['body_type'], hue=df['body_type'], legend=False);"
   ]
  },
  {
   "cell_type": "code",
   "execution_count": 24,
   "id": "723be20b-ed61-4f27-b2e4-2e5827467dc8",
   "metadata": {},
   "outputs": [],
   "source": [
    "df.loc[:, 'body_type'] = ['large' if s == 'a little extra' or s == 'full figured' or s == 'overweight' else s for s in df['body_type']]"
   ]
  },
  {
   "cell_type": "code",
   "execution_count": 25,
   "id": "640bca5d-5f9c-4dc2-84be-7eb7b48677ae",
   "metadata": {},
   "outputs": [],
   "source": [
    "df.loc[:, 'body_type'] = ['fit' if s == 'athletic' or s == 'fit' or s == 'jacked' or s == 'curvy' else s for s in df['body_type']]"
   ]
  },
  {
   "cell_type": "code",
   "execution_count": 26,
   "id": "89c09c08-7347-498d-94d4-9b3d6ab32329",
   "metadata": {},
   "outputs": [],
   "source": [
    "df.loc[:, 'body_type'] = ['skinny' if s == 'thin' or s == 'skinny' else s for s in df['body_type']]"
   ]
  },
  {
   "cell_type": "code",
   "execution_count": 27,
   "id": "24d396fa-ea53-4ffe-93da-460ddae06793",
   "metadata": {},
   "outputs": [
    {
     "data": {
      "text/plain": [
       "array(['large', 'average', 'skinny', 'fit', nan, 'rather not say',\n",
       "       'used up'], dtype=object)"
      ]
     },
     "execution_count": 27,
     "metadata": {},
     "output_type": "execute_result"
    }
   ],
   "source": [
    "df['body_type'].unique()"
   ]
  },
  {
   "cell_type": "code",
   "execution_count": 28,
   "id": "31b30f6a-f19d-4f2f-95c5-300226f73092",
   "metadata": {},
   "outputs": [
    {
     "data": {
      "image/png": "[encoded data removed]",
      "text/plain": [
       "<Figure size 640x480 with 1 Axes>"
      ]
     },
     "metadata": {},
     "output_type": "display_data"
    }
   ],
   "source": [
    "sns.countplot(x=df['body_type'], hue=df['body_type'], legend=False);"
   ]
  },
  {
   "cell_type": "code",
   "execution_count": 29,
   "id": "e8af05b1-2a63-4153-9d99-cad6412a9f99",
   "metadata": {},
   "outputs": [
    {
     "data": {
      "text/plain": [
       "Index(['age', 'body_type', 'drinks', 'drugs', 'height', 'income', 'job',\n",
       "       'orientation', 'religion', 'smokes', 'status'],\n",
       "      dtype='object')"
      ]
     },
     "execution_count": 29,
     "metadata": {},
     "output_type": "execute_result"
    }
   ],
   "source": [
    "df.columns"
   ]
  },
  {
   "cell_type": "code",
   "execution_count": 30,
   "id": "d108f62e-2ddc-4d34-b7bf-32fafefd4ba9",
   "metadata": {},
   "outputs": [
    {
     "data": {
      "text/plain": [
       "array(['straight', 'bisexual', 'gay'], dtype=object)"
      ]
     },
     "execution_count": 30,
     "metadata": {},
     "output_type": "execute_result"
    }
   ],
   "source": [
    "df['orientation'].unique()"
   ]
  },
  {
   "cell_type": "code",
   "execution_count": 31,
   "id": "9f94b6d2-2b2a-4963-bba8-63417bbb988c",
   "metadata": {},
   "outputs": [
    {
     "data": {
      "text/plain": [
       "array(['never', 'sometimes', nan, 'often'], dtype=object)"
      ]
     },
     "execution_count": 31,
     "metadata": {},
     "output_type": "execute_result"
    }
   ],
   "source": [
    "df['drugs'].unique()"
   ]
  },
  {
   "cell_type": "markdown",
   "id": "21e62055-2bc8-4b91-95d0-91b9f4c94ffa",
   "metadata": {},
   "source": [
    "From this column we will get weather the person wants kids or not. Then we will drop it."
   ]
  },
  {
   "cell_type": "code",
   "execution_count": 32,
   "id": "2938cb41-425a-4a75-8e50-4665f853fd5d",
   "metadata": {},
   "outputs": [],
   "source": [
    "# df['has_kids'] = [nan if pd.isna(s) else True if ('has kids' in s or 'has a kid' in s) else False for s in df['offspring']]"
   ]
  },
  {
   "cell_type": "code",
   "execution_count": 33,
   "id": "bb44f77c-f424-437a-b034-878b101333e7",
   "metadata": {},
   "outputs": [],
   "source": [
    "# df.drop('has_kids', axis=1, inplace=True)"
   ]
  },
  {
   "cell_type": "code",
   "execution_count": 34,
   "id": "d0b457b7-c51f-4324-a8a8-97c588939263",
   "metadata": {},
   "outputs": [],
   "source": [
    "# sns.countplot(x=df['has_kids'], hue=df['has_kids'], legend=False)"
   ]
  },
  {
   "cell_type": "code",
   "execution_count": 35,
   "id": "04367210-e007-4216-93be-b4ee9a67d06f",
   "metadata": {},
   "outputs": [
    {
     "data": {
      "text/plain": [
       "Index(['age', 'body_type', 'drinks', 'drugs', 'height', 'income', 'job',\n",
       "       'orientation', 'religion', 'smokes', 'status'],\n",
       "      dtype='object')"
      ]
     },
     "execution_count": 35,
     "metadata": {},
     "output_type": "execute_result"
    }
   ],
   "source": [
    "df.columns"
   ]
  },
  {
   "cell_type": "code",
   "execution_count": 36,
   "id": "c8469a96-a38c-4fc4-9f08-e3fcc5980d09",
   "metadata": {},
   "outputs": [
    {
     "data": {
      "text/plain": [
       "array(['sometimes', 'no', nan, 'when drinking', 'yes', 'trying to quit'],\n",
       "      dtype=object)"
      ]
     },
     "execution_count": 36,
     "metadata": {},
     "output_type": "execute_result"
    }
   ],
   "source": [
    "df['smokes'].unique()"
   ]
  },
  {
   "cell_type": "markdown",
   "id": "887a993c-c6f5-439e-ac7e-9457907168d9",
   "metadata": {},
   "source": [
    "You either smoke or not."
   ]
  },
  {
   "cell_type": "code",
   "execution_count": 37,
   "id": "bce4abdd-85e8-4160-a540-c6e936a40374",
   "metadata": {},
   "outputs": [
    {
     "data": {
      "text/plain": [
       "array([True, False, nan], dtype=object)"
      ]
     },
     "execution_count": 37,
     "metadata": {},
     "output_type": "execute_result"
    }
   ],
   "source": [
    "df.loc[:, 'smokes'] = [nan if pd.isna(s) else (False if s == 'no' else True) for s in df['smokes']]\n",
    "df['smokes'].unique()"
   ]
  },
  {
   "cell_type": "code",
   "execution_count": 38,
   "id": "f9fd592f-309e-4907-bc1e-313c59139cf3",
   "metadata": {},
   "outputs": [
    {
     "data": {
      "image/png": "[encoded data removed]",
      "text/plain": [
       "<Figure size 640x480 with 1 Axes>"
      ]
     },
     "metadata": {},
     "output_type": "display_data"
    }
   ],
   "source": [
    "sns.countplot(x=df['smokes'], hue=df['smokes'], legend=False);"
   ]
  },
  {
   "cell_type": "code",
   "execution_count": 39,
   "id": "d562d6f7-f5eb-4c63-ab25-45f94d2e25ec",
   "metadata": {},
   "outputs": [
    {
     "data": {
      "text/plain": [
       "Index(['age', 'body_type', 'drinks', 'drugs', 'height', 'income', 'job',\n",
       "       'orientation', 'religion', 'smokes', 'status'],\n",
       "      dtype='object')"
      ]
     },
     "execution_count": 39,
     "metadata": {},
     "output_type": "execute_result"
    }
   ],
   "source": [
    "df.columns"
   ]
  },
  {
   "cell_type": "code",
   "execution_count": 40,
   "id": "6a545f9d-29b7-474f-8555-ac2c4c821b8a",
   "metadata": {},
   "outputs": [
    {
     "data": {
      "text/plain": [
       "array(['never', 'sometimes', nan, 'often'], dtype=object)"
      ]
     },
     "execution_count": 40,
     "metadata": {},
     "output_type": "execute_result"
    }
   ],
   "source": [
    "df['drugs'].unique()"
   ]
  },
  {
   "cell_type": "markdown",
   "id": "9cec4c76-a613-4042-b4d9-b1de862a5cc2",
   "metadata": {},
   "source": [
    "Again, you either use drugs or not."
   ]
  },
  {
   "cell_type": "code",
   "execution_count": 41,
   "id": "035f3016-77b7-4fc7-ba21-1f9a85c25859",
   "metadata": {},
   "outputs": [
    {
     "data": {
      "text/plain": [
       "array([False, True, nan], dtype=object)"
      ]
     },
     "execution_count": 41,
     "metadata": {},
     "output_type": "execute_result"
    }
   ],
   "source": [
    "df.loc[:, 'drugs'] = [nan if pd.isna(s) else (False if s == 'never' else True) for s in df['drugs']]\n",
    "df['drugs'].unique()"
   ]
  },
  {
   "cell_type": "code",
   "execution_count": 42,
   "id": "ccb63ca7-d559-4582-8816-4aca7b23a8d9",
   "metadata": {},
   "outputs": [
    {
     "data": {
      "image/png": "[encoded data removed]",
      "text/plain": [
       "<Figure size 640x480 with 1 Axes>"
      ]
     },
     "metadata": {},
     "output_type": "display_data"
    }
   ],
   "source": [
    "sns.countplot(x=df['drugs'], hue=df['drugs'], legend=False);"
   ]
  },
  {
   "cell_type": "code",
   "execution_count": 43,
   "id": "3a3ee6fa-70ed-42f5-be31-17520315f887",
   "metadata": {},
   "outputs": [
    {
     "data": {
      "text/plain": [
       "Index(['age', 'body_type', 'drinks', 'drugs', 'height', 'income', 'job',\n",
       "       'orientation', 'religion', 'smokes', 'status'],\n",
       "      dtype='object')"
      ]
     },
     "execution_count": 43,
     "metadata": {},
     "output_type": "execute_result"
    }
   ],
   "source": [
    "df.columns"
   ]
  },
  {
   "cell_type": "code",
   "execution_count": 44,
   "id": "43ada61f-6f88-4cfc-94b9-1c6e3bbd7076",
   "metadata": {},
   "outputs": [],
   "source": [
    "df.loc[:, 'income'] = [i if i > -1 else nan for i in df['income']]"
   ]
  },
  {
   "cell_type": "code",
   "execution_count": 45,
   "id": "a0f8f4fd-6a8b-4ec9-bfae-124ea09233ab",
   "metadata": {},
   "outputs": [],
   "source": [
    "nulls = df.isnull().sum()"
   ]
  },
  {
   "cell_type": "code",
   "execution_count": 46,
   "id": "171e6d35-5c30-475a-99bf-fbc472b76bf0",
   "metadata": {},
   "outputs": [
    {
     "data": {
      "text/plain": [
       "age               0\n",
       "body_type       848\n",
       "drinks          502\n",
       "drugs          2299\n",
       "height            0\n",
       "income         7701\n",
       "job            1331\n",
       "orientation       0\n",
       "religion       3253\n",
       "smokes          918\n",
       "status            0\n",
       "dtype: int64"
      ]
     },
     "execution_count": 46,
     "metadata": {},
     "output_type": "execute_result"
    }
   ],
   "source": [
    "nulls"
   ]
  },
  {
   "cell_type": "code",
   "execution_count": 47,
   "id": "679189a3-d7f0-4e7e-a7c2-1fac21ea25e8",
   "metadata": {},
   "outputs": [
    {
     "data": {
      "text/plain": [
       "body_type     8.913181\n",
       "drinks        5.276435\n",
       "drugs        24.164389\n",
       "income       80.943872\n",
       "job          13.989910\n",
       "religion     34.191717\n",
       "smokes        9.648938\n",
       "dtype: float64"
      ]
     },
     "execution_count": 47,
     "metadata": {},
     "output_type": "execute_result"
    }
   ],
   "source": [
    "nulls[nulls > 0] * 100 / len(df)"
   ]
  },
  {
   "cell_type": "code",
   "execution_count": 48,
   "id": "0c7a93aa-52e1-424f-b699-9292eb20e3d9",
   "metadata": {},
   "outputs": [
    {
     "data": {
      "text/html": [
       "<div>\n",
       "<style scoped>\n",
       "    .dataframe tbody tr th:only-of-type {\n",
       "        vertical-align: middle;\n",
       "    }\n",
       "\n",
       "    .dataframe tbody tr th {\n",
       "        vertical-align: top;\n",
       "    }\n",
       "\n",
       "    .dataframe thead th {\n",
       "        text-align: right;\n",
       "    }\n",
       "</style>\n",
       "<table border=\"1\" class=\"dataframe\">\n",
       "  <thead>\n",
       "    <tr style=\"text-align: right;\">\n",
       "      <th></th>\n",
       "      <th>age</th>\n",
       "      <th>body_type</th>\n",
       "      <th>drinks</th>\n",
       "      <th>drugs</th>\n",
       "      <th>height</th>\n",
       "      <th>income</th>\n",
       "      <th>job</th>\n",
       "      <th>orientation</th>\n",
       "      <th>religion</th>\n",
       "      <th>smokes</th>\n",
       "      <th>status</th>\n",
       "    </tr>\n",
       "  </thead>\n",
       "  <tbody>\n",
       "    <tr>\n",
       "      <th>0</th>\n",
       "      <td>22.0</td>\n",
       "      <td>large</td>\n",
       "      <td>socially</td>\n",
       "      <td>False</td>\n",
       "      <td>75.0</td>\n",
       "      <td>NaN</td>\n",
       "      <td>transportation</td>\n",
       "      <td>straight</td>\n",
       "      <td>atheism</td>\n",
       "      <td>True</td>\n",
       "      <td>single</td>\n",
       "    </tr>\n",
       "    <tr>\n",
       "      <th>1</th>\n",
       "      <td>35.0</td>\n",
       "      <td>average</td>\n",
       "      <td>often</td>\n",
       "      <td>True</td>\n",
       "      <td>70.0</td>\n",
       "      <td>80000.0</td>\n",
       "      <td>hospitality / travel</td>\n",
       "      <td>straight</td>\n",
       "      <td>atheism</td>\n",
       "      <td>False</td>\n",
       "      <td>single</td>\n",
       "    </tr>\n",
       "    <tr>\n",
       "      <th>2</th>\n",
       "      <td>38.0</td>\n",
       "      <td>skinny</td>\n",
       "      <td>socially</td>\n",
       "      <td>NaN</td>\n",
       "      <td>68.0</td>\n",
       "      <td>NaN</td>\n",
       "      <td>NaN</td>\n",
       "      <td>straight</td>\n",
       "      <td>NaN</td>\n",
       "      <td>False</td>\n",
       "      <td>available</td>\n",
       "    </tr>\n",
       "    <tr>\n",
       "      <th>3</th>\n",
       "      <td>23.0</td>\n",
       "      <td>skinny</td>\n",
       "      <td>socially</td>\n",
       "      <td>NaN</td>\n",
       "      <td>71.0</td>\n",
       "      <td>20000.0</td>\n",
       "      <td>student</td>\n",
       "      <td>straight</td>\n",
       "      <td>NaN</td>\n",
       "      <td>False</td>\n",
       "      <td>single</td>\n",
       "    </tr>\n",
       "    <tr>\n",
       "      <th>4</th>\n",
       "      <td>29.0</td>\n",
       "      <td>fit</td>\n",
       "      <td>socially</td>\n",
       "      <td>False</td>\n",
       "      <td>66.0</td>\n",
       "      <td>NaN</td>\n",
       "      <td>artistic / musical / writer</td>\n",
       "      <td>straight</td>\n",
       "      <td>NaN</td>\n",
       "      <td>False</td>\n",
       "      <td>single</td>\n",
       "    </tr>\n",
       "  </tbody>\n",
       "</table>\n",
       "</div>"
      ],
      "text/plain": [
       "    age body_type    drinks  drugs  height   income  \\\n",
       "0  22.0     large  socially  False    75.0      NaN   \n",
       "1  35.0   average     often   True    70.0  80000.0   \n",
       "2  38.0    skinny  socially    NaN    68.0      NaN   \n",
       "3  23.0    skinny  socially    NaN    71.0  20000.0   \n",
       "4  29.0       fit  socially  False    66.0      NaN   \n",
       "\n",
       "                           job orientation religion smokes     status  \n",
       "0               transportation    straight  atheism   True     single  \n",
       "1         hospitality / travel    straight  atheism  False     single  \n",
       "2                          NaN    straight      NaN  False  available  \n",
       "3                      student    straight      NaN  False     single  \n",
       "4  artistic / musical / writer    straight      NaN  False     single  "
      ]
     },
     "execution_count": 48,
     "metadata": {},
     "output_type": "execute_result"
    }
   ],
   "source": [
    "df.head()"
   ]
  },
  {
   "cell_type": "code",
   "execution_count": 49,
   "id": "501a70ad-b422-4118-92b6-9ffa5bdf653c",
   "metadata": {},
   "outputs": [
    {
     "data": {
      "text/plain": [
       "array(['transportation', 'hospitality / travel', nan, 'student',\n",
       "       'artistic / musical / writer', 'computer / hardware / software',\n",
       "       'banking / financial / real estate', 'entertainment / media',\n",
       "       'sales / marketing / biz dev', 'other', 'medicine / health',\n",
       "       'science / tech / engineering', 'executive / management',\n",
       "       'education / academia', 'clerical / administrative',\n",
       "       'construction / craftsmanship', 'rather not say',\n",
       "       'political / government', 'law / legal services', 'unemployed',\n",
       "       'military', 'retired'], dtype=object)"
      ]
     },
     "execution_count": 49,
     "metadata": {},
     "output_type": "execute_result"
    }
   ],
   "source": [
    "df['job'].unique()"
   ]
  },
  {
   "cell_type": "code",
   "execution_count": 50,
   "id": "8fcefeca-42f4-41b9-aa9e-19512d1af208",
   "metadata": {},
   "outputs": [
    {
     "name": "stderr",
     "output_type": "stream",
     "text": [
      "/var/folders/qp/9j67xhhx3z1_9y5zm_dghclw0000gn/T/ipykernel_17189/248383279.py:1: SettingWithCopyWarning: \n",
      "A value is trying to be set on a copy of a slice from a DataFrame.\n",
      "Try using .loc[row_indexer,col_indexer] = value instead\n",
      "\n",
      "See the caveats in the documentation: https://pandas.pydata.org/pandas-docs/stable/user_guide/indexing.html#returning-a-view-versus-a-copy\n",
      "  df['student'] = [nan if pd.isna(s) else (True if s == 'student' else False) for s in df['job']]\n"
     ]
    }
   ],
   "source": [
    "df['student'] = [nan if pd.isna(s) else (True if s == 'student' else False) for s in df['job']]"
   ]
  },
  {
   "cell_type": "code",
   "execution_count": 51,
   "id": "11f39dda-cb6c-40b7-8bc4-b7fe8777ef64",
   "metadata": {},
   "outputs": [
    {
     "data": {
      "text/html": [
       "<div>\n",
       "<style scoped>\n",
       "    .dataframe tbody tr th:only-of-type {\n",
       "        vertical-align: middle;\n",
       "    }\n",
       "\n",
       "    .dataframe tbody tr th {\n",
       "        vertical-align: top;\n",
       "    }\n",
       "\n",
       "    .dataframe thead th {\n",
       "        text-align: right;\n",
       "    }\n",
       "</style>\n",
       "<table border=\"1\" class=\"dataframe\">\n",
       "  <thead>\n",
       "    <tr style=\"text-align: right;\">\n",
       "      <th></th>\n",
       "      <th>age</th>\n",
       "      <th>body_type</th>\n",
       "      <th>drinks</th>\n",
       "      <th>drugs</th>\n",
       "      <th>height</th>\n",
       "      <th>income</th>\n",
       "      <th>job</th>\n",
       "      <th>orientation</th>\n",
       "      <th>religion</th>\n",
       "      <th>smokes</th>\n",
       "      <th>status</th>\n",
       "      <th>student</th>\n",
       "    </tr>\n",
       "  </thead>\n",
       "  <tbody>\n",
       "    <tr>\n",
       "      <th>0</th>\n",
       "      <td>22.0</td>\n",
       "      <td>large</td>\n",
       "      <td>socially</td>\n",
       "      <td>False</td>\n",
       "      <td>75.0</td>\n",
       "      <td>NaN</td>\n",
       "      <td>transportation</td>\n",
       "      <td>straight</td>\n",
       "      <td>atheism</td>\n",
       "      <td>True</td>\n",
       "      <td>single</td>\n",
       "      <td>False</td>\n",
       "    </tr>\n",
       "    <tr>\n",
       "      <th>1</th>\n",
       "      <td>35.0</td>\n",
       "      <td>average</td>\n",
       "      <td>often</td>\n",
       "      <td>True</td>\n",
       "      <td>70.0</td>\n",
       "      <td>80000.0</td>\n",
       "      <td>hospitality / travel</td>\n",
       "      <td>straight</td>\n",
       "      <td>atheism</td>\n",
       "      <td>False</td>\n",
       "      <td>single</td>\n",
       "      <td>False</td>\n",
       "    </tr>\n",
       "    <tr>\n",
       "      <th>2</th>\n",
       "      <td>38.0</td>\n",
       "      <td>skinny</td>\n",
       "      <td>socially</td>\n",
       "      <td>NaN</td>\n",
       "      <td>68.0</td>\n",
       "      <td>NaN</td>\n",
       "      <td>NaN</td>\n",
       "      <td>straight</td>\n",
       "      <td>NaN</td>\n",
       "      <td>False</td>\n",
       "      <td>available</td>\n",
       "      <td>NaN</td>\n",
       "    </tr>\n",
       "    <tr>\n",
       "      <th>3</th>\n",
       "      <td>23.0</td>\n",
       "      <td>skinny</td>\n",
       "      <td>socially</td>\n",
       "      <td>NaN</td>\n",
       "      <td>71.0</td>\n",
       "      <td>20000.0</td>\n",
       "      <td>student</td>\n",
       "      <td>straight</td>\n",
       "      <td>NaN</td>\n",
       "      <td>False</td>\n",
       "      <td>single</td>\n",
       "      <td>True</td>\n",
       "    </tr>\n",
       "    <tr>\n",
       "      <th>4</th>\n",
       "      <td>29.0</td>\n",
       "      <td>fit</td>\n",
       "      <td>socially</td>\n",
       "      <td>False</td>\n",
       "      <td>66.0</td>\n",
       "      <td>NaN</td>\n",
       "      <td>artistic / musical / writer</td>\n",
       "      <td>straight</td>\n",
       "      <td>NaN</td>\n",
       "      <td>False</td>\n",
       "      <td>single</td>\n",
       "      <td>False</td>\n",
       "    </tr>\n",
       "  </tbody>\n",
       "</table>\n",
       "</div>"
      ],
      "text/plain": [
       "    age body_type    drinks  drugs  height   income  \\\n",
       "0  22.0     large  socially  False    75.0      NaN   \n",
       "1  35.0   average     often   True    70.0  80000.0   \n",
       "2  38.0    skinny  socially    NaN    68.0      NaN   \n",
       "3  23.0    skinny  socially    NaN    71.0  20000.0   \n",
       "4  29.0       fit  socially  False    66.0      NaN   \n",
       "\n",
       "                           job orientation religion smokes     status student  \n",
       "0               transportation    straight  atheism   True     single   False  \n",
       "1         hospitality / travel    straight  atheism  False     single   False  \n",
       "2                          NaN    straight      NaN  False  available     NaN  \n",
       "3                      student    straight      NaN  False     single    True  \n",
       "4  artistic / musical / writer    straight      NaN  False     single   False  "
      ]
     },
     "execution_count": 51,
     "metadata": {},
     "output_type": "execute_result"
    }
   ],
   "source": [
    "df.head()"
   ]
  }
 ],
 "metadata": {
  "kernelspec": {
   "display_name": "Python 3 (ipykernel)",
   "language": "python",
   "name": "python3"
  },
  "language_info": {
   "codemirror_mode": {
    "name": "ipython",
    "version": 3
   },
   "file_extension": ".py",
   "mimetype": "text/x-python",
   "name": "python",
   "nbconvert_exporter": "python",
   "pygments_lexer": "ipython3",
   "version": "3.11.7"
  }
 },
 "nbformat": 4,
 "nbformat_minor": 5
}
