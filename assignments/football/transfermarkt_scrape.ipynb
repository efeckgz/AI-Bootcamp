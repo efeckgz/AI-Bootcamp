{
 "cells": [
  {
   "cell_type": "markdown",
   "id": "89afed91-d1a2-4cda-a440-0d302baf108d",
   "metadata": {},
   "source": [
    "# Transfermarkt Dataset Notebook\n",
    "\n",
    "This data includes team squad value data from the 5 big leagues of European football and the Turkish super league. The data was scraped from transfermarkt.com website. The exact links can be found in the notebook. The data is available in csv format.\n",
    "\n",
    "## Data dictionary\n",
    "\n",
    "- **Team Name:** The name of the team\n",
    "- **League:** The league the team belongs to\n",
    "- **Squad Value:** The squad value of the team in million Euros. Teams with above 1bn in squad value are represented in 1000+ million euros."
   ]
  },
  {
   "cell_type": "code",
   "execution_count": 1,
   "id": "d7959612-8c70-48f1-ae63-8813c8dc26d2",
   "metadata": {},
   "outputs": [],
   "source": [
    "import pandas as pd\n",
    "from requests import get\n",
    "from bs4 import BeautifulSoup as bs\n",
    "import re\n",
    "\n",
    "header = {\n",
    "    'User-Agent': 'Mozilla/5.0 (Macintosh; Intel Mac OS X 10_15_7) AppleWebKit/605.1.15 (KHTML, like Gecko) Version/17.4.1 Safari/605.1.15'\n",
    "}"
   ]
  },
  {
   "cell_type": "code",
   "execution_count": 9,
   "id": "9b8858ae-b2e7-4671-ad6b-d9bb5c957d50",
   "metadata": {},
   "outputs": [],
   "source": [
    "def parse_transfermarkt(url):\n",
    "    response = get(url, headers=header)\n",
    "    soup = bs(response.text, 'html.parser')\n",
    "    table = soup.find('table', { 'class': 'items' })\n",
    "\n",
    "    teamtags = table.find_all('img', {'class': 'tiny_wappen'})\n",
    "    teamnames = []\n",
    "    for tag in teamtags:\n",
    "        name = tag.attrs['title']\n",
    "        teamnames.append(str(name))\n",
    "\n",
    "    leaguenames = []\n",
    "    leaguetags = table.find_all('td', {'class': ''})\n",
    "    for tag in leaguetags:\n",
    "        leaguenames.append(str(tag.contents[0]))\n",
    "    leaguenames = leaguenames[1:] # The first tag is useless\n",
    "\n",
    "    teamvalues = []\n",
    "    valuetags = table.find_all('td', {'class': 'rechts hauptlink'})\n",
    "    for tag in valuetags:\n",
    "        tag = tag.contents[0]\n",
    "        atag = tag.find('a')\n",
    "        price = str(atag.contents[0])\n",
    "        pat = '[0-9]+\\.?[0-9]*'\n",
    "        price_millions = float(re.findall(pat, price)[0])\n",
    "        if 'bn' in price:\n",
    "            price_millions *= 1000\n",
    "        teamvalues.append(price_millions)\n",
    "\n",
    "    df = pd.DataFrame({\n",
    "        'Team Name': teamnames,\n",
    "        'League': leaguenames,\n",
    "        'Squad Value': teamvalues\n",
    "    })\n",
    "\n",
    "    return df"
   ]
  },
  {
   "cell_type": "code",
   "execution_count": 10,
   "id": "3f722186-d84d-4aee-bb49-1b8c19fc0611",
   "metadata": {},
   "outputs": [],
   "source": [
    "stsl = 'https://www.transfermarkt.com/super-lig/marktwerteverein/wettbewerb/TR1/stichtag/2024-04-15'\n",
    "epl = 'https://www.transfermarkt.com/premier-league/marktwerteverein/wettbewerb/GB1'\n",
    "laliga = 'https://www.transfermarkt.com/laliga/marktwerteverein/wettbewerb/ES1'\n",
    "seriea = 'https://www.transfermarkt.com/serie-a/marktwerteverein/wettbewerb/IT1'\n",
    "bundesliga = 'https://www.transfermarkt.com/bundesliga/marktwerteverein/wettbewerb/L1'\n",
    "ligueone = 'https://www.transfermarkt.com/ligue-1/marktwerteverein/wettbewerb/FR1'\n",
    "\n",
    "leagues = [stsl, epl, laliga, seriea, bundesliga, ligueone]"
   ]
  },
  {
   "cell_type": "code",
   "execution_count": 11,
   "id": "61bb5cc6-c37c-4a07-950d-92ec87a9effa",
   "metadata": {},
   "outputs": [
    {
     "data": {
      "text/html": [
       "<div>\n",
       "<style scoped>\n",
       "    .dataframe tbody tr th:only-of-type {\n",
       "        vertical-align: middle;\n",
       "    }\n",
       "\n",
       "    .dataframe tbody tr th {\n",
       "        vertical-align: top;\n",
       "    }\n",
       "\n",
       "    .dataframe thead th {\n",
       "        text-align: right;\n",
       "    }\n",
       "</style>\n",
       "<table border=\"1\" class=\"dataframe\">\n",
       "  <thead>\n",
       "    <tr style=\"text-align: right;\">\n",
       "      <th></th>\n",
       "      <th>Team Name</th>\n",
       "      <th>League</th>\n",
       "      <th>Squad Value</th>\n",
       "    </tr>\n",
       "  </thead>\n",
       "  <tbody>\n",
       "    <tr>\n",
       "      <th>18</th>\n",
       "      <td>FC Empoli</td>\n",
       "      <td>Serie A</td>\n",
       "      <td>68.60</td>\n",
       "    </tr>\n",
       "    <tr>\n",
       "      <th>4</th>\n",
       "      <td>Atalanta BC</td>\n",
       "      <td>Serie A</td>\n",
       "      <td>349.60</td>\n",
       "    </tr>\n",
       "    <tr>\n",
       "      <th>11</th>\n",
       "      <td>CA Osasuna</td>\n",
       "      <td>LaLiga</td>\n",
       "      <td>99.30</td>\n",
       "    </tr>\n",
       "    <tr>\n",
       "      <th>18</th>\n",
       "      <td>Sheffield United</td>\n",
       "      <td>Premier League</td>\n",
       "      <td>144.20</td>\n",
       "    </tr>\n",
       "    <tr>\n",
       "      <th>9</th>\n",
       "      <td>Kayserispor</td>\n",
       "      <td>Süper Lig</td>\n",
       "      <td>29.35</td>\n",
       "    </tr>\n",
       "    <tr>\n",
       "      <th>17</th>\n",
       "      <td>FC Metz</td>\n",
       "      <td>Ligue 1</td>\n",
       "      <td>45.70</td>\n",
       "    </tr>\n",
       "    <tr>\n",
       "      <th>4</th>\n",
       "      <td>VfB Stuttgart</td>\n",
       "      <td>Bundesliga</td>\n",
       "      <td>277.90</td>\n",
       "    </tr>\n",
       "    <tr>\n",
       "      <th>15</th>\n",
       "      <td>Le Havre AC</td>\n",
       "      <td>Ligue 1</td>\n",
       "      <td>61.50</td>\n",
       "    </tr>\n",
       "    <tr>\n",
       "      <th>9</th>\n",
       "      <td>West Ham United</td>\n",
       "      <td>Premier League</td>\n",
       "      <td>446.60</td>\n",
       "    </tr>\n",
       "    <tr>\n",
       "      <th>8</th>\n",
       "      <td>Borussia Mönchengladbach</td>\n",
       "      <td>Bundesliga</td>\n",
       "      <td>185.23</td>\n",
       "    </tr>\n",
       "  </tbody>\n",
       "</table>\n",
       "</div>"
      ],
      "text/plain": [
       "                   Team Name          League  Squad Value\n",
       "18                 FC Empoli         Serie A        68.60\n",
       "4                Atalanta BC         Serie A       349.60\n",
       "11                CA Osasuna          LaLiga        99.30\n",
       "18          Sheffield United  Premier League       144.20\n",
       "9                Kayserispor       Süper Lig        29.35\n",
       "17                   FC Metz         Ligue 1        45.70\n",
       "4              VfB Stuttgart      Bundesliga       277.90\n",
       "15               Le Havre AC         Ligue 1        61.50\n",
       "9            West Ham United  Premier League       446.60\n",
       "8   Borussia Mönchengladbach      Bundesliga       185.23"
      ]
     },
     "execution_count": 11,
     "metadata": {},
     "output_type": "execute_result"
    }
   ],
   "source": [
    "dfs = [parse_transfermarkt(league) for league in leagues]\n",
    "df = pd.concat(dfs)\n",
    "df.sample(10)"
   ]
  },
  {
   "cell_type": "markdown",
   "id": "472e9dc2-18bc-45bb-8526-fcb50f216e79",
   "metadata": {},
   "source": [
    "Uncomment the following line to save the data as csv."
   ]
  },
  {
   "cell_type": "code",
   "execution_count": 15,
   "id": "c637dc4d-8458-456d-b15e-b0ec8cb8aaca",
   "metadata": {},
   "outputs": [],
   "source": [
    "# df.to_csv('transfermarkt.csv', index=False)"
   ]
  },
  {
   "cell_type": "code",
   "execution_count": null,
   "id": "0780b951-f2b1-440f-b5f3-ae8b01bd904f",
   "metadata": {},
   "outputs": [],
   "source": []
  }
 ],
 "metadata": {
  "kernelspec": {
   "display_name": "Python 3 (ipykernel)",
   "language": "python",
   "name": "python3"
  },
  "language_info": {
   "codemirror_mode": {
    "name": "ipython",
    "version": 3
   },
   "file_extension": ".py",
   "mimetype": "text/x-python",
   "name": "python",
   "nbconvert_exporter": "python",
   "pygments_lexer": "ipython3",
   "version": "3.11.6"
  }
 },
 "nbformat": 4,
 "nbformat_minor": 5
}
