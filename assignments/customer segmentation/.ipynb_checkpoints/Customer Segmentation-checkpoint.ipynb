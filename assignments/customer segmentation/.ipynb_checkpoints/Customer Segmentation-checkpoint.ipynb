{
 "cells": [
  {
   "cell_type": "markdown",
   "id": "56ff2532-c97d-40fb-b850-93e7c16daa5d",
   "metadata": {},
   "source": [
    "# Customer Segmentation - Clustering\n",
    "\n",
    "Business Objective\n",
    "\n",
    "A company has asked its data science team to segment its customer base in order to help targeted marketing and understand their buying habits.\n",
    "\n",
    "Data Understanding\n",
    "The dataset resembles a real dataset and has many of the same challenges.\n",
    "\n",
    "Objectives:\n",
    "\n",
    "- The first step for this project is to import the dataset and create three data\n",
    "frames\n",
    "- Customer\n",
    "- Products\n",
    "- Orders\n",
    "- Insert the three data frames in a SQLite database\n",
    "- Import the tables from the database and merge them into a single data frame\n",
    "- Segment the customers using KMeans and highlight the characteristics of the segments\n",
    "- Selection of number of customers segments should be justified\n",
    "- Create RFM table ( Recency, Frequency and Money)"
   ]
  }
 ],
 "metadata": {
  "kernelspec": {
   "display_name": "Python 3 (ipykernel)",
   "language": "python",
   "name": "python3"
  },
  "language_info": {
   "codemirror_mode": {
    "name": "ipython",
    "version": 3
   },
   "file_extension": ".py",
   "mimetype": "text/x-python",
   "name": "python",
   "nbconvert_exporter": "python",
   "pygments_lexer": "ipython3",
   "version": "3.11.7"
  }
 },
 "nbformat": 4,
 "nbformat_minor": 5
}
