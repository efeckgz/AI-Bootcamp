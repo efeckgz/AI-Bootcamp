{
 "cells": [
  {
   "cell_type": "markdown",
   "id": "2368bcc9-bb3f-4e6c-829d-7cab0dd94691",
   "metadata": {},
   "source": [
    "# Day 6 - Natural Language Processing"
   ]
  },
  {
   "cell_type": "code",
   "execution_count": 1,
   "id": "395ba6ac-25d6-4a10-8bb8-8563e3a85018",
   "metadata": {},
   "outputs": [],
   "source": [
    "from nltk import download"
   ]
  },
  {
   "cell_type": "code",
   "execution_count": 2,
   "id": "876c377f-3ea2-40b0-9382-0482f7223c97",
   "metadata": {},
   "outputs": [
    {
     "name": "stderr",
     "output_type": "stream",
     "text": [
      "[nltk_data] Downloading package punkt to\n",
      "[nltk_data]     /Users/efeacikgoz/nltk_data...\n",
      "[nltk_data]   Package punkt is already up-to-date!\n",
      "[nltk_data] Downloading package wordnet to\n",
      "[nltk_data]     /Users/efeacikgoz/nltk_data...\n",
      "[nltk_data]   Package wordnet is already up-to-date!\n",
      "[nltk_data] Downloading package averaged_perceptron_tagger to\n",
      "[nltk_data]     /Users/efeacikgoz/nltk_data...\n",
      "[nltk_data]   Package averaged_perceptron_tagger is already up-to-\n",
      "[nltk_data]       date!\n"
     ]
    },
    {
     "data": {
      "text/plain": [
       "True"
      ]
     },
     "execution_count": 2,
     "metadata": {},
     "output_type": "execute_result"
    }
   ],
   "source": [
    "download('punkt')\n",
    "download('wordnet')\n",
    "download('averaged_perceptron_tagger')"
   ]
  },
  {
   "cell_type": "code",
   "execution_count": 3,
   "id": "babe7f4b-fa67-4c1b-92e3-0239a7b5c2a0",
   "metadata": {},
   "outputs": [],
   "source": [
    "text =\"Yaylaya gitmişti yayla zamanı, Gülizar döndü de Döndü dönmedi.\""
   ]
  },
  {
   "cell_type": "code",
   "execution_count": 4,
   "id": "ec780634-2459-4f8d-9378-badc4c97ee28",
   "metadata": {},
   "outputs": [
    {
     "data": {
      "text/plain": [
       "['Yaylaya',\n",
       " 'gitmişti',\n",
       " 'yayla',\n",
       " 'zamanı,',\n",
       " 'Gülizar',\n",
       " 'döndü',\n",
       " 'de',\n",
       " 'Döndü',\n",
       " 'dönmedi.']"
      ]
     },
     "execution_count": 4,
     "metadata": {},
     "output_type": "execute_result"
    }
   ],
   "source": [
    "text.split()"
   ]
  },
  {
   "cell_type": "markdown",
   "id": "7fcb47d1-f29c-4d20-9de0-7b03cc847e66",
   "metadata": {},
   "source": [
    "## Tokenize - split the words of a text into a python array"
   ]
  },
  {
   "cell_type": "markdown",
   "id": "9146108d-1436-4f0d-a47d-9c77fee9b13f",
   "metadata": {},
   "source": [
    "sent_tokenize tokenizes sentences."
   ]
  },
  {
   "cell_type": "code",
   "execution_count": 5,
   "id": "68fe123b-f335-4118-950d-6ab8bfbc5fb9",
   "metadata": {},
   "outputs": [],
   "source": [
    "from nltk.tokenize import sent_tokenize as st"
   ]
  },
  {
   "cell_type": "code",
   "execution_count": 6,
   "id": "0f33a911-972f-4860-9821-2ef9d95b1625",
   "metadata": {},
   "outputs": [],
   "source": [
    "sentence = \"Welcome readers. I hope you find it interesting. Please do reply.\""
   ]
  },
  {
   "cell_type": "code",
   "execution_count": 7,
   "id": "7cf4cba6-4364-4330-9c09-ae23dc2974de",
   "metadata": {},
   "outputs": [
    {
     "data": {
      "text/plain": [
       "['Welcome readers.', 'I hope you find it interesting.', 'Please do reply.']"
      ]
     },
     "execution_count": 7,
     "metadata": {},
     "output_type": "execute_result"
    }
   ],
   "source": [
    "st(sentence)"
   ]
  },
  {
   "cell_type": "code",
   "execution_count": 8,
   "id": "b1eb4807-2c41-4ea6-9bbc-59f98b0c9e1f",
   "metadata": {},
   "outputs": [],
   "source": [
    "from nltk.tokenize import word_tokenize as wt"
   ]
  },
  {
   "cell_type": "code",
   "execution_count": 9,
   "id": "aa77a8c2-d089-44f1-b0fa-5b9fbe2a717a",
   "metadata": {},
   "outputs": [
    {
     "data": {
      "text/plain": [
       "['Welcome',\n",
       " 'readers',\n",
       " '.',\n",
       " 'I',\n",
       " 'hope',\n",
       " 'you',\n",
       " 'find',\n",
       " 'it',\n",
       " 'interesting',\n",
       " '.',\n",
       " 'Please',\n",
       " 'do',\n",
       " 'reply',\n",
       " '.']"
      ]
     },
     "execution_count": 9,
     "metadata": {},
     "output_type": "execute_result"
    }
   ],
   "source": [
    "wt(sentence)"
   ]
  },
  {
   "cell_type": "code",
   "execution_count": 10,
   "id": "2bf5af39-24b2-421d-9c96-6c1201c35a87",
   "metadata": {},
   "outputs": [],
   "source": [
    "from nltk.tokenize import TreebankWordTokenizer"
   ]
  },
  {
   "cell_type": "code",
   "execution_count": 11,
   "id": "00ead443-b6a3-4418-8b1a-75fcbcec3cca",
   "metadata": {},
   "outputs": [
    {
     "data": {
      "text/plain": [
       "['Welcome',\n",
       " 'readers.',\n",
       " 'I',\n",
       " 'hope',\n",
       " 'you',\n",
       " 'find',\n",
       " 'it',\n",
       " 'interesting.',\n",
       " 'Please',\n",
       " 'do',\n",
       " 'reply',\n",
       " '.']"
      ]
     },
     "execution_count": 11,
     "metadata": {},
     "output_type": "execute_result"
    }
   ],
   "source": [
    "tknzr = TreebankWordTokenizer()\n",
    "tknzr.tokenize(sentence)"
   ]
  },
  {
   "cell_type": "markdown",
   "id": "5920e735-64d5-445f-b73b-0e23239a930d",
   "metadata": {},
   "source": [
    "This tokenizer does not include the dots in the midlle of the text."
   ]
  },
  {
   "cell_type": "code",
   "execution_count": 12,
   "id": "828c7f67-5041-4eae-9601-dfa5b725211c",
   "metadata": {},
   "outputs": [],
   "source": [
    "from nltk.tokenize import WordPunctTokenizer"
   ]
  },
  {
   "cell_type": "code",
   "execution_count": 13,
   "id": "931d69af-6322-4943-8418-878ad81d3945",
   "metadata": {},
   "outputs": [],
   "source": [
    "tk = WordPunctTokenizer()"
   ]
  },
  {
   "cell_type": "code",
   "execution_count": 14,
   "id": "847a8a9c-8b99-451d-a5bf-973dc68dae9e",
   "metadata": {},
   "outputs": [
    {
     "data": {
      "text/plain": [
       "['Don', \"'\", 't', 'heistate', 'to', 'ask', 'questions', '.']"
      ]
     },
     "execution_count": 14,
     "metadata": {},
     "output_type": "execute_result"
    }
   ],
   "source": [
    "tk.tokenize(\"Don't heistate to ask questions.\")"
   ]
  },
  {
   "cell_type": "code",
   "execution_count": 15,
   "id": "9a09340b-d19c-4295-893a-a45107f43a66",
   "metadata": {},
   "outputs": [],
   "source": [
    "from nltk.tokenize import BlanklineTokenizer"
   ]
  },
  {
   "cell_type": "code",
   "execution_count": 16,
   "id": "a1911af8-7aff-468b-ba0c-5439e43788cd",
   "metadata": {},
   "outputs": [],
   "source": [
    "blt = BlanklineTokenizer()\n",
    "\n",
    "sent = '''\n",
    "Hello miss\n",
    "\n",
    "I saw that I got an unexpected grade from the midterm. I would like to know if I can see my paper.\n",
    "\n",
    "with respect\n",
    "student\n",
    "'''"
   ]
  },
  {
   "cell_type": "code",
   "execution_count": 17,
   "id": "b029e251-6a56-4772-b9b6-c578d7be5185",
   "metadata": {},
   "outputs": [
    {
     "data": {
      "text/plain": [
       "['\\nHello miss',\n",
       " 'I saw that I got an unexpected grade from the midterm. I would like to know if I can see my paper.',\n",
       " 'with respect\\nstudent\\n']"
      ]
     },
     "execution_count": 17,
     "metadata": {},
     "output_type": "execute_result"
    }
   ],
   "source": [
    "blt.tokenize(sent)"
   ]
  },
  {
   "cell_type": "code",
   "execution_count": 18,
   "id": "225d651e-37e1-4d81-abd8-bdc3302c1940",
   "metadata": {},
   "outputs": [],
   "source": [
    "from nltk.tokenize import RegexpTokenizer"
   ]
  },
  {
   "cell_type": "code",
   "execution_count": 19,
   "id": "4494231b-ab61-4a92-982a-2d71fe806161",
   "metadata": {},
   "outputs": [],
   "source": [
    "sent = \"She secures 90.56% in class X. She is a meritorious student.\""
   ]
  },
  {
   "cell_type": "code",
   "execution_count": 20,
   "id": "931dc37e-868b-4bae-b4e5-e45ceb591691",
   "metadata": {},
   "outputs": [],
   "source": [
    "tkn = RegexpTokenizer('[A-Z]\\w+') # Regex that matches all the words that start with a capital letter."
   ]
  },
  {
   "cell_type": "code",
   "execution_count": 21,
   "id": "2c52e168-6095-4d00-86fb-61cfb805596f",
   "metadata": {},
   "outputs": [
    {
     "data": {
      "text/plain": [
       "['She', 'She']"
      ]
     },
     "execution_count": 21,
     "metadata": {},
     "output_type": "execute_result"
    }
   ],
   "source": [
    "tkn.tokenize(sent)"
   ]
  },
  {
   "cell_type": "markdown",
   "id": "e25ceb72-987a-495f-a489-fc3dbc75a159",
   "metadata": {},
   "source": [
    "### Lemma & Stemma\n",
    "\n",
    "Remove the prefixes and find the stem of a word."
   ]
  },
  {
   "cell_type": "markdown",
   "id": "e71917de-3625-46b1-93ae-367298797475",
   "metadata": {},
   "source": [
    "#### Stemma: Remove the prefixes"
   ]
  },
  {
   "cell_type": "code",
   "execution_count": 22,
   "id": "29169680-a2ff-4cdc-a472-ffbfb6967b4c",
   "metadata": {},
   "outputs": [],
   "source": [
    "from nltk.stem import PorterStemmer"
   ]
  },
  {
   "cell_type": "code",
   "execution_count": 23,
   "id": "aec416a5-2cca-4cd6-a23e-9eb425ea9ad1",
   "metadata": {},
   "outputs": [],
   "source": [
    "pr = PorterStemmer()"
   ]
  },
  {
   "cell_type": "code",
   "execution_count": 24,
   "id": "fbdb5118-e322-4248-9332-ebdbcb5a4519",
   "metadata": {},
   "outputs": [
    {
     "data": {
      "text/plain": [
       "'talk'"
      ]
     },
     "execution_count": 24,
     "metadata": {},
     "output_type": "execute_result"
    }
   ],
   "source": [
    "pr.stem('talking')"
   ]
  },
  {
   "cell_type": "markdown",
   "id": "9eb3bd8b-be12-47b6-a096-c2febde0c4e8",
   "metadata": {},
   "source": [
    "Removed the 'ing' prefix."
   ]
  },
  {
   "cell_type": "code",
   "execution_count": 25,
   "id": "5d9a8ec6-87aa-4ea3-923a-306b1564daa2",
   "metadata": {},
   "outputs": [
    {
     "data": {
      "text/plain": [
       "'happi'"
      ]
     },
     "execution_count": 25,
     "metadata": {},
     "output_type": "execute_result"
    }
   ],
   "source": [
    "pr.stem('happiness')"
   ]
  },
  {
   "cell_type": "code",
   "execution_count": 26,
   "id": "d21ae278-a654-4daa-9beb-8f9cae37045b",
   "metadata": {},
   "outputs": [
    {
     "data": {
      "text/plain": [
       "'geliyorlar'"
      ]
     },
     "execution_count": 26,
     "metadata": {},
     "output_type": "execute_result"
    }
   ],
   "source": [
    "pr.stem('geliyorlar')"
   ]
  },
  {
   "cell_type": "markdown",
   "id": "91f0115a-d70d-494a-b5a9-bd024efefb32",
   "metadata": {},
   "source": [
    "Did not work on a turkish word."
   ]
  },
  {
   "cell_type": "code",
   "execution_count": 27,
   "id": "aa257d3d-97b0-4ebc-8786-60f44bc47792",
   "metadata": {},
   "outputs": [
    {
     "data": {
      "text/plain": [
       "'welcom'"
      ]
     },
     "execution_count": 27,
     "metadata": {},
     "output_type": "execute_result"
    }
   ],
   "source": [
    "pr.stem('welcome')"
   ]
  },
  {
   "cell_type": "code",
   "execution_count": 28,
   "id": "5f5272f8-2b74-4df5-a36e-1d85950ccf96",
   "metadata": {},
   "outputs": [],
   "source": [
    "words = [\n",
    "    'houses', 'trains', 'pens', 'cars', 'eaten', 'sick', 'bought', 'selling', 'sized', 'speech', 'rolling', 'marching',\n",
    "    'identification', 'universal', 'beautiful', 'references'\n",
    "]"
   ]
  },
  {
   "cell_type": "code",
   "execution_count": 29,
   "id": "5d5ce06a-f940-418a-aebe-7427e46f01f3",
   "metadata": {},
   "outputs": [],
   "source": [
    "stems = [pr.stem(word) for word in words]"
   ]
  },
  {
   "cell_type": "code",
   "execution_count": 30,
   "id": "c7ea7f06-f583-463a-a0a3-c91761641fab",
   "metadata": {},
   "outputs": [
    {
     "data": {
      "text/plain": [
       "['hous',\n",
       " 'train',\n",
       " 'pen',\n",
       " 'car',\n",
       " 'eaten',\n",
       " 'sick',\n",
       " 'bought',\n",
       " 'sell',\n",
       " 'size',\n",
       " 'speech',\n",
       " 'roll',\n",
       " 'march',\n",
       " 'identif',\n",
       " 'univers',\n",
       " 'beauti',\n",
       " 'refer']"
      ]
     },
     "execution_count": 30,
     "metadata": {},
     "output_type": "execute_result"
    }
   ],
   "source": [
    "stems"
   ]
  },
  {
   "cell_type": "markdown",
   "id": "1dd3df5d-27f1-4a37-b587-1ddd329fb82a",
   "metadata": {},
   "source": [
    "#### Lemma: Find the stem"
   ]
  },
  {
   "cell_type": "code",
   "execution_count": 31,
   "id": "de08694a-0d81-45fd-8667-77f6c02b7923",
   "metadata": {},
   "outputs": [],
   "source": [
    "from nltk.stem import WordNetLemmatizer"
   ]
  },
  {
   "cell_type": "code",
   "execution_count": 32,
   "id": "af2df4c3-e212-42b7-b9c2-9fe23799e337",
   "metadata": {},
   "outputs": [],
   "source": [
    "lm = WordNetLemmatizer()"
   ]
  },
  {
   "cell_type": "code",
   "execution_count": 33,
   "id": "01ed702a-e5fe-4a61-9357-b9a18d6ee295",
   "metadata": {},
   "outputs": [
    {
     "data": {
      "text/plain": [
       "'work'"
      ]
     },
     "execution_count": 33,
     "metadata": {},
     "output_type": "execute_result"
    }
   ],
   "source": [
    "lm.lemmatize('working', pos='v') # Needs nltk.download('wordnet')"
   ]
  },
  {
   "cell_type": "markdown",
   "id": "c224bc9c-e894-4747-acd4-50fac0dfda07",
   "metadata": {},
   "source": [
    "pos -> part of speech. The 'v' argument means we are searching for a verb from this token.\n",
    "1. Tagging Adjective\n",
    "2. Averb\n",
    "3. Conjunction\n",
    "4. And, or\n",
    "5. Preposition"
   ]
  },
  {
   "cell_type": "code",
   "execution_count": 34,
   "id": "aac48465-3a9d-429b-b6e5-606bcae0f769",
   "metadata": {},
   "outputs": [],
   "source": [
    "stems_v = [lm.lemmatize(word, pos='v') for word in words]"
   ]
  },
  {
   "cell_type": "code",
   "execution_count": 35,
   "id": "cdaab004-3eaa-4572-a3a8-3e4e51d5bc26",
   "metadata": {},
   "outputs": [
    {
     "data": {
      "text/plain": [
       "['house',\n",
       " 'train',\n",
       " 'pen',\n",
       " 'cars',\n",
       " 'eat',\n",
       " 'sick',\n",
       " 'buy',\n",
       " 'sell',\n",
       " 'size',\n",
       " 'speech',\n",
       " 'roll',\n",
       " 'march',\n",
       " 'identification',\n",
       " 'universal',\n",
       " 'beautiful',\n",
       " 'reference']"
      ]
     },
     "execution_count": 35,
     "metadata": {},
     "output_type": "execute_result"
    }
   ],
   "source": [
    "stems_v"
   ]
  },
  {
   "cell_type": "markdown",
   "id": "4a4e8f95-77bf-4884-90b1-999d15f4b0c4",
   "metadata": {},
   "source": [
    "#### Pos Tagging\n",
    "\n",
    "POS Tagging (Parts of Speech Tagging) is a process to mark up the words in text format for a particular part of a speech based on its definition and context. It is responsible for text reading in a language and assigning some specific token (Parts of Speech) to each word. It is also called grammatical tagging."
   ]
  },
  {
   "cell_type": "code",
   "execution_count": 36,
   "id": "460ca040-9500-4c4e-acf2-4872118b719b",
   "metadata": {},
   "outputs": [],
   "source": [
    "from nltk import pos_tag"
   ]
  },
  {
   "cell_type": "code",
   "execution_count": 37,
   "id": "92b7c29d-ffde-4030-b268-09f303826ed0",
   "metadata": {},
   "outputs": [
    {
     "data": {
      "text/plain": [
       "[('It', 'PRP'),\n",
       " ('is', 'VBZ'),\n",
       " ('a', 'DT'),\n",
       " ('rather', 'RB'),\n",
       " ('pleasent', 'JJ'),\n",
       " ('day', 'NN'),\n",
       " ('today', 'NN'),\n",
       " ('!', '.')]"
      ]
     },
     "execution_count": 37,
     "metadata": {},
     "output_type": "execute_result"
    }
   ],
   "source": [
    "text = \"It is a rather pleasent day today!\"\n",
    "tokenized = wt(text)\n",
    "pos_tag(tokenized)"
   ]
  },
  {
   "cell_type": "markdown",
   "id": "0c5d624c-c256-4807-b36d-b18f42ea9c29",
   "metadata": {},
   "source": [
    "##### Pos tagging abbreviations"
   ]
  },
  {
   "cell_type": "code",
   "execution_count": 38,
   "id": "60a0ddc0-9938-4b85-87cb-df34cf46d532",
   "metadata": {},
   "outputs": [],
   "source": [
    "import pandas as pd\n",
    "from requests import get\n",
    "from warnings import filterwarnings\n",
    "\n",
    "filterwarnings('ignore')"
   ]
  },
  {
   "cell_type": "code",
   "execution_count": 39,
   "id": "b61154e4-ca57-48ac-b898-6ad8fe29af91",
   "metadata": {},
   "outputs": [],
   "source": [
    "link = \"https://www.guru99.com/pos-tagging-chunking-nltk.html\"\n",
    "rq = get(link)"
   ]
  },
  {
   "cell_type": "code",
   "execution_count": 40,
   "id": "6931c4db-cd61-428a-81f3-6451d312af82",
   "metadata": {},
   "outputs": [
    {
     "data": {
      "text/html": [
       "<div>\n",
       "<style scoped>\n",
       "    .dataframe tbody tr th:only-of-type {\n",
       "        vertical-align: middle;\n",
       "    }\n",
       "\n",
       "    .dataframe tbody tr th {\n",
       "        vertical-align: top;\n",
       "    }\n",
       "\n",
       "    .dataframe thead th {\n",
       "        text-align: right;\n",
       "    }\n",
       "</style>\n",
       "<table border=\"1\" class=\"dataframe\">\n",
       "  <thead>\n",
       "    <tr style=\"text-align: right;\">\n",
       "      <th></th>\n",
       "      <th>Abbreviation</th>\n",
       "      <th>Meaning</th>\n",
       "    </tr>\n",
       "  </thead>\n",
       "  <tbody>\n",
       "    <tr>\n",
       "      <th>0</th>\n",
       "      <td>CC</td>\n",
       "      <td>coordinating conjunction</td>\n",
       "    </tr>\n",
       "    <tr>\n",
       "      <th>1</th>\n",
       "      <td>CD</td>\n",
       "      <td>cardinal digit</td>\n",
       "    </tr>\n",
       "    <tr>\n",
       "      <th>2</th>\n",
       "      <td>DT</td>\n",
       "      <td>determiner</td>\n",
       "    </tr>\n",
       "    <tr>\n",
       "      <th>3</th>\n",
       "      <td>EX</td>\n",
       "      <td>existential there</td>\n",
       "    </tr>\n",
       "    <tr>\n",
       "      <th>4</th>\n",
       "      <td>FW</td>\n",
       "      <td>foreign word</td>\n",
       "    </tr>\n",
       "    <tr>\n",
       "      <th>5</th>\n",
       "      <td>IN</td>\n",
       "      <td>preposition/subordinating conjunction</td>\n",
       "    </tr>\n",
       "    <tr>\n",
       "      <th>6</th>\n",
       "      <td>JJ</td>\n",
       "      <td>This NLTK POS Tag is an adjective (large)</td>\n",
       "    </tr>\n",
       "    <tr>\n",
       "      <th>7</th>\n",
       "      <td>JJR</td>\n",
       "      <td>adjective, comparative (larger)</td>\n",
       "    </tr>\n",
       "    <tr>\n",
       "      <th>8</th>\n",
       "      <td>JJS</td>\n",
       "      <td>adjective, superlative (largest)</td>\n",
       "    </tr>\n",
       "    <tr>\n",
       "      <th>9</th>\n",
       "      <td>LS</td>\n",
       "      <td>list market</td>\n",
       "    </tr>\n",
       "    <tr>\n",
       "      <th>10</th>\n",
       "      <td>MD</td>\n",
       "      <td>modal (could, will)</td>\n",
       "    </tr>\n",
       "    <tr>\n",
       "      <th>11</th>\n",
       "      <td>NN</td>\n",
       "      <td>noun, singular (cat, tree)</td>\n",
       "    </tr>\n",
       "    <tr>\n",
       "      <th>12</th>\n",
       "      <td>NNS</td>\n",
       "      <td>noun plural (desks)</td>\n",
       "    </tr>\n",
       "    <tr>\n",
       "      <th>13</th>\n",
       "      <td>NNP</td>\n",
       "      <td>proper noun, singular (sarah)</td>\n",
       "    </tr>\n",
       "    <tr>\n",
       "      <th>14</th>\n",
       "      <td>NNPS</td>\n",
       "      <td>proper noun, plural (indians or americans)</td>\n",
       "    </tr>\n",
       "    <tr>\n",
       "      <th>15</th>\n",
       "      <td>PDT</td>\n",
       "      <td>predeterminer (all, both, half)</td>\n",
       "    </tr>\n",
       "    <tr>\n",
       "      <th>16</th>\n",
       "      <td>POS</td>\n",
       "      <td>possessive ending (parent\\ ‘s)</td>\n",
       "    </tr>\n",
       "    <tr>\n",
       "      <th>17</th>\n",
       "      <td>PRP</td>\n",
       "      <td>personal pronoun (hers, herself, him, himself)</td>\n",
       "    </tr>\n",
       "    <tr>\n",
       "      <th>18</th>\n",
       "      <td>PRP$</td>\n",
       "      <td>possessive pronoun (her, his, mine, my, our )</td>\n",
       "    </tr>\n",
       "    <tr>\n",
       "      <th>19</th>\n",
       "      <td>RB</td>\n",
       "      <td>adverb (occasionally, swiftly)</td>\n",
       "    </tr>\n",
       "    <tr>\n",
       "      <th>20</th>\n",
       "      <td>RBR</td>\n",
       "      <td>adverb, comparative (greater)</td>\n",
       "    </tr>\n",
       "    <tr>\n",
       "      <th>21</th>\n",
       "      <td>RBS</td>\n",
       "      <td>adverb, superlative (biggest)</td>\n",
       "    </tr>\n",
       "    <tr>\n",
       "      <th>22</th>\n",
       "      <td>RP</td>\n",
       "      <td>particle (about)</td>\n",
       "    </tr>\n",
       "    <tr>\n",
       "      <th>23</th>\n",
       "      <td>TO</td>\n",
       "      <td>infinite marker (to)</td>\n",
       "    </tr>\n",
       "    <tr>\n",
       "      <th>24</th>\n",
       "      <td>UH</td>\n",
       "      <td>interjection (goodbye)</td>\n",
       "    </tr>\n",
       "    <tr>\n",
       "      <th>25</th>\n",
       "      <td>VB</td>\n",
       "      <td>verb (ask)</td>\n",
       "    </tr>\n",
       "    <tr>\n",
       "      <th>26</th>\n",
       "      <td>VBG</td>\n",
       "      <td>verb gerund (judging)</td>\n",
       "    </tr>\n",
       "    <tr>\n",
       "      <th>27</th>\n",
       "      <td>VBD</td>\n",
       "      <td>verb past tense (pleaded)</td>\n",
       "    </tr>\n",
       "    <tr>\n",
       "      <th>28</th>\n",
       "      <td>VBN</td>\n",
       "      <td>verb past participle (reunified)</td>\n",
       "    </tr>\n",
       "    <tr>\n",
       "      <th>29</th>\n",
       "      <td>VBP</td>\n",
       "      <td>verb, present tense not 3rd person singular(wrap)</td>\n",
       "    </tr>\n",
       "    <tr>\n",
       "      <th>30</th>\n",
       "      <td>VBZ</td>\n",
       "      <td>verb, present tense with 3rd person singular (...</td>\n",
       "    </tr>\n",
       "    <tr>\n",
       "      <th>31</th>\n",
       "      <td>WDT</td>\n",
       "      <td>wh-determiner (that, what)</td>\n",
       "    </tr>\n",
       "    <tr>\n",
       "      <th>32</th>\n",
       "      <td>WP</td>\n",
       "      <td>wh- pronoun (who)</td>\n",
       "    </tr>\n",
       "    <tr>\n",
       "      <th>33</th>\n",
       "      <td>WRB</td>\n",
       "      <td>wh- adverb (how)</td>\n",
       "    </tr>\n",
       "  </tbody>\n",
       "</table>\n",
       "</div>"
      ],
      "text/plain": [
       "   Abbreviation                                            Meaning\n",
       "0            CC                           coordinating conjunction\n",
       "1            CD                                     cardinal digit\n",
       "2            DT                                         determiner\n",
       "3            EX                                  existential there\n",
       "4            FW                                       foreign word\n",
       "5            IN              preposition/subordinating conjunction\n",
       "6            JJ          This NLTK POS Tag is an adjective (large)\n",
       "7           JJR                    adjective, comparative (larger)\n",
       "8           JJS                   adjective, superlative (largest)\n",
       "9            LS                                        list market\n",
       "10           MD                                modal (could, will)\n",
       "11           NN                         noun, singular (cat, tree)\n",
       "12          NNS                                noun plural (desks)\n",
       "13          NNP                      proper noun, singular (sarah)\n",
       "14         NNPS         proper noun, plural (indians or americans)\n",
       "15          PDT                    predeterminer (all, both, half)\n",
       "16          POS                     possessive ending (parent\\ ‘s)\n",
       "17          PRP     personal pronoun (hers, herself, him, himself)\n",
       "18         PRP$      possessive pronoun (her, his, mine, my, our )\n",
       "19           RB                     adverb (occasionally, swiftly)\n",
       "20          RBR                      adverb, comparative (greater)\n",
       "21          RBS                      adverb, superlative (biggest)\n",
       "22           RP                                   particle (about)\n",
       "23           TO                               infinite marker (to)\n",
       "24           UH                             interjection (goodbye)\n",
       "25           VB                                         verb (ask)\n",
       "26          VBG                              verb gerund (judging)\n",
       "27          VBD                          verb past tense (pleaded)\n",
       "28          VBN                   verb past participle (reunified)\n",
       "29          VBP  verb, present tense not 3rd person singular(wrap)\n",
       "30          VBZ  verb, present tense with 3rd person singular (...\n",
       "31          WDT                         wh-determiner (that, what)\n",
       "32           WP                                  wh- pronoun (who)\n",
       "33          WRB                                   wh- adverb (how)"
      ]
     },
     "execution_count": 40,
     "metadata": {},
     "output_type": "execute_result"
    }
   ],
   "source": [
    "pos_df = pd.read_html(rq.text)[0]\n",
    "pos_df"
   ]
  },
  {
   "cell_type": "markdown",
   "id": "119fea98-9568-4d40-ba63-9c64cabd30df",
   "metadata": {},
   "source": [
    "Using this table we can write a function that takes a sentence and provides the pos tag and its meaning for all the words."
   ]
  },
  {
   "cell_type": "code",
   "execution_count": 41,
   "id": "616976b7-05e9-44ae-9e08-1ef6e7bcce15",
   "metadata": {},
   "outputs": [],
   "source": [
    "def explain_pos(sentence):\n",
    "    tokenized = wt(text)\n",
    "    tags = pos_tag(tokenized)\n",
    "    for tag in tags:\n",
    "        str = tag[0]\n",
    "        abbv = tag[1]\n",
    "        # meaning = pos_df.loc[pos_df['Abbreviation'] == abbv, 'Meaning']\n",
    "        meaning = pos_df[pos_df['Abbreviation'] == abbv]['Meaning']\n",
    "        print(f\"{str}: {meaning}\")"
   ]
  },
  {
   "cell_type": "code",
   "execution_count": 42,
   "id": "972e6709-b121-4a2b-a923-a53b9be4df9b",
   "metadata": {},
   "outputs": [
    {
     "name": "stdout",
     "output_type": "stream",
     "text": [
      "It: 17    personal pronoun (hers, herself, him, himself)\n",
      "Name: Meaning, dtype: object\n",
      "is: 30    verb, present tense with 3rd person singular (...\n",
      "Name: Meaning, dtype: object\n",
      "a: 2    determiner\n",
      "Name: Meaning, dtype: object\n",
      "rather: 19    adverb (occasionally, swiftly)\n",
      "Name: Meaning, dtype: object\n",
      "pleasent: 6    This NLTK POS Tag is an adjective (large)\n",
      "Name: Meaning, dtype: object\n",
      "day: 11    noun, singular (cat, tree)\n",
      "Name: Meaning, dtype: object\n",
      "today: 11    noun, singular (cat, tree)\n",
      "Name: Meaning, dtype: object\n",
      "!: Series([], Name: Meaning, dtype: object)\n"
     ]
    }
   ],
   "source": [
    "explain_pos(text)"
   ]
  },
  {
   "cell_type": "markdown",
   "id": "d9f2a48e-e3a3-4597-ab73-fdd23c1a9350",
   "metadata": {},
   "source": [
    "This is a proof of concept, it could be imporved further."
   ]
  },
  {
   "cell_type": "markdown",
   "id": "a832f434-f3cd-4a61-8546-53a5e20166c3",
   "metadata": {},
   "source": [
    "#### Autocorrect"
   ]
  },
  {
   "cell_type": "code",
   "execution_count": 43,
   "id": "f32ee32c-fdc3-4ce4-87fb-fbc64aafaa1b",
   "metadata": {},
   "outputs": [],
   "source": [
    "from autocorrect import spell"
   ]
  },
  {
   "cell_type": "code",
   "execution_count": 44,
   "id": "9101da2f-f81c-4519-a9fa-9bef18e95681",
   "metadata": {},
   "outputs": [],
   "source": [
    "bad = \"My splilling is gopopd\""
   ]
  },
  {
   "cell_type": "code",
   "execution_count": 45,
   "id": "816195b4-f0cf-4ab9-bdc1-6e17e497a8d9",
   "metadata": {},
   "outputs": [
    {
     "name": "stdout",
     "output_type": "stream",
     "text": [
      "autocorrect.spell is deprecated,             use autocorrect.Speller instead\n"
     ]
    },
    {
     "data": {
      "text/plain": [
       "'My spilling is good'"
      ]
     },
     "execution_count": 45,
     "metadata": {},
     "output_type": "execute_result"
    }
   ],
   "source": [
    "spell(bad)"
   ]
  },
  {
   "cell_type": "markdown",
   "id": "fb48777d-760b-4883-9d57-7046efe0fc34",
   "metadata": {},
   "source": [
    "##### Use the new version as per the warning"
   ]
  },
  {
   "cell_type": "code",
   "execution_count": 46,
   "id": "cd473cce-d2a1-4bcb-9e60-a8a8ce57f391",
   "metadata": {},
   "outputs": [],
   "source": [
    "from autocorrect import Speller"
   ]
  },
  {
   "cell_type": "code",
   "execution_count": 47,
   "id": "76bcbdbb-7f75-4c2c-bec7-b4cc05067259",
   "metadata": {},
   "outputs": [],
   "source": [
    "spell = Speller()"
   ]
  },
  {
   "cell_type": "code",
   "execution_count": 48,
   "id": "dfcb7d20-3736-4116-8608-afe500db878c",
   "metadata": {},
   "outputs": [
    {
     "data": {
      "text/plain": [
       "'My spilling is good'"
      ]
     },
     "execution_count": 48,
     "metadata": {},
     "output_type": "execute_result"
    }
   ],
   "source": [
    "spell(bad)"
   ]
  },
  {
   "cell_type": "code",
   "execution_count": 49,
   "id": "216fcd85-9d4f-4912-b26e-1d197866e6d1",
   "metadata": {},
   "outputs": [],
   "source": [
    "from textblob import TextBlob"
   ]
  },
  {
   "cell_type": "code",
   "execution_count": 50,
   "id": "c386517d-d3ac-4757-b532-5ab6f468dd92",
   "metadata": {},
   "outputs": [],
   "source": [
    "blob = TextBlob('I hgave goad speling.')"
   ]
  },
  {
   "cell_type": "code",
   "execution_count": 51,
   "id": "df62ad07-8f21-467f-a5a7-189d09737e7e",
   "metadata": {},
   "outputs": [
    {
     "data": {
      "text/plain": [
       "TextBlob(\"I have good spelling.\")"
      ]
     },
     "execution_count": 51,
     "metadata": {},
     "output_type": "execute_result"
    }
   ],
   "source": [
    "blob.correct()"
   ]
  },
  {
   "cell_type": "code",
   "execution_count": 52,
   "id": "b4672601-4780-41e5-8627-a6af528308dc",
   "metadata": {},
   "outputs": [],
   "source": [
    "from langdetect import detect"
   ]
  },
  {
   "cell_type": "code",
   "execution_count": 53,
   "id": "17fee52e-605c-412b-9cf5-1f9e5f555755",
   "metadata": {},
   "outputs": [
    {
     "data": {
      "text/plain": [
       "'tr'"
      ]
     },
     "execution_count": 53,
     "metadata": {},
     "output_type": "execute_result"
    }
   ],
   "source": [
    "detect('Merhaba dünya!')"
   ]
  },
  {
   "cell_type": "code",
   "execution_count": 54,
   "id": "6558b2fa-3263-4c66-bd74-3575539c0249",
   "metadata": {},
   "outputs": [
    {
     "data": {
      "text/plain": [
       "'de'"
      ]
     },
     "execution_count": 54,
     "metadata": {},
     "output_type": "execute_result"
    }
   ],
   "source": [
    "detect('Ich komme auf der Türkei.')"
   ]
  },
  {
   "cell_type": "code",
   "execution_count": 55,
   "id": "f9364def-f456-45ea-830a-4a4bc9317d1d",
   "metadata": {},
   "outputs": [
    {
     "data": {
      "text/plain": [
       "'es'"
      ]
     },
     "execution_count": 55,
     "metadata": {},
     "output_type": "execute_result"
    }
   ],
   "source": [
    "detect('Hola, como te llamas?')"
   ]
  },
  {
   "cell_type": "code",
   "execution_count": 56,
   "id": "c5d53105-6343-43f0-be73-868f23fd6028",
   "metadata": {},
   "outputs": [
    {
     "data": {
      "text/plain": [
       "'de'"
      ]
     },
     "execution_count": 56,
     "metadata": {},
     "output_type": "execute_result"
    }
   ],
   "source": [
    "detect('Ich bin 12312 jahre alt.')"
   ]
  },
  {
   "cell_type": "code",
   "execution_count": 57,
   "id": "0b93a90d-8602-4113-820e-290c1b85fada",
   "metadata": {},
   "outputs": [
    {
     "data": {
      "text/plain": [
       "'de'"
      ]
     },
     "execution_count": 57,
     "metadata": {},
     "output_type": "execute_result"
    }
   ],
   "source": [
    "detect('Ich gehe nach hous')"
   ]
  },
  {
   "cell_type": "markdown",
   "id": "ff7ef7c5-f159-4f06-8a4d-25d04bbf350d",
   "metadata": {},
   "source": [
    "#### Translating"
   ]
  },
  {
   "cell_type": "code",
   "execution_count": 58,
   "id": "1bbd7b20-b218-4c65-a951-86f1bc2a4b44",
   "metadata": {},
   "outputs": [],
   "source": [
    "en = TextBlob('I am a free black man from Africa')"
   ]
  },
  {
   "cell_type": "code",
   "execution_count": 59,
   "id": "2b6bfa40-2751-48d0-a77c-9bdf02ebc941",
   "metadata": {},
   "outputs": [],
   "source": [
    "tr = en.translate(from_lang='en', to='tr')"
   ]
  },
  {
   "cell_type": "code",
   "execution_count": 60,
   "id": "13d1c185-f1e8-4e75-8065-f05b34b1e57c",
   "metadata": {},
   "outputs": [
    {
     "data": {
      "text/plain": [
       "TextBlob(\"Afrika'dan özgür bir siyah adamım\")"
      ]
     },
     "execution_count": 60,
     "metadata": {},
     "output_type": "execute_result"
    }
   ],
   "source": [
    "tr"
   ]
  },
  {
   "cell_type": "code",
   "execution_count": 61,
   "id": "e887d348-6034-49b5-99d9-f078734fb52b",
   "metadata": {},
   "outputs": [],
   "source": [
    "tr = TextBlob('Cok uykum var.')"
   ]
  },
  {
   "cell_type": "code",
   "execution_count": 62,
   "id": "4e7dcf36-f2f0-49f1-959b-053c5e3315b0",
   "metadata": {},
   "outputs": [],
   "source": [
    "en = tr.translate(from_lang='tr', to='en')"
   ]
  },
  {
   "cell_type": "code",
   "execution_count": 63,
   "id": "2c44a2f4-2fdc-466e-a312-6a7fc8e8d15a",
   "metadata": {},
   "outputs": [
    {
     "data": {
      "text/plain": [
       "TextBlob(\"I am very tired.\")"
      ]
     },
     "execution_count": 63,
     "metadata": {},
     "output_type": "execute_result"
    }
   ],
   "source": [
    "en"
   ]
  },
  {
   "cell_type": "markdown",
   "id": "b872b2b9-ebe5-44ef-a0f8-ac5cb36f40e8",
   "metadata": {},
   "source": [
    "## Starting an NLP project\n",
    "\n",
    "1. Convert all to lowecase\n",
    "2. Remove punctiation\n",
    "3. Remove numbers\n",
    "4. Remove newline characters\n",
    "5. Remove stopwords (unnecessary words)\n",
    "6. Tokenize\n",
    "7. use Lemma & Stemma to get the stem of the words\n",
    "8. Vectorize"
   ]
  },
  {
   "cell_type": "markdown",
   "id": "31b51714-43c7-457c-9d69-eb087c0fa024",
   "metadata": {},
   "source": [
    "<strong>TF/IDF<strong/> term frequency / inverse document frequency"
   ]
  },
  {
   "cell_type": "code",
   "execution_count": 64,
   "id": "ab6a555e-2ca8-46a6-a2ee-8bb63a4001dc",
   "metadata": {},
   "outputs": [],
   "source": [
    "import pandas as pd\n",
    "from sklearn.feature_extraction.text import CountVectorizer, TfidfVectorizer"
   ]
  },
  {
   "cell_type": "code",
   "execution_count": 65,
   "id": "79cab848-344c-4fab-84fe-df786086bc70",
   "metadata": {},
   "outputs": [],
   "source": [
    "cv = CountVectorizer()\n",
    "tfidfv = TfidfVectorizer()"
   ]
  },
  {
   "cell_type": "code",
   "execution_count": 66,
   "id": "ae052ed9-44f1-464f-955c-c5b3863da2e0",
   "metadata": {},
   "outputs": [],
   "source": [
    "sentences = [\"Call you tonight.\", \"Call me a cab.\", \"Please call me... PLEASE.\", \"Please stand by\"]"
   ]
  },
  {
   "cell_type": "code",
   "execution_count": 67,
   "id": "d8a71313-04cd-4edb-bc1f-110d51affd4c",
   "metadata": {},
   "outputs": [],
   "source": [
    "tf = pd.DataFrame(cv.fit_transform(sentences).toarray(), columns=cv.get_feature_names_out())"
   ]
  },
  {
   "cell_type": "code",
   "execution_count": 68,
   "id": "f856605c-de4c-4c8e-a6d1-9d7332c058c4",
   "metadata": {},
   "outputs": [
    {
     "data": {
      "text/html": [
       "<div>\n",
       "<style scoped>\n",
       "    .dataframe tbody tr th:only-of-type {\n",
       "        vertical-align: middle;\n",
       "    }\n",
       "\n",
       "    .dataframe tbody tr th {\n",
       "        vertical-align: top;\n",
       "    }\n",
       "\n",
       "    .dataframe thead th {\n",
       "        text-align: right;\n",
       "    }\n",
       "</style>\n",
       "<table border=\"1\" class=\"dataframe\">\n",
       "  <thead>\n",
       "    <tr style=\"text-align: right;\">\n",
       "      <th></th>\n",
       "      <th>by</th>\n",
       "      <th>cab</th>\n",
       "      <th>call</th>\n",
       "      <th>me</th>\n",
       "      <th>please</th>\n",
       "      <th>stand</th>\n",
       "      <th>tonight</th>\n",
       "      <th>you</th>\n",
       "    </tr>\n",
       "  </thead>\n",
       "  <tbody>\n",
       "    <tr>\n",
       "      <th>0</th>\n",
       "      <td>0</td>\n",
       "      <td>0</td>\n",
       "      <td>1</td>\n",
       "      <td>0</td>\n",
       "      <td>0</td>\n",
       "      <td>0</td>\n",
       "      <td>1</td>\n",
       "      <td>1</td>\n",
       "    </tr>\n",
       "    <tr>\n",
       "      <th>1</th>\n",
       "      <td>0</td>\n",
       "      <td>1</td>\n",
       "      <td>1</td>\n",
       "      <td>1</td>\n",
       "      <td>0</td>\n",
       "      <td>0</td>\n",
       "      <td>0</td>\n",
       "      <td>0</td>\n",
       "    </tr>\n",
       "    <tr>\n",
       "      <th>2</th>\n",
       "      <td>0</td>\n",
       "      <td>0</td>\n",
       "      <td>1</td>\n",
       "      <td>1</td>\n",
       "      <td>2</td>\n",
       "      <td>0</td>\n",
       "      <td>0</td>\n",
       "      <td>0</td>\n",
       "    </tr>\n",
       "    <tr>\n",
       "      <th>3</th>\n",
       "      <td>1</td>\n",
       "      <td>0</td>\n",
       "      <td>0</td>\n",
       "      <td>0</td>\n",
       "      <td>1</td>\n",
       "      <td>1</td>\n",
       "      <td>0</td>\n",
       "      <td>0</td>\n",
       "    </tr>\n",
       "  </tbody>\n",
       "</table>\n",
       "</div>"
      ],
      "text/plain": [
       "   by  cab  call  me  please  stand  tonight  you\n",
       "0   0    0     1   0       0      0        1    1\n",
       "1   0    1     1   1       0      0        0    0\n",
       "2   0    0     1   1       2      0        0    0\n",
       "3   1    0     0   0       1      1        0    0"
      ]
     },
     "execution_count": 68,
     "metadata": {},
     "output_type": "execute_result"
    }
   ],
   "source": [
    "tf"
   ]
  },
  {
   "cell_type": "markdown",
   "id": "ad76bfff-a30a-42ec-aaff-cdcb9b7d3c0d",
   "metadata": {},
   "source": [
    "###### Document Frequency"
   ]
  },
  {
   "cell_type": "code",
   "execution_count": 69,
   "id": "0537c9f4-b252-4815-992e-0a44a662e0b8",
   "metadata": {},
   "outputs": [
    {
     "data": {
      "text/plain": [
       "array([1, 1, 3, 2, 3, 1, 1, 1])"
      ]
     },
     "execution_count": 69,
     "metadata": {},
     "output_type": "execute_result"
    }
   ],
   "source": [
    "df = cv.fit_transform(sentences).toarray().sum(axis=0)\n",
    "df"
   ]
  },
  {
   "cell_type": "markdown",
   "id": "897ea7e2-53ac-48a2-a6f6-03e2a115e8d7",
   "metadata": {},
   "source": [
    "###### tf/idf"
   ]
  },
  {
   "cell_type": "code",
   "execution_count": 70,
   "id": "5992e57d-70a6-4f4a-94be-52339153af6b",
   "metadata": {},
   "outputs": [
    {
     "data": {
      "text/html": [
       "<div>\n",
       "<style scoped>\n",
       "    .dataframe tbody tr th:only-of-type {\n",
       "        vertical-align: middle;\n",
       "    }\n",
       "\n",
       "    .dataframe tbody tr th {\n",
       "        vertical-align: top;\n",
       "    }\n",
       "\n",
       "    .dataframe thead th {\n",
       "        text-align: right;\n",
       "    }\n",
       "</style>\n",
       "<table border=\"1\" class=\"dataframe\">\n",
       "  <thead>\n",
       "    <tr style=\"text-align: right;\">\n",
       "      <th></th>\n",
       "      <th>by</th>\n",
       "      <th>cab</th>\n",
       "      <th>call</th>\n",
       "      <th>me</th>\n",
       "      <th>please</th>\n",
       "      <th>stand</th>\n",
       "      <th>tonight</th>\n",
       "      <th>you</th>\n",
       "    </tr>\n",
       "  </thead>\n",
       "  <tbody>\n",
       "    <tr>\n",
       "      <th>0</th>\n",
       "      <td>0.0</td>\n",
       "      <td>0.0</td>\n",
       "      <td>0.333333</td>\n",
       "      <td>0.0</td>\n",
       "      <td>0.000000</td>\n",
       "      <td>0.0</td>\n",
       "      <td>1.0</td>\n",
       "      <td>1.0</td>\n",
       "    </tr>\n",
       "    <tr>\n",
       "      <th>1</th>\n",
       "      <td>0.0</td>\n",
       "      <td>1.0</td>\n",
       "      <td>0.333333</td>\n",
       "      <td>0.5</td>\n",
       "      <td>0.000000</td>\n",
       "      <td>0.0</td>\n",
       "      <td>0.0</td>\n",
       "      <td>0.0</td>\n",
       "    </tr>\n",
       "    <tr>\n",
       "      <th>2</th>\n",
       "      <td>0.0</td>\n",
       "      <td>0.0</td>\n",
       "      <td>0.333333</td>\n",
       "      <td>0.5</td>\n",
       "      <td>0.666667</td>\n",
       "      <td>0.0</td>\n",
       "      <td>0.0</td>\n",
       "      <td>0.0</td>\n",
       "    </tr>\n",
       "    <tr>\n",
       "      <th>3</th>\n",
       "      <td>1.0</td>\n",
       "      <td>0.0</td>\n",
       "      <td>0.000000</td>\n",
       "      <td>0.0</td>\n",
       "      <td>0.333333</td>\n",
       "      <td>1.0</td>\n",
       "      <td>0.0</td>\n",
       "      <td>0.0</td>\n",
       "    </tr>\n",
       "  </tbody>\n",
       "</table>\n",
       "</div>"
      ],
      "text/plain": [
       "    by  cab      call   me    please  stand  tonight  you\n",
       "0  0.0  0.0  0.333333  0.0  0.000000    0.0      1.0  1.0\n",
       "1  0.0  1.0  0.333333  0.5  0.000000    0.0      0.0  0.0\n",
       "2  0.0  0.0  0.333333  0.5  0.666667    0.0      0.0  0.0\n",
       "3  1.0  0.0  0.000000  0.0  0.333333    1.0      0.0  0.0"
      ]
     },
     "execution_count": 70,
     "metadata": {},
     "output_type": "execute_result"
    }
   ],
   "source": [
    "tf/df"
   ]
  },
  {
   "cell_type": "markdown",
   "id": "05057ce3-b8bc-4053-9d0d-854928aeb1c2",
   "metadata": {},
   "source": [
    "# Yelp data project"
   ]
  },
  {
   "cell_type": "code",
   "execution_count": 71,
   "id": "8e0424b8-2ec2-48e5-a1f7-001ecb0701b9",
   "metadata": {},
   "outputs": [],
   "source": [
    "import pandas as pd"
   ]
  },
  {
   "cell_type": "code",
   "execution_count": 72,
   "id": "736bd1e1-986d-47ab-b65e-e0ccf6d3f619",
   "metadata": {},
   "outputs": [],
   "source": [
    "df = pd.read_csv('yelp.csv')"
   ]
  },
  {
   "cell_type": "code",
   "execution_count": 73,
   "id": "331546fe-56f9-4bac-b457-f8f6c64d54ad",
   "metadata": {},
   "outputs": [
    {
     "data": {
      "text/html": [
       "<div>\n",
       "<style scoped>\n",
       "    .dataframe tbody tr th:only-of-type {\n",
       "        vertical-align: middle;\n",
       "    }\n",
       "\n",
       "    .dataframe tbody tr th {\n",
       "        vertical-align: top;\n",
       "    }\n",
       "\n",
       "    .dataframe thead th {\n",
       "        text-align: right;\n",
       "    }\n",
       "</style>\n",
       "<table border=\"1\" class=\"dataframe\">\n",
       "  <thead>\n",
       "    <tr style=\"text-align: right;\">\n",
       "      <th></th>\n",
       "      <th>business_id</th>\n",
       "      <th>date</th>\n",
       "      <th>review_id</th>\n",
       "      <th>stars</th>\n",
       "      <th>text</th>\n",
       "      <th>type</th>\n",
       "      <th>user_id</th>\n",
       "      <th>cool</th>\n",
       "      <th>useful</th>\n",
       "      <th>funny</th>\n",
       "    </tr>\n",
       "  </thead>\n",
       "  <tbody>\n",
       "    <tr>\n",
       "      <th>0</th>\n",
       "      <td>9yKzy9PApeiPPOUJEtnvkg</td>\n",
       "      <td>2011-01-26</td>\n",
       "      <td>fWKvX83p0-ka4JS3dc6E5A</td>\n",
       "      <td>5</td>\n",
       "      <td>My wife took me here on my birthday for breakf...</td>\n",
       "      <td>review</td>\n",
       "      <td>rLtl8ZkDX5vH5nAx9C3q5Q</td>\n",
       "      <td>2</td>\n",
       "      <td>5</td>\n",
       "      <td>0</td>\n",
       "    </tr>\n",
       "    <tr>\n",
       "      <th>1</th>\n",
       "      <td>ZRJwVLyzEJq1VAihDhYiow</td>\n",
       "      <td>2011-07-27</td>\n",
       "      <td>IjZ33sJrzXqU-0X6U8NwyA</td>\n",
       "      <td>5</td>\n",
       "      <td>I have no idea why some people give bad review...</td>\n",
       "      <td>review</td>\n",
       "      <td>0a2KyEL0d3Yb1V6aivbIuQ</td>\n",
       "      <td>0</td>\n",
       "      <td>0</td>\n",
       "      <td>0</td>\n",
       "    </tr>\n",
       "    <tr>\n",
       "      <th>2</th>\n",
       "      <td>6oRAC4uyJCsJl1X0WZpVSA</td>\n",
       "      <td>2012-06-14</td>\n",
       "      <td>IESLBzqUCLdSzSqm0eCSxQ</td>\n",
       "      <td>4</td>\n",
       "      <td>love the gyro plate. Rice is so good and I als...</td>\n",
       "      <td>review</td>\n",
       "      <td>0hT2KtfLiobPvh6cDC8JQg</td>\n",
       "      <td>0</td>\n",
       "      <td>1</td>\n",
       "      <td>0</td>\n",
       "    </tr>\n",
       "    <tr>\n",
       "      <th>3</th>\n",
       "      <td>_1QQZuf4zZOyFCvXc0o6Vg</td>\n",
       "      <td>2010-05-27</td>\n",
       "      <td>G-WvGaISbqqaMHlNnByodA</td>\n",
       "      <td>5</td>\n",
       "      <td>Rosie, Dakota, and I LOVE Chaparral Dog Park!!...</td>\n",
       "      <td>review</td>\n",
       "      <td>uZetl9T0NcROGOyFfughhg</td>\n",
       "      <td>1</td>\n",
       "      <td>2</td>\n",
       "      <td>0</td>\n",
       "    </tr>\n",
       "    <tr>\n",
       "      <th>4</th>\n",
       "      <td>6ozycU1RpktNG2-1BroVtw</td>\n",
       "      <td>2012-01-05</td>\n",
       "      <td>1uJFq2r5QfJG_6ExMRCaGw</td>\n",
       "      <td>5</td>\n",
       "      <td>General Manager Scott Petello is a good egg!!!...</td>\n",
       "      <td>review</td>\n",
       "      <td>vYmM4KTsC8ZfQBg-j5MWkw</td>\n",
       "      <td>0</td>\n",
       "      <td>0</td>\n",
       "      <td>0</td>\n",
       "    </tr>\n",
       "  </tbody>\n",
       "</table>\n",
       "</div>"
      ],
      "text/plain": [
       "              business_id        date               review_id  stars  \\\n",
       "0  9yKzy9PApeiPPOUJEtnvkg  2011-01-26  fWKvX83p0-ka4JS3dc6E5A      5   \n",
       "1  ZRJwVLyzEJq1VAihDhYiow  2011-07-27  IjZ33sJrzXqU-0X6U8NwyA      5   \n",
       "2  6oRAC4uyJCsJl1X0WZpVSA  2012-06-14  IESLBzqUCLdSzSqm0eCSxQ      4   \n",
       "3  _1QQZuf4zZOyFCvXc0o6Vg  2010-05-27  G-WvGaISbqqaMHlNnByodA      5   \n",
       "4  6ozycU1RpktNG2-1BroVtw  2012-01-05  1uJFq2r5QfJG_6ExMRCaGw      5   \n",
       "\n",
       "                                                text    type  \\\n",
       "0  My wife took me here on my birthday for breakf...  review   \n",
       "1  I have no idea why some people give bad review...  review   \n",
       "2  love the gyro plate. Rice is so good and I als...  review   \n",
       "3  Rosie, Dakota, and I LOVE Chaparral Dog Park!!...  review   \n",
       "4  General Manager Scott Petello is a good egg!!!...  review   \n",
       "\n",
       "                  user_id  cool  useful  funny  \n",
       "0  rLtl8ZkDX5vH5nAx9C3q5Q     2       5      0  \n",
       "1  0a2KyEL0d3Yb1V6aivbIuQ     0       0      0  \n",
       "2  0hT2KtfLiobPvh6cDC8JQg     0       1      0  \n",
       "3  uZetl9T0NcROGOyFfughhg     1       2      0  \n",
       "4  vYmM4KTsC8ZfQBg-j5MWkw     0       0      0  "
      ]
     },
     "execution_count": 73,
     "metadata": {},
     "output_type": "execute_result"
    }
   ],
   "source": [
    "df.head()"
   ]
  },
  {
   "cell_type": "code",
   "execution_count": 74,
   "id": "5320fe37-bca2-48c6-84bd-60cbec92aba2",
   "metadata": {},
   "outputs": [
    {
     "name": "stdout",
     "output_type": "stream",
     "text": [
      "<class 'pandas.core.frame.DataFrame'>\n",
      "RangeIndex: 10000 entries, 0 to 9999\n",
      "Data columns (total 10 columns):\n",
      " #   Column       Non-Null Count  Dtype \n",
      "---  ------       --------------  ----- \n",
      " 0   business_id  10000 non-null  object\n",
      " 1   date         10000 non-null  object\n",
      " 2   review_id    10000 non-null  object\n",
      " 3   stars        10000 non-null  int64 \n",
      " 4   text         10000 non-null  object\n",
      " 5   type         10000 non-null  object\n",
      " 6   user_id      10000 non-null  object\n",
      " 7   cool         10000 non-null  int64 \n",
      " 8   useful       10000 non-null  int64 \n",
      " 9   funny        10000 non-null  int64 \n",
      "dtypes: int64(4), object(6)\n",
      "memory usage: 781.4+ KB\n"
     ]
    }
   ],
   "source": [
    "df.info()"
   ]
  },
  {
   "cell_type": "code",
   "execution_count": 75,
   "id": "9e621240-93d7-4e94-91cf-6e59674284e7",
   "metadata": {},
   "outputs": [
    {
     "data": {
      "text/plain": [
       "'My wife took me here on my birthday for breakfast and it was excellent.  The weather was perfect which made sitting outside overlooking their grounds an absolute pleasure.  Our waitress was excellent and our food arrived quickly on the semi-busy Saturday morning.  It looked like the place fills up pretty quickly so the earlier you get here the better.\\r\\n\\r\\nDo yourself a favor and get their Bloody Mary.  It was phenomenal and simply the best I\\'ve ever had.  I\\'m pretty sure they only use ingredients from their garden and blend them fresh when you order it.  It was amazing.\\r\\n\\r\\nWhile EVERYTHING on the menu looks excellent, I had the white truffle scrambled eggs vegetable skillet and it was tasty and delicious.  It came with 2 pieces of their griddled bread with was amazing and it absolutely made the meal complete.  It was the best \"toast\" I\\'ve ever had.\\r\\n\\r\\nAnyway, I can\\'t wait to go back!'"
      ]
     },
     "execution_count": 75,
     "metadata": {},
     "output_type": "execute_result"
    }
   ],
   "source": [
    "df['text'][0]"
   ]
  },
  {
   "cell_type": "code",
   "execution_count": 76,
   "id": "06511666-0e11-485f-b234-3556ee8d805c",
   "metadata": {},
   "outputs": [
    {
     "data": {
      "text/plain": [
       "'My wife took me here on my birthday for breakfast and it was excellent.  The weather was perfect which made sitting outside overlooking their grounds an absolute pleasure.  Our waitress was excellent and our food arrived quickly on the semi-busy Saturday morning.  It looked like the place fills up pretty quickly so the earlier you get here the better.\\r\\n\\r\\nDo yourself a favor and get their Bloody Mary.  It was phenomenal and simply the best I\\'ve ever had.  I\\'m pretty sure they only use ingredients from their garden and blend them fresh when you order it.  It was amazing.\\r\\n\\r\\nWhile EVERYTHING on the menu looks excellent, I had the white truffle scrambled eggs vegetable skillet and it was tasty and delicious.  It came with 2 pieces of their griddled bread with was amazing and it absolutely made the meal complete.  It was the best \"toast\" I\\'ve ever had.\\r\\n\\r\\nAnyway, I can\\'t wait to go back!'"
      ]
     },
     "execution_count": 76,
     "metadata": {},
     "output_type": "execute_result"
    }
   ],
   "source": [
    "df['text'][0]"
   ]
  },
  {
   "cell_type": "markdown",
   "id": "63e185ae-440a-4798-a14d-410b5733f803",
   "metadata": {},
   "source": [
    "### Convert all the text to lowercase"
   ]
  },
  {
   "cell_type": "code",
   "execution_count": 77,
   "id": "60d198cc-29b3-4336-a52a-08bf86379b26",
   "metadata": {},
   "outputs": [],
   "source": [
    "df['text'] = df['text'].str.lower()"
   ]
  },
  {
   "cell_type": "code",
   "execution_count": 78,
   "id": "407f7cc8-fc15-4c1e-8890-e0bba56cfe51",
   "metadata": {},
   "outputs": [
    {
     "data": {
      "text/plain": [
       "0       my wife took me here on my birthday for breakf...\n",
       "1       i have no idea why some people give bad review...\n",
       "2       love the gyro plate. rice is so good and i als...\n",
       "3       rosie, dakota, and i love chaparral dog park!!...\n",
       "4       general manager scott petello is a good egg!!!...\n",
       "                              ...                        \n",
       "9995    first visit...had lunch here today - used my g...\n",
       "9996    should be called house of deliciousness!\\r\\n\\r...\n",
       "9997    i recently visited olive and ivy for business ...\n",
       "9998    my nephew just moved to scottsdale recently so...\n",
       "9999    4-5 locations.. all 4.5 star average.. i think...\n",
       "Name: text, Length: 10000, dtype: object"
      ]
     },
     "execution_count": 78,
     "metadata": {},
     "output_type": "execute_result"
    }
   ],
   "source": [
    "df['text']"
   ]
  },
  {
   "cell_type": "markdown",
   "id": "dad561f5-6e2a-4f92-8c98-325529e52285",
   "metadata": {},
   "source": [
    "### Remove punctuation"
   ]
  },
  {
   "cell_type": "code",
   "execution_count": 79,
   "id": "8ecd0faf-5372-4482-b5af-cf1ae513c55c",
   "metadata": {},
   "outputs": [],
   "source": [
    "df['text'] = df['text'].str.replace('[^\\w\\w]', '')"
   ]
  },
  {
   "cell_type": "code",
   "execution_count": 80,
   "id": "f5c3581e-a8fe-4dc6-bf2d-fc0842657083",
   "metadata": {},
   "outputs": [
    {
     "data": {
      "text/plain": [
       "0       my wife took me here on my birthday for breakf...\n",
       "1       i have no idea why some people give bad review...\n",
       "2       love the gyro plate. rice is so good and i als...\n",
       "3       rosie, dakota, and i love chaparral dog park!!...\n",
       "4       general manager scott petello is a good egg!!!...\n",
       "                              ...                        \n",
       "9995    first visit...had lunch here today - used my g...\n",
       "9996    should be called house of deliciousness!\\r\\n\\r...\n",
       "9997    i recently visited olive and ivy for business ...\n",
       "9998    my nephew just moved to scottsdale recently so...\n",
       "9999    4-5 locations.. all 4.5 star average.. i think...\n",
       "Name: text, Length: 10000, dtype: object"
      ]
     },
     "execution_count": 80,
     "metadata": {},
     "output_type": "execute_result"
    }
   ],
   "source": [
    "df['text']"
   ]
  },
  {
   "cell_type": "code",
   "execution_count": 81,
   "id": "e4d55f31-8439-48c8-91eb-b61693b3b76e",
   "metadata": {},
   "outputs": [
    {
     "data": {
      "text/plain": [
       "'my wife took me here on my birthday for breakfast and it was excellent.  the weather was perfect which made sitting outside overlooking their grounds an absolute pleasure.  our waitress was excellent and our food arrived quickly on the semi-busy saturday morning.  it looked like the place fills up pretty quickly so the earlier you get here the better.\\r\\n\\r\\ndo yourself a favor and get their bloody mary.  it was phenomenal and simply the best i\\'ve ever had.  i\\'m pretty sure they only use ingredients from their garden and blend them fresh when you order it.  it was amazing.\\r\\n\\r\\nwhile everything on the menu looks excellent, i had the white truffle scrambled eggs vegetable skillet and it was tasty and delicious.  it came with 2 pieces of their griddled bread with was amazing and it absolutely made the meal complete.  it was the best \"toast\" i\\'ve ever had.\\r\\n\\r\\nanyway, i can\\'t wait to go back!'"
      ]
     },
     "execution_count": 81,
     "metadata": {},
     "output_type": "execute_result"
    }
   ],
   "source": [
    "df.text[0]"
   ]
  },
  {
   "cell_type": "markdown",
   "id": "a46471c8-1630-4654-b649-9634d748fcd7",
   "metadata": {},
   "source": [
    "### Remove newline"
   ]
  },
  {
   "cell_type": "code",
   "execution_count": 82,
   "id": "1d413fe3-56dc-483b-863b-940b7bc0e3db",
   "metadata": {},
   "outputs": [],
   "source": [
    "df['text'] = df['text'].str.replace('\\n', '')"
   ]
  },
  {
   "cell_type": "markdown",
   "id": "c004b8e3-87ae-4dce-8ee9-5067e41d9a61",
   "metadata": {},
   "source": [
    "### Remove numerical values"
   ]
  },
  {
   "cell_type": "code",
   "execution_count": 83,
   "id": "c8f4a1b2-9743-4dd1-8162-8882bb4c9f31",
   "metadata": {},
   "outputs": [],
   "source": [
    "df['text'] = df['text'].str.replace('\\d+', '')"
   ]
  },
  {
   "cell_type": "code",
   "execution_count": 84,
   "id": "e76270eb-a475-4cf9-9039-3565dac5a7cc",
   "metadata": {},
   "outputs": [
    {
     "data": {
      "text/plain": [
       "'my wife took me here on my birthday for breakfast and it was excellent.  the weather was perfect which made sitting outside overlooking their grounds an absolute pleasure.  our waitress was excellent and our food arrived quickly on the semi-busy saturday morning.  it looked like the place fills up pretty quickly so the earlier you get here the better.\\r\\rdo yourself a favor and get their bloody mary.  it was phenomenal and simply the best i\\'ve ever had.  i\\'m pretty sure they only use ingredients from their garden and blend them fresh when you order it.  it was amazing.\\r\\rwhile everything on the menu looks excellent, i had the white truffle scrambled eggs vegetable skillet and it was tasty and delicious.  it came with 2 pieces of their griddled bread with was amazing and it absolutely made the meal complete.  it was the best \"toast\" i\\'ve ever had.\\r\\ranyway, i can\\'t wait to go back!'"
      ]
     },
     "execution_count": 84,
     "metadata": {},
     "output_type": "execute_result"
    }
   ],
   "source": [
    "df.text[0]"
   ]
  },
  {
   "cell_type": "code",
   "execution_count": 85,
   "id": "0576f817-94d6-441b-8957-161467f0fe54",
   "metadata": {},
   "outputs": [],
   "source": [
    "df['text'] = df['text'].str.replace('\\r', '')"
   ]
  },
  {
   "cell_type": "code",
   "execution_count": 86,
   "id": "83aa1a70-43e7-49e2-8b05-1d24a70905c8",
   "metadata": {},
   "outputs": [],
   "source": [
    "import seaborn as sns"
   ]
  },
  {
   "cell_type": "code",
   "execution_count": 87,
   "id": "70c6f8a8-b3bb-427e-a788-ce585e44a37d",
   "metadata": {},
   "outputs": [
    {
     "data": {
      "image/png": "[encoded data removed]",
      "text/plain": [
       "<Figure size 640x480 with 1 Axes>"
      ]
     },
     "metadata": {},
     "output_type": "display_data"
    }
   ],
   "source": [
    "sns.countplot(x=df['stars'], palette='bright');"
   ]
  },
  {
   "cell_type": "markdown",
   "id": "69c2e868-1088-440d-802a-42f15032efb3",
   "metadata": {},
   "source": [
    "4 & 5 scores will be positive, 1 & 2 will be negative. 0 will be neutral."
   ]
  },
  {
   "cell_type": "markdown",
   "id": "82d644e0-313e-4ad4-bfd1-1b6a4fa68da1",
   "metadata": {},
   "source": [
    "### Sentiment Analysis"
   ]
  },
  {
   "cell_type": "code",
   "execution_count": 88,
   "id": "e053195a-b73f-41d8-bcc1-d9660fc772dd",
   "metadata": {},
   "outputs": [],
   "source": [
    "yelpbw = df[(df.stars == 1) | (df.stars == 5)]"
   ]
  },
  {
   "cell_type": "code",
   "execution_count": 89,
   "id": "0be9f0a9-a842-4cb2-a709-81dd055a5a1d",
   "metadata": {},
   "outputs": [],
   "source": [
    "yelpbw.reset_index(drop=True, inplace=True)"
   ]
  },
  {
   "cell_type": "code",
   "execution_count": 90,
   "id": "c52e64c8-d54e-4003-a50f-ed14e1f7ae61",
   "metadata": {},
   "outputs": [
    {
     "data": {
      "text/html": [
       "<div>\n",
       "<style scoped>\n",
       "    .dataframe tbody tr th:only-of-type {\n",
       "        vertical-align: middle;\n",
       "    }\n",
       "\n",
       "    .dataframe tbody tr th {\n",
       "        vertical-align: top;\n",
       "    }\n",
       "\n",
       "    .dataframe thead th {\n",
       "        text-align: right;\n",
       "    }\n",
       "</style>\n",
       "<table border=\"1\" class=\"dataframe\">\n",
       "  <thead>\n",
       "    <tr style=\"text-align: right;\">\n",
       "      <th></th>\n",
       "      <th>business_id</th>\n",
       "      <th>date</th>\n",
       "      <th>review_id</th>\n",
       "      <th>stars</th>\n",
       "      <th>text</th>\n",
       "      <th>type</th>\n",
       "      <th>user_id</th>\n",
       "      <th>cool</th>\n",
       "      <th>useful</th>\n",
       "      <th>funny</th>\n",
       "    </tr>\n",
       "  </thead>\n",
       "  <tbody>\n",
       "    <tr>\n",
       "      <th>0</th>\n",
       "      <td>9yKzy9PApeiPPOUJEtnvkg</td>\n",
       "      <td>2011-01-26</td>\n",
       "      <td>fWKvX83p0-ka4JS3dc6E5A</td>\n",
       "      <td>5</td>\n",
       "      <td>my wife took me here on my birthday for breakf...</td>\n",
       "      <td>review</td>\n",
       "      <td>rLtl8ZkDX5vH5nAx9C3q5Q</td>\n",
       "      <td>2</td>\n",
       "      <td>5</td>\n",
       "      <td>0</td>\n",
       "    </tr>\n",
       "    <tr>\n",
       "      <th>1</th>\n",
       "      <td>ZRJwVLyzEJq1VAihDhYiow</td>\n",
       "      <td>2011-07-27</td>\n",
       "      <td>IjZ33sJrzXqU-0X6U8NwyA</td>\n",
       "      <td>5</td>\n",
       "      <td>i have no idea why some people give bad review...</td>\n",
       "      <td>review</td>\n",
       "      <td>0a2KyEL0d3Yb1V6aivbIuQ</td>\n",
       "      <td>0</td>\n",
       "      <td>0</td>\n",
       "      <td>0</td>\n",
       "    </tr>\n",
       "    <tr>\n",
       "      <th>2</th>\n",
       "      <td>_1QQZuf4zZOyFCvXc0o6Vg</td>\n",
       "      <td>2010-05-27</td>\n",
       "      <td>G-WvGaISbqqaMHlNnByodA</td>\n",
       "      <td>5</td>\n",
       "      <td>rosie, dakota, and i love chaparral dog park!!...</td>\n",
       "      <td>review</td>\n",
       "      <td>uZetl9T0NcROGOyFfughhg</td>\n",
       "      <td>1</td>\n",
       "      <td>2</td>\n",
       "      <td>0</td>\n",
       "    </tr>\n",
       "    <tr>\n",
       "      <th>3</th>\n",
       "      <td>6ozycU1RpktNG2-1BroVtw</td>\n",
       "      <td>2012-01-05</td>\n",
       "      <td>1uJFq2r5QfJG_6ExMRCaGw</td>\n",
       "      <td>5</td>\n",
       "      <td>general manager scott petello is a good egg!!!...</td>\n",
       "      <td>review</td>\n",
       "      <td>vYmM4KTsC8ZfQBg-j5MWkw</td>\n",
       "      <td>0</td>\n",
       "      <td>0</td>\n",
       "      <td>0</td>\n",
       "    </tr>\n",
       "    <tr>\n",
       "      <th>4</th>\n",
       "      <td>zp713qNhx8d9KCJJnrw1xA</td>\n",
       "      <td>2010-02-12</td>\n",
       "      <td>riFQ3vxNpP4rWLk_CSri2A</td>\n",
       "      <td>5</td>\n",
       "      <td>drop what you're doing and drive here. after i...</td>\n",
       "      <td>review</td>\n",
       "      <td>wFweIWhv2fREZV_dYkz_1g</td>\n",
       "      <td>7</td>\n",
       "      <td>7</td>\n",
       "      <td>4</td>\n",
       "    </tr>\n",
       "  </tbody>\n",
       "</table>\n",
       "</div>"
      ],
      "text/plain": [
       "              business_id        date               review_id  stars  \\\n",
       "0  9yKzy9PApeiPPOUJEtnvkg  2011-01-26  fWKvX83p0-ka4JS3dc6E5A      5   \n",
       "1  ZRJwVLyzEJq1VAihDhYiow  2011-07-27  IjZ33sJrzXqU-0X6U8NwyA      5   \n",
       "2  _1QQZuf4zZOyFCvXc0o6Vg  2010-05-27  G-WvGaISbqqaMHlNnByodA      5   \n",
       "3  6ozycU1RpktNG2-1BroVtw  2012-01-05  1uJFq2r5QfJG_6ExMRCaGw      5   \n",
       "4  zp713qNhx8d9KCJJnrw1xA  2010-02-12  riFQ3vxNpP4rWLk_CSri2A      5   \n",
       "\n",
       "                                                text    type  \\\n",
       "0  my wife took me here on my birthday for breakf...  review   \n",
       "1  i have no idea why some people give bad review...  review   \n",
       "2  rosie, dakota, and i love chaparral dog park!!...  review   \n",
       "3  general manager scott petello is a good egg!!!...  review   \n",
       "4  drop what you're doing and drive here. after i...  review   \n",
       "\n",
       "                  user_id  cool  useful  funny  \n",
       "0  rLtl8ZkDX5vH5nAx9C3q5Q     2       5      0  \n",
       "1  0a2KyEL0d3Yb1V6aivbIuQ     0       0      0  \n",
       "2  uZetl9T0NcROGOyFfughhg     1       2      0  \n",
       "3  vYmM4KTsC8ZfQBg-j5MWkw     0       0      0  \n",
       "4  wFweIWhv2fREZV_dYkz_1g     7       7      4  "
      ]
     },
     "execution_count": 90,
     "metadata": {},
     "output_type": "execute_result"
    }
   ],
   "source": [
    "yelpbw.head()"
   ]
  },
  {
   "cell_type": "code",
   "execution_count": 91,
   "id": "8ab53f7d-182d-4655-b61b-88050bf291cd",
   "metadata": {},
   "outputs": [],
   "source": [
    "from sklearn.linear_model import LogisticRegression\n",
    "from sklearn.model_selection import train_test_split"
   ]
  },
  {
   "cell_type": "code",
   "execution_count": 106,
   "id": "e0acf3e8-461a-466f-b32c-7cf3f38be455",
   "metadata": {},
   "outputs": [],
   "source": [
    "from nltk.stem import PorterStemmer"
   ]
  },
  {
   "cell_type": "code",
   "execution_count": 107,
   "id": "dc342b11-a4dd-4f24-abd6-196389bcc27a",
   "metadata": {},
   "outputs": [],
   "source": [
    "def lemmafn(text):\n",
    "    words = TextBlob(text).words\n",
    "    pr = PorterStemmer()\n",
    "    \n",
    "    return [pr.stem(word) for word in words]"
   ]
  },
  {
   "cell_type": "code",
   "execution_count": 120,
   "id": "ab47081a-fd3b-4344-b2f6-6d470ac9d5ae",
   "metadata": {},
   "outputs": [],
   "source": [
    "cv = CountVectorizer(stop_words='english', ngram_range=(1, 2), max_features=10_000, analyzer=lemmafn)"
   ]
  },
  {
   "cell_type": "code",
   "execution_count": 121,
   "id": "013f0ecb-15de-4a77-ba90-4d669a788220",
   "metadata": {},
   "outputs": [],
   "source": [
    "x = yelpbw['text']\n",
    "y = yelpbw['stars']"
   ]
  },
  {
   "cell_type": "code",
   "execution_count": 122,
   "id": "7d957324-2ccf-41ec-8acb-e7ac716712ab",
   "metadata": {},
   "outputs": [],
   "source": [
    "x = cv.fit_transform(x)"
   ]
  },
  {
   "cell_type": "code",
   "execution_count": 123,
   "id": "d3bf387e-e083-4382-8de5-69e49d3ff94c",
   "metadata": {},
   "outputs": [],
   "source": [
    "x_train, x_test, y_train, y_test = train_test_split(x, y, random_state=42, test_size=.2)"
   ]
  },
  {
   "cell_type": "code",
   "execution_count": 127,
   "id": "a20df3c1-810d-434f-be4a-931fae0931fd",
   "metadata": {},
   "outputs": [],
   "source": [
    "lr = LogisticRegression()"
   ]
  },
  {
   "cell_type": "code",
   "execution_count": 128,
   "id": "41e194bf-8371-46bf-84b9-271b39c73635",
   "metadata": {},
   "outputs": [],
   "source": [
    "pred = lr.fit(x_train, y_train).predict(x_test)"
   ]
  },
  {
   "cell_type": "code",
   "execution_count": 129,
   "id": "ebfe0d7b-8c04-4c9f-aca8-ad66f056bb5b",
   "metadata": {},
   "outputs": [],
   "source": [
    "from sklearn.metrics import accuracy_score"
   ]
  },
  {
   "cell_type": "code",
   "execution_count": 130,
   "id": "7dec7686-35b2-4d6a-b428-f35b8ce33d83",
   "metadata": {},
   "outputs": [
    {
     "data": {
      "text/plain": [
       "0.921760391198044"
      ]
     },
     "execution_count": 130,
     "metadata": {},
     "output_type": "execute_result"
    }
   ],
   "source": [
    "accuracy_score(pred, y_test)"
   ]
  },
  {
   "cell_type": "code",
   "execution_count": 131,
   "id": "0fe8405e-9ed6-4310-9bbd-c419a6adc364",
   "metadata": {},
   "outputs": [
    {
     "data": {
      "text/plain": [
       "Sentiment(polarity=-0.8, subjectivity=0.9)"
      ]
     },
     "execution_count": 131,
     "metadata": {},
     "output_type": "execute_result"
    }
   ],
   "source": [
    "from textblob import TextBlob\n",
    "\n",
    "TextBlob('I hate you.').sentiment"
   ]
  },
  {
   "cell_type": "code",
   "execution_count": 104,
   "id": "07630074-cee4-417e-b1dd-888e48b61f22",
   "metadata": {},
   "outputs": [
    {
     "data": {
      "text/plain": [
       "Sentiment(polarity=0.5, subjectivity=0.6)"
      ]
     },
     "execution_count": 104,
     "metadata": {},
     "output_type": "execute_result"
    }
   ],
   "source": [
    "TextBlob(\"I love you\").sentiment"
   ]
  },
  {
   "cell_type": "code",
   "execution_count": 105,
   "id": "cfe319cd-10f6-4d42-b7da-b4dc1c1d9967",
   "metadata": {},
   "outputs": [
    {
     "data": {
      "text/plain": [
       "Sentiment(polarity=1.0, subjectivity=0.3)"
      ]
     },
     "execution_count": 105,
     "metadata": {},
     "output_type": "execute_result"
    }
   ],
   "source": [
    "TextBlob(\"You are the best\").sentiment"
   ]
  },
  {
   "cell_type": "code",
   "execution_count": null,
   "id": "dcb9988e-eaf7-4cda-9e8c-95d9dfbed748",
   "metadata": {},
   "outputs": [],
   "source": []
  }
 ],
 "metadata": {
  "kernelspec": {
   "display_name": "Python 3 (ipykernel)",
   "language": "python",
   "name": "python3"
  },
  "language_info": {
   "codemirror_mode": {
    "name": "ipython",
    "version": 3
   },
   "file_extension": ".py",
   "mimetype": "text/x-python",
   "name": "python",
   "nbconvert_exporter": "python",
   "pygments_lexer": "ipython3",
   "version": "3.11.7"
  }
 },
 "nbformat": 4,
 "nbformat_minor": 5
}
