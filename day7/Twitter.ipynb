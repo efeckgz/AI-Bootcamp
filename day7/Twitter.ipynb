{
 "cells": [
  {
   "cell_type": "markdown",
   "id": "2e49f88b-7296-41bb-bf9f-faa2824aaa4d",
   "metadata": {},
   "source": [
    "# Twitter"
   ]
  },
  {
   "cell_type": "code",
   "execution_count": 1,
   "id": "7da62492-db63-4e14-aa60-69ebdb289342",
   "metadata": {},
   "outputs": [
    {
     "name": "stdout",
     "output_type": "stream",
     "text": [
      "Requirement already satisfied: twython in /opt/homebrew/Caskroom/miniconda/base/envs/datascience/lib/python3.11/site-packages (3.9.1)\n",
      "Requirement already satisfied: requests>=2.1.0 in /opt/homebrew/Caskroom/miniconda/base/envs/datascience/lib/python3.11/site-packages (from twython) (2.31.0)\n",
      "Requirement already satisfied: requests-oauthlib>=0.4.0 in /opt/homebrew/Caskroom/miniconda/base/envs/datascience/lib/python3.11/site-packages (from twython) (1.3.1)\n",
      "Requirement already satisfied: charset-normalizer<4,>=2 in /opt/homebrew/Caskroom/miniconda/base/envs/datascience/lib/python3.11/site-packages (from requests>=2.1.0->twython) (2.0.4)\n",
      "Requirement already satisfied: idna<4,>=2.5 in /opt/homebrew/Caskroom/miniconda/base/envs/datascience/lib/python3.11/site-packages (from requests>=2.1.0->twython) (3.4)\n",
      "Requirement already satisfied: urllib3<3,>=1.21.1 in /opt/homebrew/Caskroom/miniconda/base/envs/datascience/lib/python3.11/site-packages (from requests>=2.1.0->twython) (2.1.0)\n",
      "Requirement already satisfied: certifi>=2017.4.17 in /opt/homebrew/Caskroom/miniconda/base/envs/datascience/lib/python3.11/site-packages (from requests>=2.1.0->twython) (2024.2.2)\n",
      "Requirement already satisfied: oauthlib>=3.0.0 in /opt/homebrew/Caskroom/miniconda/base/envs/datascience/lib/python3.11/site-packages (from requests-oauthlib>=0.4.0->twython) (3.2.2)\n"
     ]
    }
   ],
   "source": [
    "!pip install twython"
   ]
  },
  {
   "cell_type": "code",
   "execution_count": 2,
   "id": "8dcc655c-989a-4b1a-a148-e6334011f8d7",
   "metadata": {},
   "outputs": [],
   "source": [
    "from twython import Twython"
   ]
  },
  {
   "cell_type": "code",
   "execution_count": 3,
   "id": "00a126ee-2d83-4be8-bb95-5be9a0c6a2c7",
   "metadata": {},
   "outputs": [],
   "source": [
    "# Zafer hocanin api bilgileri. Kendi hesabim olmadigi icin kullandim fakat Unothorized hatasi aliyorum.\n",
    "# Ders kodlarini bu notebok a yine de alacagim.\n",
    "\n",
    "CONSUMER_KEY = '0pJRCT1emkOcrtxHl7lMN4N5A'\n",
    "CONSUMER_SECRET = 'IS4Gxcx1aQ1c5Hyei5PSePLS37IcVmYBT8Qt1t4IOxmLIxJD42'"
   ]
  },
  {
   "cell_type": "code",
   "execution_count": 4,
   "id": "e5586e94-8565-4a32-90bf-1246954bd21b",
   "metadata": {},
   "outputs": [],
   "source": [
    "twitter = Twython(CONSUMER_KEY, CONSUMER_SECRET)"
   ]
  },
  {
   "cell_type": "code",
   "execution_count": 5,
   "id": "7f51b03c-b78b-4b86-995c-b75e029eed2a",
   "metadata": {},
   "outputs": [
    {
     "data": {
      "text/plain": [
       "['__class__',\n",
       " '__delattr__',\n",
       " '__dict__',\n",
       " '__dir__',\n",
       " '__doc__',\n",
       " '__eq__',\n",
       " '__format__',\n",
       " '__ge__',\n",
       " '__getattribute__',\n",
       " '__getstate__',\n",
       " '__gt__',\n",
       " '__hash__',\n",
       " '__init__',\n",
       " '__init_subclass__',\n",
       " '__le__',\n",
       " '__lt__',\n",
       " '__module__',\n",
       " '__ne__',\n",
       " '__new__',\n",
       " '__reduce__',\n",
       " '__reduce_ex__',\n",
       " '__repr__',\n",
       " '__setattr__',\n",
       " '__sizeof__',\n",
       " '__str__',\n",
       " '__subclasshook__',\n",
       " '__weakref__',\n",
       " '_get_error_message',\n",
       " '_last_call',\n",
       " '_request',\n",
       " 'access_token',\n",
       " 'access_token_url',\n",
       " 'add_list_member',\n",
       " 'api_url',\n",
       " 'api_version',\n",
       " 'app_key',\n",
       " 'app_secret',\n",
       " 'authenticate_url',\n",
       " 'client',\n",
       " 'client_args',\n",
       " 'construct_api_url',\n",
       " 'create_block',\n",
       " 'create_favorite',\n",
       " 'create_friendship',\n",
       " 'create_list',\n",
       " 'create_list_members',\n",
       " 'create_metadata',\n",
       " 'create_mute',\n",
       " 'create_place',\n",
       " 'create_saved_search',\n",
       " 'cursor',\n",
       " 'delete',\n",
       " 'delete_list',\n",
       " 'delete_list_member',\n",
       " 'delete_list_members',\n",
       " 'destroy_block',\n",
       " 'destroy_direct_message',\n",
       " 'destroy_favorite',\n",
       " 'destroy_friendship',\n",
       " 'destroy_mute',\n",
       " 'destroy_saved_search',\n",
       " 'destroy_status',\n",
       " 'encode',\n",
       " 'get',\n",
       " 'get_account_settings',\n",
       " 'get_application_rate_limit_status',\n",
       " 'get_authentication_tokens',\n",
       " 'get_authorized_tokens',\n",
       " 'get_available_trends',\n",
       " 'get_closest_trends',\n",
       " 'get_contributees',\n",
       " 'get_contributors',\n",
       " 'get_direct_message',\n",
       " 'get_direct_messages',\n",
       " 'get_favorites',\n",
       " 'get_followers_ids',\n",
       " 'get_followers_list',\n",
       " 'get_friends_ids',\n",
       " 'get_friends_list',\n",
       " 'get_geo_info',\n",
       " 'get_home_timeline',\n",
       " 'get_incoming_friendship_ids',\n",
       " 'get_lastfunction_header',\n",
       " 'get_list_members',\n",
       " 'get_list_memberships',\n",
       " 'get_list_statuses',\n",
       " 'get_list_subscribers',\n",
       " 'get_list_subscriptions',\n",
       " 'get_mentions_timeline',\n",
       " 'get_oembed_tweet',\n",
       " 'get_outgoing_friendship_ids',\n",
       " 'get_place_trends',\n",
       " 'get_privacy_policy',\n",
       " 'get_profile_banner_sizes',\n",
       " 'get_retweeters_ids',\n",
       " 'get_retweets',\n",
       " 'get_saved_searches',\n",
       " 'get_sent_messages',\n",
       " 'get_similar_places',\n",
       " 'get_specific_list',\n",
       " 'get_supported_languages',\n",
       " 'get_tos',\n",
       " 'get_twitter_configuration',\n",
       " 'get_user_ids_of_blocked_retweets',\n",
       " 'get_user_suggestions',\n",
       " 'get_user_suggestions_by_slug',\n",
       " 'get_user_suggestions_statuses_by_slug',\n",
       " 'get_user_timeline',\n",
       " 'html_for_tweet',\n",
       " 'invalidate_token',\n",
       " 'is_list_member',\n",
       " 'is_list_subscriber',\n",
       " 'list_block_ids',\n",
       " 'list_blocks',\n",
       " 'list_mute_ids',\n",
       " 'list_mutes',\n",
       " 'lookup_friendships',\n",
       " 'lookup_status',\n",
       " 'lookup_user',\n",
       " 'oauth_token',\n",
       " 'oauth_token_secret',\n",
       " 'oauth_version',\n",
       " 'obtain_access_token',\n",
       " 'post',\n",
       " 'remove_profile_banner',\n",
       " 'report_spam',\n",
       " 'request',\n",
       " 'request_token_url',\n",
       " 'retweet',\n",
       " 'retweeted_of_me',\n",
       " 'reverse_geocode',\n",
       " 'search',\n",
       " 'search_gen',\n",
       " 'search_geo',\n",
       " 'search_users',\n",
       " 'send_direct_message',\n",
       " 'show_friendship',\n",
       " 'show_lists',\n",
       " 'show_owned_lists',\n",
       " 'show_saved_search',\n",
       " 'show_status',\n",
       " 'show_user',\n",
       " 'subscribe_to_list',\n",
       " 'unicode2utf8',\n",
       " 'unsubscribe_from_list',\n",
       " 'update_account_settings',\n",
       " 'update_delivery_service',\n",
       " 'update_friendship',\n",
       " 'update_list',\n",
       " 'update_profile',\n",
       " 'update_profile_background_image',\n",
       " 'update_profile_banner_image',\n",
       " 'update_profile_colors',\n",
       " 'update_profile_image',\n",
       " 'update_status',\n",
       " 'update_status_with_media',\n",
       " 'upload_media',\n",
       " 'upload_video',\n",
       " 'verify_credentials']"
      ]
     },
     "execution_count": 5,
     "metadata": {},
     "output_type": "execute_result"
    }
   ],
   "source": [
    "dir(twitter)"
   ]
  },
  {
   "cell_type": "code",
   "execution_count": 6,
   "id": "d2ee4d8f-54eb-49dc-816f-0e42ec5fa225",
   "metadata": {},
   "outputs": [
    {
     "ename": "TwythonAuthError",
     "evalue": "Twitter API returned a 401 (Unauthorized), Could not authenticate you.",
     "output_type": "error",
     "traceback": [
      "\u001b[0;31m---------------------------------------------------------------------------\u001b[0m",
      "\u001b[0;31mTwythonAuthError\u001b[0m                          Traceback (most recent call last)",
      "Cell \u001b[0;32mIn[6], line 1\u001b[0m\n\u001b[0;32m----> 1\u001b[0m result \u001b[38;5;241m=\u001b[39m twitter\u001b[38;5;241m.\u001b[39msearch(q\u001b[38;5;241m=\u001b[39m\u001b[38;5;124m'\u001b[39m\u001b[38;5;124mhavayolu\u001b[39m\u001b[38;5;124m'\u001b[39m, lang\u001b[38;5;241m=\u001b[39m\u001b[38;5;124m'\u001b[39m\u001b[38;5;124mtr\u001b[39m\u001b[38;5;124m'\u001b[39m, count\u001b[38;5;241m=\u001b[39m\u001b[38;5;241m100\u001b[39m) \u001b[38;5;66;03m# Should return a json, provided the api does work which in this case it does not.\u001b[39;00m\n\u001b[1;32m      2\u001b[0m result\n",
      "File \u001b[0;32m/opt/homebrew/Caskroom/miniconda/base/envs/datascience/lib/python3.11/site-packages/twython/endpoints.py:293\u001b[0m, in \u001b[0;36mEndpointsMixin.search\u001b[0;34m(self, **params)\u001b[0m\n\u001b[1;32m    286\u001b[0m \u001b[38;5;28;01mdef\u001b[39;00m \u001b[38;5;21msearch\u001b[39m(\u001b[38;5;28mself\u001b[39m, \u001b[38;5;241m*\u001b[39m\u001b[38;5;241m*\u001b[39mparams):\n\u001b[1;32m    287\u001b[0m \u001b[38;5;250m    \u001b[39m\u001b[38;5;124;03m\"\"\"Returns a collection of relevant Tweets matching a specified query.\u001b[39;00m\n\u001b[1;32m    288\u001b[0m \n\u001b[1;32m    289\u001b[0m \u001b[38;5;124;03m    Docs:\u001b[39;00m\n\u001b[1;32m    290\u001b[0m \u001b[38;5;124;03m    https://developer.twitter.com/en/docs/tweets/search/api-reference/get-search-tweets\u001b[39;00m\n\u001b[1;32m    291\u001b[0m \n\u001b[1;32m    292\u001b[0m \u001b[38;5;124;03m    \"\"\"\u001b[39;00m\n\u001b[0;32m--> 293\u001b[0m     \u001b[38;5;28;01mreturn\u001b[39;00m \u001b[38;5;28mself\u001b[39m\u001b[38;5;241m.\u001b[39mget(\u001b[38;5;124m'\u001b[39m\u001b[38;5;124msearch/tweets\u001b[39m\u001b[38;5;124m'\u001b[39m, params\u001b[38;5;241m=\u001b[39mparams)\n",
      "File \u001b[0;32m/opt/homebrew/Caskroom/miniconda/base/envs/datascience/lib/python3.11/site-packages/twython/api.py:279\u001b[0m, in \u001b[0;36mTwython.get\u001b[0;34m(self, endpoint, params, version)\u001b[0m\n\u001b[1;32m    277\u001b[0m \u001b[38;5;28;01mdef\u001b[39;00m \u001b[38;5;21mget\u001b[39m(\u001b[38;5;28mself\u001b[39m, endpoint, params\u001b[38;5;241m=\u001b[39m\u001b[38;5;28;01mNone\u001b[39;00m, version\u001b[38;5;241m=\u001b[39m\u001b[38;5;124m'\u001b[39m\u001b[38;5;124m1.1\u001b[39m\u001b[38;5;124m'\u001b[39m):\n\u001b[1;32m    278\u001b[0m \u001b[38;5;250m    \u001b[39m\u001b[38;5;124;03m\"\"\"Shortcut for GET requests via :class:`request`\"\"\"\u001b[39;00m\n\u001b[0;32m--> 279\u001b[0m     \u001b[38;5;28;01mreturn\u001b[39;00m \u001b[38;5;28mself\u001b[39m\u001b[38;5;241m.\u001b[39mrequest(endpoint, params\u001b[38;5;241m=\u001b[39mparams, version\u001b[38;5;241m=\u001b[39mversion)\n",
      "File \u001b[0;32m/opt/homebrew/Caskroom/miniconda/base/envs/datascience/lib/python3.11/site-packages/twython/api.py:272\u001b[0m, in \u001b[0;36mTwython.request\u001b[0;34m(self, endpoint, method, params, version, json_encoded)\u001b[0m\n\u001b[1;32m    269\u001b[0m \u001b[38;5;28;01melse\u001b[39;00m:\n\u001b[1;32m    270\u001b[0m     url \u001b[38;5;241m=\u001b[39m \u001b[38;5;124m'\u001b[39m\u001b[38;5;132;01m%s\u001b[39;00m\u001b[38;5;124m/\u001b[39m\u001b[38;5;132;01m%s\u001b[39;00m\u001b[38;5;124m.json\u001b[39m\u001b[38;5;124m'\u001b[39m \u001b[38;5;241m%\u001b[39m (\u001b[38;5;28mself\u001b[39m\u001b[38;5;241m.\u001b[39mapi_url \u001b[38;5;241m%\u001b[39m version, endpoint)\n\u001b[0;32m--> 272\u001b[0m content \u001b[38;5;241m=\u001b[39m \u001b[38;5;28mself\u001b[39m\u001b[38;5;241m.\u001b[39m_request(url, method\u001b[38;5;241m=\u001b[39mmethod, params\u001b[38;5;241m=\u001b[39mparams,\n\u001b[1;32m    273\u001b[0m                         api_call\u001b[38;5;241m=\u001b[39murl, json_encoded\u001b[38;5;241m=\u001b[39mjson_encoded)\n\u001b[1;32m    275\u001b[0m \u001b[38;5;28;01mreturn\u001b[39;00m content\n",
      "File \u001b[0;32m/opt/homebrew/Caskroom/miniconda/base/envs/datascience/lib/python3.11/site-packages/twython/api.py:202\u001b[0m, in \u001b[0;36mTwython._request\u001b[0;34m(self, url, method, params, api_call, json_encoded)\u001b[0m\n\u001b[1;32m    195\u001b[0m     \u001b[38;5;28;01melif\u001b[39;00m response\u001b[38;5;241m.\u001b[39mstatus_code \u001b[38;5;241m==\u001b[39m \u001b[38;5;241m401\u001b[39m \u001b[38;5;129;01mor\u001b[39;00m \u001b[38;5;124m'\u001b[39m\u001b[38;5;124mBad Authentication data\u001b[39m\u001b[38;5;124m'\u001b[39m \\\n\u001b[1;32m    196\u001b[0m             \u001b[38;5;129;01min\u001b[39;00m error_message:\n\u001b[1;32m    197\u001b[0m         \u001b[38;5;66;03m# Twitter API 1.1, returns a 401 Unauthorized or\u001b[39;00m\n\u001b[1;32m    198\u001b[0m         \u001b[38;5;66;03m# a 400 \"Bad Authentication data\" for invalid/expired\u001b[39;00m\n\u001b[1;32m    199\u001b[0m         \u001b[38;5;66;03m# app keys/user tokens\u001b[39;00m\n\u001b[1;32m    200\u001b[0m         ExceptionType \u001b[38;5;241m=\u001b[39m TwythonAuthError\n\u001b[0;32m--> 202\u001b[0m     \u001b[38;5;28;01mraise\u001b[39;00m ExceptionType(\n\u001b[1;32m    203\u001b[0m         error_message,\n\u001b[1;32m    204\u001b[0m         error_code\u001b[38;5;241m=\u001b[39mresponse\u001b[38;5;241m.\u001b[39mstatus_code,\n\u001b[1;32m    205\u001b[0m         retry_after\u001b[38;5;241m=\u001b[39mresponse\u001b[38;5;241m.\u001b[39mheaders\u001b[38;5;241m.\u001b[39mget(\u001b[38;5;124m'\u001b[39m\u001b[38;5;124mX-Rate-Limit-Reset\u001b[39m\u001b[38;5;124m'\u001b[39m))\n\u001b[1;32m    206\u001b[0m content \u001b[38;5;241m=\u001b[39m \u001b[38;5;124m'\u001b[39m\u001b[38;5;124m'\u001b[39m\n\u001b[1;32m    207\u001b[0m \u001b[38;5;28;01mtry\u001b[39;00m:\n",
      "\u001b[0;31mTwythonAuthError\u001b[0m: Twitter API returned a 401 (Unauthorized), Could not authenticate you."
     ]
    }
   ],
   "source": [
    "result = twitter.search(q='havayolu', lang='tr', count=100) # Should return a json, provided the api does work which in this case it does not.\n",
    "result"
   ]
  },
  {
   "cell_type": "code",
   "execution_count": null,
   "id": "0020ebc2-4dd6-4b36-b9dd-9d33226b9402",
   "metadata": {},
   "outputs": [],
   "source": [
    "import pandas as pd"
   ]
  },
  {
   "cell_type": "code",
   "execution_count": null,
   "id": "c58b40d0-9e3b-4379-beab-f965f77c0aae",
   "metadata": {},
   "outputs": [],
   "source": [
    "df = pd.DataFrame(result['statuses'])"
   ]
  },
  {
   "cell_type": "code",
   "execution_count": null,
   "id": "8009de69-c1a6-4660-b4b0-dccd1897e232",
   "metadata": {},
   "outputs": [],
   "source": [
    "# A DataFrame of users found in the search that yielded 'result'.\n",
    "user = pd.DataFrame(d['user'] for d in result['statuses'])"
   ]
  },
  {
   "cell_type": "code",
   "execution_count": null,
   "id": "ecf87a1c-a65d-4f29-a338-373d46a446dd",
   "metadata": {},
   "outputs": [],
   "source": [
    "# This merges the result and the user dataframes.\n",
    "df = df.merge(user, lef_index=True, right_index=True)"
   ]
  },
  {
   "cell_type": "code",
   "execution_count": null,
   "id": "cd41a946-af7d-4b58-9b4e-9a6d54e07e9e",
   "metadata": {},
   "outputs": [],
   "source": [
    "# A barplot of the different locations from where the tweet that involved the keyword we searched earlier was tweeted from.\n",
    "df.location.value_counts().plot(kind='bar')"
   ]
  },
  {
   "cell_type": "code",
   "execution_count": null,
   "id": "febe496b-6e9e-40c4-8f75-fcfc04251466",
   "metadata": {},
   "outputs": [],
   "source": [
    "from textblob import TextBlob as tb"
   ]
  },
  {
   "cell_type": "code",
   "execution_count": null,
   "id": "596281e1-e12e-4ce6-ada0-ccc0ef9a6523",
   "metadata": {},
   "outputs": [],
   "source": [
    "def detect_sentiment(text):\n",
    "    tb(text).sentiment.polarity"
   ]
  },
  {
   "cell_type": "code",
   "execution_count": null,
   "id": "eb15d5c4-f372-4a1b-9588-9ea7a9c1ce89",
   "metadata": {},
   "outputs": [],
   "source": [
    "# We can use this function to prepare the text field of our twitter data.\n",
    "\n",
    "def nlp_prep(col):\n",
    "    col = col.str.lower()\n",
    "    col = col.str.replace('[^\\w\\s]', '')\n",
    "    col = col.str.replace('\\n', '')\n",
    "    col = col.str.replace('\\d+', '')\n",
    "    col = col.str.replace('\\r', '')\n",
    "\n",
    "    return col"
   ]
  },
  {
   "cell_type": "code",
   "execution_count": null,
   "id": "b0cbd1f2-b159-45c2-84b5-a94a9e090a74",
   "metadata": {
    "scrolled": true
   },
   "outputs": [],
   "source": [
    "# Adds a sentiment column to or data that demosntrates the sentiment of the text.\n",
    "\n",
    "df['sentiment'] = df['text'].apply(detect_sentiment)"
   ]
  },
  {
   "cell_type": "code",
   "execution_count": null,
   "id": "3269e8a7-25cb-429c-8f75-fa72b7654eef",
   "metadata": {},
   "outputs": [],
   "source": [
    "import seaborn as sns"
   ]
  },
  {
   "cell_type": "code",
   "execution_count": null,
   "id": "e83415d3-0269-433c-b3bd-b09d69c3a8dd",
   "metadata": {},
   "outputs": [],
   "source": [
    "# A visualization of the newley added sentiment column.\n",
    "sns.countplot(x=df['sentimnent'], palette='bright');"
   ]
  },
  {
   "cell_type": "code",
   "execution_count": null,
   "id": "d8bea779-dbb4-4e2d-8e23-1fa426f23e0b",
   "metadata": {},
   "outputs": [],
   "source": [
    "from sklearn.feature_extraction.text import CountVectorizer as cv\n",
    "v = cv()"
   ]
  },
  {
   "cell_type": "code",
   "execution_count": null,
   "id": "38f6e595-3443-4482-bb70-1f886e85b769",
   "metadata": {},
   "outputs": [],
   "source": [
    "def sentiment_categorizer(score):\n",
    "    \"\"\"\n",
    "        0 for neutral sentiment, 1 for positive sentiment, 2 for negative sentiment.\n",
    "    \"\"\"\n",
    "    \n",
    "    if score > .2:\n",
    "        return 1\n",
    "    if score < -0.2:\n",
    "        return 2\n",
    "\n",
    "    return 0"
   ]
  },
  {
   "cell_type": "code",
   "execution_count": null,
   "id": "06645284-ecff-40c6-8254-5fb99269efd9",
   "metadata": {},
   "outputs": [],
   "source": [
    "# Add a new column to the data frame indicating the class of the sentiment of this text.\n",
    "\n",
    "df['class'] = df['sentiment'].apply(sentiment_categorizer)"
   ]
  },
  {
   "cell_type": "code",
   "execution_count": null,
   "id": "3234f3c9-95a3-44f7-99f8-0b59afe10dfd",
   "metadata": {},
   "outputs": [],
   "source": [
    "# Visualize the class in a countplot.\n",
    "sns.countplot(x=df['class'], palette='bright');"
   ]
  },
  {
   "cell_type": "code",
   "execution_count": 7,
   "id": "7cd48b9f-2ad0-48c6-a188-b2d53cb27ace",
   "metadata": {},
   "outputs": [
    {
     "ename": "NameError",
     "evalue": "name 'df' is not defined",
     "output_type": "error",
     "traceback": [
      "\u001b[0;31m---------------------------------------------------------------------------\u001b[0m",
      "\u001b[0;31mNameError\u001b[0m                                 Traceback (most recent call last)",
      "Cell \u001b[0;32mIn[7], line 1\u001b[0m\n\u001b[0;32m----> 1\u001b[0m x \u001b[38;5;241m=\u001b[39m df[\u001b[38;5;124m'\u001b[39m\u001b[38;5;124mtext\u001b[39m\u001b[38;5;124m'\u001b[39m]\n\u001b[1;32m      2\u001b[0m y \u001b[38;5;241m=\u001b[39m df[\u001b[38;5;124m'\u001b[39m\u001b[38;5;124mclass\u001b[39m\u001b[38;5;124m'\u001b[39m]\n",
      "\u001b[0;31mNameError\u001b[0m: name 'df' is not defined"
     ]
    }
   ],
   "source": [
    "x = df['text']\n",
    "y = df['class']"
   ]
  },
  {
   "cell_type": "code",
   "execution_count": 8,
   "id": "86d0be14-7e7a-4373-89b4-3970f7888d52",
   "metadata": {},
   "outputs": [
    {
     "ename": "NameError",
     "evalue": "name 'v' is not defined",
     "output_type": "error",
     "traceback": [
      "\u001b[0;31m---------------------------------------------------------------------------\u001b[0m",
      "\u001b[0;31mNameError\u001b[0m                                 Traceback (most recent call last)",
      "Cell \u001b[0;32mIn[8], line 1\u001b[0m\n\u001b[0;32m----> 1\u001b[0m x \u001b[38;5;241m=\u001b[39m v\u001b[38;5;241m.\u001b[39mfit_transfrom(x)\n",
      "\u001b[0;31mNameError\u001b[0m: name 'v' is not defined"
     ]
    }
   ],
   "source": [
    "x = v.fit_transfrom(x)"
   ]
  },
  {
   "cell_type": "code",
   "execution_count": 9,
   "id": "c6d77741-868f-480a-883b-a57b646e3e55",
   "metadata": {},
   "outputs": [],
   "source": [
    "from sklearn.model_selection import train_test_split as tts\n",
    "from sklearn.metrics import accuracy_score as accs\n",
    "from sklearn.tree import DecisionTreeClassifier"
   ]
  },
  {
   "cell_type": "code",
   "execution_count": 10,
   "id": "e896f3e6-b131-4514-8820-fd837e9bec5a",
   "metadata": {},
   "outputs": [
    {
     "ename": "NameError",
     "evalue": "name 'x' is not defined",
     "output_type": "error",
     "traceback": [
      "\u001b[0;31m---------------------------------------------------------------------------\u001b[0m",
      "\u001b[0;31mNameError\u001b[0m                                 Traceback (most recent call last)",
      "Cell \u001b[0;32mIn[10], line 1\u001b[0m\n\u001b[0;32m----> 1\u001b[0m x_train, x_test, y_train, y_test \u001b[38;5;241m=\u001b[39m tts(x, y, random_state\u001b[38;5;241m=\u001b[39m\u001b[38;5;241m42\u001b[39m, test_size\u001b[38;5;241m=\u001b[39m\u001b[38;5;241m.2\u001b[39m)\n",
      "\u001b[0;31mNameError\u001b[0m: name 'x' is not defined"
     ]
    }
   ],
   "source": [
    "x_train, x_test, y_train, y_test = tts(x, y, random_state=42, test_size=.2)"
   ]
  },
  {
   "cell_type": "code",
   "execution_count": 11,
   "id": "6daef1de-c931-4b47-9194-6522da7825a5",
   "metadata": {},
   "outputs": [],
   "source": [
    "d = DecisionTreeClassifier()"
   ]
  },
  {
   "cell_type": "code",
   "execution_count": 12,
   "id": "0cc6cf0f-81b7-41f4-9199-c27534b9c190",
   "metadata": {},
   "outputs": [
    {
     "ename": "NameError",
     "evalue": "name 'x_train' is not defined",
     "output_type": "error",
     "traceback": [
      "\u001b[0;31m---------------------------------------------------------------------------\u001b[0m",
      "\u001b[0;31mNameError\u001b[0m                                 Traceback (most recent call last)",
      "Cell \u001b[0;32mIn[12], line 1\u001b[0m\n\u001b[0;32m----> 1\u001b[0m model \u001b[38;5;241m=\u001b[39m d\u001b[38;5;241m.\u001b[39mfit(x_train, y_train)\n",
      "\u001b[0;31mNameError\u001b[0m: name 'x_train' is not defined"
     ]
    }
   ],
   "source": [
    "model = d.fit(x_train, y_train)"
   ]
  },
  {
   "cell_type": "code",
   "execution_count": 13,
   "id": "edcb4d42-3f6c-46bc-9b60-fdc88a925cf7",
   "metadata": {},
   "outputs": [
    {
     "ename": "NameError",
     "evalue": "name 'model' is not defined",
     "output_type": "error",
     "traceback": [
      "\u001b[0;31m---------------------------------------------------------------------------\u001b[0m",
      "\u001b[0;31mNameError\u001b[0m                                 Traceback (most recent call last)",
      "Cell \u001b[0;32mIn[13], line 1\u001b[0m\n\u001b[0;32m----> 1\u001b[0m pred \u001b[38;5;241m=\u001b[39m model\u001b[38;5;241m.\u001b[39mpredict(x_test)\n",
      "\u001b[0;31mNameError\u001b[0m: name 'model' is not defined"
     ]
    }
   ],
   "source": [
    "pred = model.predict(x_test)"
   ]
  },
  {
   "cell_type": "code",
   "execution_count": 14,
   "id": "68f3e203-cfaa-482c-b2cb-2d8dbd81945d",
   "metadata": {},
   "outputs": [
    {
     "ename": "NameError",
     "evalue": "name 'pred' is not defined",
     "output_type": "error",
     "traceback": [
      "\u001b[0;31m---------------------------------------------------------------------------\u001b[0m",
      "\u001b[0;31mNameError\u001b[0m                                 Traceback (most recent call last)",
      "Cell \u001b[0;32mIn[14], line 1\u001b[0m\n\u001b[0;32m----> 1\u001b[0m accs(pred, y_test)\n",
      "\u001b[0;31mNameError\u001b[0m: name 'pred' is not defined"
     ]
    }
   ],
   "source": [
    "accs(pred, y_test)"
   ]
  },
  {
   "cell_type": "code",
   "execution_count": null,
   "id": "43b7581d-b253-458b-9221-761affe2231d",
   "metadata": {},
   "outputs": [],
   "source": []
  }
 ],
 "metadata": {
  "kernelspec": {
   "display_name": "Python 3 (ipykernel)",
   "language": "python",
   "name": "python3"
  },
  "language_info": {
   "codemirror_mode": {
    "name": "ipython",
    "version": 3
   },
   "file_extension": ".py",
   "mimetype": "text/x-python",
   "name": "python",
   "nbconvert_exporter": "python",
   "pygments_lexer": "ipython3",
   "version": "3.11.7"
  }
 },
 "nbformat": 4,
 "nbformat_minor": 5
}
