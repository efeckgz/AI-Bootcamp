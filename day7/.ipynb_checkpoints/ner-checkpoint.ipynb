{
 "cells": [
  {
   "cell_type": "markdown",
   "id": "63fb31b8-c3a8-428d-ae52-ef3eb9f1da53",
   "metadata": {},
   "source": [
    "# NER - Named Entity Recognition\n",
    "\n",
    "Recognition of places, people and organizations inside of a piece of text."
   ]
  },
  {
   "cell_type": "markdown",
   "id": "dc17b1c0-fcb6-4621-bb34-1706c19b1424",
   "metadata": {},
   "source": [
    "1. NLP - Translation\n",
    "2. POS - Part of Speech\n",
    "3. Sentiment Analysis\n",
    "4. Text Classification\n",
    "5. Text Generation\n",
    "6. Text Summarization\n",
    "7. NER - Named Entity Recognition"
   ]
  },
  {
   "cell_type": "code",
   "execution_count": null,
   "id": "91128d74-f3e9-4b6d-9120-fa85c7882950",
   "metadata": {},
   "outputs": [],
   "source": []
  }
 ],
 "metadata": {
  "kernelspec": {
   "display_name": "Python 3 (ipykernel)",
   "language": "python",
   "name": "python3"
  },
  "language_info": {
   "codemirror_mode": {
    "name": "ipython",
    "version": 3
   },
   "file_extension": ".py",
   "mimetype": "text/x-python",
   "name": "python",
   "nbconvert_exporter": "python",
   "pygments_lexer": "ipython3",
   "version": "3.11.7"
  }
 },
 "nbformat": 4,
 "nbformat_minor": 5
}
