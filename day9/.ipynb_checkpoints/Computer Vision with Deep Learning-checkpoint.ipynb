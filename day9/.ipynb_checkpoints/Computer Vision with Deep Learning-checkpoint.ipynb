{
 "cells": [
  {
   "cell_type": "markdown",
   "id": "cb817aec-6267-4aaa-8862-70c2d5aaac79",
   "metadata": {},
   "source": [
    "# Computer Vision with Deep Learning"
   ]
  },
  {
   "cell_type": "code",
   "execution_count": 1,
   "id": "bb007b84-688f-4a14-8fe6-8b351ecf492c",
   "metadata": {},
   "outputs": [],
   "source": [
    "from bing_image_downloader import downloader"
   ]
  },
  {
   "cell_type": "code",
   "execution_count": 2,
   "id": "47ef33b0-f427-40c9-abbb-c7583a8fa43e",
   "metadata": {},
   "outputs": [
    {
     "name": "stdout",
     "output_type": "stream",
     "text": [
      "[%] Downloading Images to /Users/efeacikgoz/AI-Bootcamp/day9/dataset/horse\n",
      "\n",
      "\n",
      "[!!]Indexing page: 1\n",
      "\n",
      "[%] Indexed 35 Images on Page 1.\n",
      "\n",
      "===============================================\n",
      "\n",
      "[%] Downloading Image #1 from http://images4.fanpop.com/image/photos/19600000/Spectacular-Horses-horses-19665127-1146-1148.jpg\n",
      "[%] File Downloaded !\n",
      "\n",
      "[%] Downloading Image #2 from https://www.hdwallpaper.nu/wp-content/uploads/2015/12/white_horse_wallpaper_37.jpg\n",
      "[%] File Downloaded !\n",
      "\n",
      "[%] Downloading Image #3 from http://images4.fanpop.com/image/photos/22400000/Beautiful-Horse-horses-22410589-1280-800.jpg\n",
      "[%] File Downloaded !\n",
      "\n",
      "[%] Downloading Image #4 from http://images2.fanpop.com/images/photos/3200000/Horses-horses-3221472-1024-774.jpg\n",
      "[%] File Downloaded !\n",
      "\n",
      "[%] Downloading Image #5 from https://www.storypick.com/wp-content/uploads/2021/03/horse.jpg\n",
      "[%] File Downloaded !\n",
      "\n",
      "[%] Downloading Image #6 from https://wp-cpr.s3.amazonaws.com/uploads/2019/06/ap_19067695591764-1.jpg\n",
      "[%] File Downloaded !\n",
      "\n",
      "[%] Downloading Image #7 from https://2.bp.blogspot.com/-uLQMp1pqCDY/UyX6-93SEbI/AAAAAAAAAbo/SnIt3rVLfsY/s1600/Charles+horse+Photo.jpg\n",
      "[%] File Downloaded !\n",
      "\n",
      "[%] Downloading Image #8 from https://images6.alphacoders.com/324/324809.jpg\n",
      "[%] File Downloaded !\n",
      "\n",
      "[%] Downloading Image #9 from http://upload.wikimedia.org/wikipedia/commons/0/04/Puerto_rican-Paso-Fino-Horse-chestnut.jpg\n",
      "[%] File Downloaded !\n",
      "\n",
      "[%] Downloading Image #10 from https://cdn.wallpapersafari.com/65/79/tcDsmg.jpg\n",
      "[%] File Downloaded !\n",
      "\n",
      "[%] Downloading Image #11 from https://petkeen.com/wp-content/uploads/2021/04/Running-gallop-black-Friesian-horse_Makarova-Viktoria_Shutterstock.jpg\n",
      "[%] File Downloaded !\n",
      "\n",
      "[%] Downloading Image #12 from https://www.mymoinfo.com/wp-content/uploads/2020/03/horsefunny1-scaled.jpg\n",
      "[!] Issue getting: https://www.mymoinfo.com/wp-content/uploads/2020/03/horsefunny1-scaled.jpg\n",
      "[!] Error:: HTTP Error 403: Forbidden\n",
      "[%] Downloading Image #12 from http://www.mitchinson.net/photoalbum/Animals/slides/horse.jpg\n",
      "[%] File Downloaded !\n",
      "\n",
      "[%] Downloading Image #13 from https://wallup.net/wp-content/uploads/2016/01/58931-horse-sunset-animals-sunlight-field.jpg\n",
      "[%] File Downloaded !\n",
      "\n",
      "[%] Downloading Image #14 from https://wallpapercave.com/wp/3HwvVma.jpg\n",
      "[%] File Downloaded !\n",
      "\n",
      "[%] Downloading Image #15 from https://shadyarabianhorses.files.wordpress.com/2012/05/falaah2007.jpg\n",
      "[Error]Invalid image, not saving https://shadyarabianhorses.files.wordpress.com/2012/05/falaah2007.jpg\n",
      "\n",
      "[!] Issue getting: https://shadyarabianhorses.files.wordpress.com/2012/05/falaah2007.jpg\n",
      "[!] Error:: Invalid image, not saving https://shadyarabianhorses.files.wordpress.com/2012/05/falaah2007.jpg\n",
      "\n",
      "[%] Downloading Image #15 from https://i2.wp.com/ihearthorses.com/wp-content/uploads/2018/05/Canva-Dressage-Button-Braids-scaled.jpg\n",
      "[%] File Downloaded !\n",
      "\n",
      "[%] Downloading Image #16 from https://wallpapercave.com/wp/5q5Atyc.jpg\n",
      "[%] File Downloaded !\n",
      "\n",
      "[%] Downloading Image #17 from https://wallpapercave.com/wp/aXRE4yM.jpg\n",
      "[%] File Downloaded !\n",
      "\n",
      "[%] Downloading Image #18 from https://images2.minutemediacdn.com/image/upload/c_fill,g_auto,h_1248,w_2220/v1555343220/shape/mentalfloss/zebrahorse-hero.jpg?itok=e5Gxbd2j\n",
      "[%] File Downloaded !\n",
      "\n",
      "[%] Downloading Image #19 from https://wallup.net/wp-content/uploads/2019/09/669989-animal-horse-flower-beauty.jpg\n",
      "[%] File Downloaded !\n",
      "\n",
      "[%] Downloading Image #20 from https://hdqwalls.com/download/white-horses-hd-1920x1080.jpg\n",
      "[%] File Downloaded !\n",
      "\n",
      "[%] Downloading Image #21 from http://tsauction.co.uk/wp-content/uploads/2016/11/Horses-Ponies-category-image.jpg\n",
      "[%] File Downloaded !\n",
      "\n",
      "[%] Downloading Image #22 from https://4.bp.blogspot.com/-LF3bYW-n1y8/TbX0qZ1peiI/AAAAAAAAA0o/2BD4s29sCe4/s1600/horse+2.jpg\n",
      "[%] File Downloaded !\n",
      "\n",
      "[%] Downloading Image #23 from https://i.pinimg.com/originals/57/d6/9d/57d69d961ddc8fd57536b5b6a173fdfa.jpg\n",
      "[%] File Downloaded !\n",
      "\n",
      "[%] Downloading Image #24 from https://wallpapercave.com/wp/3EzjeXE.jpg\n",
      "[%] File Downloaded !\n",
      "\n",
      "[%] Downloading Image #25 from http://images4.fanpop.com/image/photos/23700000/Horse-horses-23799984-800-600.jpg\n",
      "[%] File Downloaded !\n",
      "\n",
      "[%] Downloading Image #26 from https://cdn11.bigcommerce.com/s-x49po/images/stencil/1280x1280/products/52039/69492/1594223570672_21E39ED0-6FD6-4461-AC7D-6D84A2127E0A__52540.1594364460.jpg?c=2\n",
      "[%] File Downloaded !\n",
      "\n",
      "[%] Downloading Image #27 from https://i.pinimg.com/originals/25/53/31/25533157b612ca2d1df23b293c65ab41.jpg\n",
      "[%] File Downloaded !\n",
      "\n",
      "[%] Downloading Image #28 from https://horseracingsense.com/wp-content/uploads/2021/01/exercise5.jpg\n",
      "[%] File Downloaded !\n",
      "\n",
      "[%] Downloading Image #29 from https://wallpaperaccess.com/full/1765874.jpg\n",
      "[%] File Downloaded !\n",
      "\n",
      "[%] Downloading Image #30 from https://horseracingsense.com/wp-content/uploads/2021/06/horse.riding-1024x576.jpg\n",
      "[%] File Downloaded !\n",
      "\n",
      "[%] Downloading Image #31 from https://wallpapercave.com/wp/wp8648116.jpg\n",
      "[%] File Downloaded !\n",
      "\n",
      "[%] Downloading Image #32 from https://thebankrollers.com/wp-content/uploads/2016/04/horse-racing.jpg\n",
      "[%] File Downloaded !\n",
      "\n",
      "[%] Downloading Image #33 from http://www.todayifoundout.com/wp-content/uploads/2015/07/horse-racing.png\n",
      "[%] File Downloaded !\n",
      "\n",
      "\n",
      "\n",
      "[!!]Indexing page: 2\n",
      "\n",
      "[%] Indexed 35 Images on Page 2.\n",
      "\n",
      "===============================================\n",
      "\n",
      "[%] Downloading Image #34 from https://i.pinimg.com/originals/75/1e/d1/751ed1e2f61d231b944afa1e38b30747.jpg\n",
      "[%] File Downloaded !\n",
      "\n",
      "[%] Downloading Image #35 from http://1.bp.blogspot.com/_pq6ZtsfBob0/TLJj50aVkDI/AAAAAAAAA-A/JLUz60Xdk9Y/s1600/20101001-IMG_7984.jpg\n",
      "[%] File Downloaded !\n",
      "\n",
      "[%] Downloading Image #36 from https://cdn.pixabay.com/photo/2014/09/19/08/17/horse-451841_1280.jpg\n",
      "[%] File Downloaded !\n",
      "\n",
      "[%] Downloading Image #37 from https://usercontent1.hubstatic.com/10111426_f520.jpg\n",
      "[%] File Downloaded !\n",
      "\n",
      "[%] Downloading Image #38 from https://1.bp.blogspot.com/_CFzTCGYYd38/S_omlJvYrqI/AAAAAAAAAD0/ilSuGDA55Cg/s1600/horse-776493.jpg\n",
      "[%] File Downloaded !\n",
      "\n",
      "[%] Downloading Image #39 from http://discoverstclair.com/wp-content/gallery/aradon_shangrila/aradon-horses-4.jpg\n",
      "[%] File Downloaded !\n",
      "\n",
      "[%] Downloading Image #40 from https://3.bp.blogspot.com/-5kzF0NpmIKE/U7__lWE0DvI/AAAAAAAAA_Q/lxE1GeeKMg8/s1600/Aga+Khan+Horse.jpg\n",
      "[%] File Downloaded !\n",
      "\n",
      "[%] Downloading Image #41 from https://images.saymedia-content.com/.image/t_share/MTc2MjY2NTIxOTA2MTkzNTk4/top-30-most-beautiful-horse-breeds.jpg\n",
      "[%] File Downloaded !\n",
      "\n",
      "\n",
      "\n",
      "[!!]Indexing page: 3\n",
      "\n",
      "[%] Indexed 35 Images on Page 3.\n",
      "\n",
      "===============================================\n",
      "\n",
      "[%] Downloading Image #42 from http://2.bp.blogspot.com/-uLQMp1pqCDY/UyX6-93SEbI/AAAAAAAAAbo/SnIt3rVLfsY/s1600/Charles+horse+Photo.jpg\n",
      "[%] File Downloaded !\n",
      "\n",
      "[%] Downloading Image #43 from http://wallpapercave.com/wp/8y1w2of.jpg\n",
      "[%] File Downloaded !\n",
      "\n",
      "[%] Downloading Image #44 from http://wallpapercave.com/wp/YMvnCm8.jpg\n",
      "[%] File Downloaded !\n",
      "\n",
      "[%] Downloading Image #45 from http://3.bp.blogspot.com/-5kzF0NpmIKE/U7__lWE0DvI/AAAAAAAAA_Q/lxE1GeeKMg8/s1600/Aga+Khan+Horse.jpg\n",
      "[%] File Downloaded !\n",
      "\n",
      "[%] Downloading Image #46 from http://getwallpapers.com/wallpaper/full/f/d/3/956923-wallpaper-horse-1920x1080-for-windows-10.jpg\n",
      "[%] File Downloaded !\n",
      "\n",
      "[%] Downloading Image #47 from http://1.bp.blogspot.com/--qHfxlS3VUc/UyX68Y4nL-I/AAAAAAAAAbc/H9BGlHLXloY/s1600/Diaz+constuction+horse.jpg\n",
      "[%] File Downloaded !\n",
      "\n",
      "[%] Downloading Image #48 from http://3.bp.blogspot.com/-GPV8c4J1OqQ/T_1zSVREqYI/AAAAAAAAMsA/KpOTJzLYWlw/s1600/Horse.jpg\n",
      "[%] File Downloaded !\n",
      "\n",
      "[%] Downloading Image #49 from http://instrideedition.com/wp-content/uploads/2017/06/MsPizzazzImprint_2.jpg\n",
      "[%] File Downloaded !\n",
      "\n",
      "[%] Downloading Image #50 from https://www.portugalresident.com/wp-content/uploads/2014/05/090514_su_arc_horses_poster.jpg\n",
      "[%] File Downloaded !\n",
      "\n",
      "[%] Downloading Image #51 from http://upload.wikimedia.org/wikipedia/commons/9/98/Horse-and-pony.jpg\n",
      "[%] File Downloaded !\n",
      "\n",
      "[%] Downloading Image #52 from https://i2.wp.com/ihearthorses.com/wp-content/uploads/2016/01/Canva-arabian-horse-rearing-on-the-meadow-scaled.jpg\n",
      "[%] File Downloaded !\n",
      "\n",
      "\n",
      "\n",
      "[!!]Indexing page: 4\n",
      "\n",
      "[%] Indexed 35 Images on Page 4.\n",
      "\n",
      "===============================================\n",
      "\n",
      "[%] Downloading Image #53 from https://i.pinimg.com/originals/73/bd/73/73bd731274c92e979585e3b0cf10c256.jpg\n",
      "[%] File Downloaded !\n",
      "\n",
      "[%] Downloading Image #54 from http://upload.wikimedia.org/wikipedia/commons/c/c9/Horse_in_halter_-_1.jpg\n",
      "[%] File Downloaded !\n",
      "\n",
      "[%] Downloading Image #55 from http://2.bp.blogspot.com/-_Ck7j8CcHN8/TgyisNXdBhI/AAAAAAAAANg/UWAueeKVSIU/s1600/Horses+on+site+2.JPG\n",
      "[%] File Downloaded !\n",
      "\n",
      "[%] Downloading Image #56 from https://i.pinimg.com/originals/77/19/03/771903d48d4b0249d8fb0eb75a08c06b.jpg\n",
      "[%] File Downloaded !\n",
      "\n",
      "[%] Downloading Image #57 from http://images6.alphacoders.com/345/345448.jpg\n",
      "[%] File Downloaded !\n",
      "\n",
      "[%] Downloading Image #58 from https://fthmb.tqn.com/AvaCy90g8O7Cmq31H7U_eCXGono=/5600x3733/filters:fill(auto,1)/young-woman-on-horse-crossing-obstacle-on-course-545878061-5887d4315f9b58bdb38c3a14.jpg\n",
      "[%] File Downloaded !\n",
      "\n",
      "[%] Downloading Image #59 from http://upload.wikimedia.org/wikipedia/commons/b/be/Nova_the_miniature_horse.jpg\n",
      "[%] File Downloaded !\n",
      "\n",
      "[%] Downloading Image #60 from https://static01.nyt.com/images/2019/10/06/fashion/04LAAR1/04LAAR1-superJumbo.jpg?quality=90&amp;auto=webp\n",
      "[%] File Downloaded !\n",
      "\n",
      "[%] Downloading Image #61 from https://www.publicdomainpictures.net/pictures/170000/nahled/horse-1461511220T12.jpg\n",
      "[%] File Downloaded !\n",
      "\n",
      "[%] Downloading Image #62 from http://seminarygal.com/wp-content/uploads/2012/08/horse.jpg\n",
      "[%] File Downloaded !\n",
      "\n",
      "[%] Downloading Image #63 from https://e-stock.us/samples/Njk0NzUyMWVlNWI4NmYz/MzIxZWU1Yjg2ZjM=/Horse.jpg\n",
      "[%] File Downloaded !\n",
      "\n",
      "[%] Downloading Image #64 from https://goldenwoodstudio.com/wp-content/uploads/2022/01/Morgan_Step03.jpg\n",
      "[%] File Downloaded !\n",
      "\n",
      "[%] Downloading Image #65 from https://lh3.googleusercontent.com/-lalc9BQNnC8/TXpTfzOp5II/AAAAAAAAAYQ/Yw0-hRHkTbg/s1600/horse.jpg\n",
      "[%] File Downloaded !\n",
      "\n",
      "[%] Downloading Image #66 from http://www.publicdomainpictures.net/pictures/10000/velka/97-1204039559GF6V.jpg\n",
      "[%] File Downloaded !\n",
      "\n",
      "[%] Downloading Image #67 from https://www.pinaymommyonline.com/wp-content/uploads/2012/11/horse.png\n",
      "[%] File Downloaded !\n",
      "\n",
      "\n",
      "\n",
      "[!!]Indexing page: 5\n",
      "\n",
      "[%] Indexed 35 Images on Page 5.\n",
      "\n",
      "===============================================\n",
      "\n",
      "[%] Downloading Image #68 from https://images.hdqwalls.com/download/horse-digital-art-le-3840x2160.jpg\n",
      "[%] File Downloaded !\n",
      "\n",
      "[%] Downloading Image #69 from https://i.pinimg.com/originals/24/73/24/24732448cd9e65c5fa4cfa726f817347.jpg\n",
      "[%] File Downloaded !\n",
      "\n",
      "[%] Downloading Image #70 from http://thehoustoncritic.com/wp-content/uploads/2014/06/GOTRH-black-horse-stand-solo.jpg\n",
      "[%] File Downloaded !\n",
      "\n",
      "[%] Downloading Image #71 from https://get.pxhere.com/photo/creative-horse-mammal-stallion-mane-still-life-artwork-painting-horses-art-vertebrate-mare-digital-art-photo-painting-pack-animal-digital-painting-horse-like-mammal-mustang-horse-rennende-horse-1282972.jpg\n",
      "[%] File Downloaded !\n",
      "\n",
      "[%] Downloading Image #72 from https://i2.wp.com/www.clipartplace.com/wp-content/uploads/Free-Vintage-Thoroughbred-horse-clipart-clipartplace.jpg\n",
      "[%] File Downloaded !\n",
      "\n",
      "\n",
      "\n",
      "[!!]Indexing page: 6\n",
      "\n",
      "[%] Indexed 35 Images on Page 6.\n",
      "\n",
      "===============================================\n",
      "\n",
      "[%] Downloading Image #73 from http://kids.christiansunite.com/images/animals/horse.jpg\n",
      "[%] File Downloaded !\n",
      "\n",
      "\n",
      "\n",
      "[!!]Indexing page: 7\n",
      "\n",
      "[%] Indexed 35 Images on Page 7.\n",
      "\n",
      "===============================================\n",
      "\n",
      "\n",
      "\n",
      "[!!]Indexing page: 8\n",
      "\n",
      "[%] Indexed 35 Images on Page 8.\n",
      "\n",
      "===============================================\n",
      "\n",
      "\n",
      "\n",
      "[!!]Indexing page: 9\n",
      "\n",
      "[%] Indexed 35 Images on Page 9.\n",
      "\n",
      "===============================================\n",
      "\n",
      "\n",
      "\n",
      "[!!]Indexing page: 10\n",
      "\n",
      "[%] Indexed 35 Images on Page 10.\n",
      "\n",
      "===============================================\n",
      "\n",
      "[%] Downloading Image #74 from http://1.bp.blogspot.com/-a_YVK7xm4Lw/UbbftoPBhoI/AAAAAAAADWM/_X7V77Nz8x8/s1600/horse-Wallpaper+(6).jpg\n",
      "[%] File Downloaded !\n",
      "\n",
      "\n",
      "\n",
      "[!!]Indexing page: 11\n",
      "\n",
      "[%] Indexed 35 Images on Page 11.\n",
      "\n",
      "===============================================\n",
      "\n",
      "\n",
      "\n",
      "[!!]Indexing page: 12\n",
      "\n",
      "[%] Indexed 35 Images on Page 12.\n",
      "\n",
      "===============================================\n",
      "\n",
      "[%] Downloading Image #75 from https://i.pinimg.com/originals/37/6b/c1/376bc1fc2b51f2adf919646610046966.jpg\n",
      "[%] File Downloaded !\n",
      "\n",
      "[%] Downloading Image #76 from https://cdna.artstation.com/p/assets/images/images/006/744/178/large/jia-hao-2017-dragonhorse-comp-01.jpg?1500939636\n",
      "[%] File Downloaded !\n",
      "\n",
      "\n",
      "\n",
      "[!!]Indexing page: 13\n",
      "\n",
      "[%] Indexed 35 Images on Page 13.\n",
      "\n",
      "===============================================\n",
      "\n",
      "\n",
      "\n",
      "[!!]Indexing page: 14\n",
      "\n",
      "[%] Indexed 35 Images on Page 14.\n",
      "\n",
      "===============================================\n",
      "\n",
      "[%] Downloading Image #77 from https://files.usef.org/assets/B3bW37wmGeM/232-071-18ksf-usef_articleshare.jpg\n",
      "[%] File Downloaded !\n",
      "\n",
      "[%] Downloading Image #78 from https://cavvysavvy.tsln.com/wp-content/uploads/2015/03/IMG_2391.jpg\n",
      "[%] File Downloaded !\n",
      "\n",
      "[%] Downloading Image #79 from https://bloximages.chicago2.vip.townnews.com/rapidcityjournal.com/content/tncms/assets/v3/editorial/0/c0/0c0eae8b-d370-51ba-9863-3dfecfd07199/5ce82bc479f77.image.jpg\n",
      "[%] File Downloaded !\n",
      "\n",
      "[%] Downloading Image #80 from https://s.yimg.com/ny/api/res/1.2/HTV0_PCEu.aBT1c3Z1Dqug--/YXBwaWQ9aGlnaGxhbmRlcjt3PTk2MDtoPTcyMA--/https://media.zenfs.com/en/the_independent_635/e6d0cc4be0bced1f57c8b6be997718e2\n",
      "[%] File Downloaded !\n",
      "\n",
      "[%] Downloading Image #81 from http://www.wrinkydinks.com/yahoo/horses/horsei35.jpg\n",
      "[%] File Downloaded !\n",
      "\n",
      "[%] Downloading Image #82 from http://www.publicdomainpictures.net/pictures/90000/velka/horse-1400502729BYL.jpg\n",
      "[%] File Downloaded !\n",
      "\n",
      "[%] Downloading Image #83 from https://www.oxfordlearnersdictionaries.com/media/american_english/fullsize/h/hor/horse/horse.jpg\n",
      "[%] File Downloaded !\n",
      "\n",
      "[%] Downloading Image #84 from https://static3.bigstockphoto.com/1/7/3/large1500/371960548.jpg\n",
      "[%] File Downloaded !\n",
      "\n",
      "[%] Downloading Image #85 from http://petmaya.com/wp-content/uploads/2015/12/horse-breed-08.jpg\n",
      "[%] File Downloaded !\n",
      "\n",
      "[%] Downloading Image #86 from http://labgenvet.ca/wp-content/uploads/2018/07/Horse-Basic-Colours.png\n",
      "[%] File Downloaded !\n",
      "\n",
      "[%] Downloading Image #87 from https://i.pinimg.com/originals/5a/aa/e0/5aaae0a0c5cf438dbd2c66f957e9a732.png\n",
      "[%] File Downloaded !\n",
      "\n",
      "[%] Downloading Image #88 from https://i.pinimg.com/originals/94/29/cc/9429ccf08081fdb1fdb5b4556abb7a30.jpg\n",
      "[%] File Downloaded !\n",
      "\n",
      "[%] Downloading Image #89 from http://clipartmag.com/images/horse-images-clipart-4.png\n",
      "[%] File Downloaded !\n",
      "\n",
      "\n",
      "\n",
      "[!!]Indexing page: 15\n",
      "\n",
      "[%] Indexed 35 Images on Page 15.\n",
      "\n",
      "===============================================\n",
      "\n",
      "\n",
      "\n",
      "[!!]Indexing page: 16\n",
      "\n",
      "[%] Indexed 35 Images on Page 16.\n",
      "\n",
      "===============================================\n",
      "\n",
      "[%] Downloading Image #90 from https://www.hdwallpaper.nu/wp-content/uploads/2017/01/horse_racing-8.jpg\n",
      "[%] File Downloaded !\n",
      "\n",
      "\n",
      "\n",
      "[!!]Indexing page: 17\n",
      "\n",
      "[%] Indexed 35 Images on Page 17.\n",
      "\n",
      "===============================================\n",
      "\n",
      "\n",
      "\n",
      "[!!]Indexing page: 18\n",
      "\n",
      "[%] Indexed 35 Images on Page 18.\n",
      "\n",
      "===============================================\n",
      "\n",
      "[%] Downloading Image #91 from https://1.bp.blogspot.com/--qHfxlS3VUc/UyX68Y4nL-I/AAAAAAAAAbc/H9BGlHLXloY/s1600/Diaz+constuction+horse.jpg\n",
      "[%] File Downloaded !\n",
      "\n",
      "[%] Downloading Image #92 from https://i.pinimg.com/736x/09/8c/7b/098c7bd07df3f131a9090d25ec3b582b--pretty-horses-beautiful-horses.jpg\n",
      "[%] File Downloaded !\n",
      "\n",
      "\n",
      "\n",
      "[!!]Indexing page: 19\n",
      "\n",
      "[%] Indexed 35 Images on Page 19.\n",
      "\n",
      "===============================================\n",
      "\n",
      "[%] Downloading Image #93 from http://www.apaintedpet.com/images/chestnut-horse-portrait.jpg\n",
      "[%] File Downloaded !\n",
      "\n",
      "[%] Downloading Image #94 from https://www.differenzatra.it/wp-content/uploads/2011/03/Differenza-tra-pony-e-cavallo.jpg\n",
      "[%] File Downloaded !\n",
      "\n",
      "\n",
      "\n",
      "[!!]Indexing page: 20\n",
      "\n",
      "[%] Indexed 35 Images on Page 20.\n",
      "\n",
      "===============================================\n",
      "\n",
      "[%] Downloading Image #95 from http://www.horseracingphoto.co.uk/wp-content/uploads/jockeyandhorseprepare-1030x732.jpg\n",
      "[!] Issue getting: http://www.horseracingphoto.co.uk/wp-content/uploads/jockeyandhorseprepare-1030x732.jpg\n",
      "[!] Error:: Remote end closed connection without response\n",
      "\n",
      "\n",
      "[!!]Indexing page: 21\n",
      "\n",
      "[%] Indexed 35 Images on Page 21.\n",
      "\n",
      "===============================================\n",
      "\n",
      "\n",
      "\n",
      "[!!]Indexing page: 22\n",
      "\n",
      "[%] Indexed 35 Images on Page 22.\n",
      "\n",
      "===============================================\n",
      "\n",
      "[%] Downloading Image #95 from http://dasha46.narod.ru/Encyclopedic_Knowledge/General_Science/Transport/1/horse.jpg\n",
      "[%] File Downloaded !\n",
      "\n",
      "\n",
      "\n",
      "[!!]Indexing page: 23\n",
      "\n",
      "[%] Indexed 35 Images on Page 23.\n",
      "\n",
      "===============================================\n",
      "\n",
      "\n",
      "\n",
      "[!!]Indexing page: 24\n",
      "\n",
      "[%] Indexed 35 Images on Page 24.\n",
      "\n",
      "===============================================\n",
      "\n",
      "[%] Downloading Image #96 from https://www.foodsafetynews.com/files/2013/12/whitehorsehead-406-1.jpg\n",
      "[!] Issue getting: https://www.foodsafetynews.com/files/2013/12/whitehorsehead-406-1.jpg\n",
      "[!] Error:: HTTP Error 403: Forbidden\n",
      "[%] Downloading Image #96 from http://blackjackhorsesaddles.com/cdn/shop/articles/1f1df94871d5c9ae0b3c5c1b8d6df4e6_1200x1200.jpg?v=1656856183\n",
      "[%] File Downloaded !\n",
      "\n",
      "\n",
      "\n",
      "[!!]Indexing page: 25\n",
      "\n",
      "[%] Indexed 35 Images on Page 25.\n",
      "\n",
      "===============================================\n",
      "\n",
      "\n",
      "\n",
      "[!!]Indexing page: 26\n",
      "\n",
      "[%] Indexed 35 Images on Page 26.\n",
      "\n",
      "===============================================\n",
      "\n",
      "[%] Downloading Image #97 from https://wallpapercave.com/wp/wp6222688.jpg\n",
      "[%] File Downloaded !\n",
      "\n",
      "\n",
      "\n",
      "[!!]Indexing page: 27\n",
      "\n",
      "[%] Indexed 35 Images on Page 27.\n",
      "\n",
      "===============================================\n",
      "\n",
      "[%] Downloading Image #98 from http://sftimes.s3.amazonaws.com/e/4/b/a/e4ba6083f9fbb64d8e15d7eebe5ee7ad.jpg\n",
      "[%] File Downloaded !\n",
      "\n",
      "\n",
      "\n",
      "[!!]Indexing page: 28\n",
      "\n",
      "[%] No more images are available\n",
      "\n",
      "\n",
      "[%] Done. Downloaded 98 images.\n"
     ]
    }
   ],
   "source": [
    "# downloader.download('horse', limit=100)"
   ]
  },
  {
   "cell_type": "markdown",
   "id": "495af663-10a4-4ae4-a53c-4cd70a0500dd",
   "metadata": {},
   "source": [
    "We can download images as given and then train a model on this data."
   ]
  },
  {
   "cell_type": "markdown",
   "id": "7bc97036-1e4d-4fdb-91c1-8a957763fae8",
   "metadata": {},
   "source": [
    "## Deep Learning"
   ]
  },
  {
   "cell_type": "code",
   "execution_count": 3,
   "id": "00fd72c1-3b07-490a-b4e5-8c20324ba6a2",
   "metadata": {},
   "outputs": [],
   "source": [
    "import tensorflow as tf"
   ]
  },
  {
   "cell_type": "code",
   "execution_count": 4,
   "id": "2e47f95d-bfd3-463f-b134-35c2c0298889",
   "metadata": {},
   "outputs": [],
   "source": [
    "mnist = tf.keras.datasets.mnist # Recognizing handwritten numbers"
   ]
  },
  {
   "cell_type": "code",
   "execution_count": 5,
   "id": "8e63772f-a21e-4146-a585-e33621468941",
   "metadata": {},
   "outputs": [],
   "source": [
    "(train_images, train_labels), (test_images, test_labels) = mnist.load_data()"
   ]
  },
  {
   "cell_type": "code",
   "execution_count": 6,
   "id": "28e819c1-ef5a-432c-8d18-3ca0f6369b02",
   "metadata": {},
   "outputs": [
    {
     "data": {
      "text/plain": [
       "(60000, 28, 28)"
      ]
     },
     "execution_count": 6,
     "metadata": {},
     "output_type": "execute_result"
    }
   ],
   "source": [
    "train_images.shape"
   ]
  },
  {
   "cell_type": "code",
   "execution_count": 7,
   "id": "3d61f82c-d33e-4780-bdbe-19f5893e02db",
   "metadata": {},
   "outputs": [],
   "source": [
    "import matplotlib.pyplot as plt"
   ]
  },
  {
   "cell_type": "code",
   "execution_count": 8,
   "id": "c0186c6b-26eb-47b7-8c31-12208d1873bb",
   "metadata": {},
   "outputs": [
    {
     "name": "stdout",
     "output_type": "stream",
     "text": [
      "5\n"
     ]
    },
    {
     "data": {
      "image/png": "[encoded data removed]",
      "text/plain": [
       "<Figure size 640x480 with 1 Axes>"
      ]
     },
     "metadata": {},
     "output_type": "display_data"
    }
   ],
   "source": [
    "i = 0\n",
    "plt.imshow(train_images[i], cmap='gray');\n",
    "print(train_labels[i])"
   ]
  },
  {
   "cell_type": "code",
   "execution_count": 9,
   "id": "ed64c333-968a-4035-96a1-0d2ec726fd10",
   "metadata": {},
   "outputs": [
    {
     "name": "stdout",
     "output_type": "stream",
     "text": [
      "7\n"
     ]
    },
    {
     "data": {
      "image/png": "[encoded data removed]",
      "text/plain": [
       "<Figure size 640x480 with 1 Axes>"
      ]
     },
     "metadata": {},
     "output_type": "display_data"
    }
   ],
   "source": [
    "i = 12000\n",
    "plt.imshow(train_images[i], cmap='gray');\n",
    "print(train_labels[i])"
   ]
  },
  {
   "cell_type": "code",
   "execution_count": 10,
   "id": "be646196-6d72-4019-9574-482cebc88f8f",
   "metadata": {},
   "outputs": [
    {
     "name": "stdout",
     "output_type": "stream",
     "text": [
      "9\n"
     ]
    },
    {
     "data": {
      "image/png": "[encoded data removed]",
      "text/plain": [
       "<Figure size 640x480 with 1 Axes>"
      ]
     },
     "metadata": {},
     "output_type": "display_data"
    }
   ],
   "source": [
    "i = 54\n",
    "plt.imshow(train_images[i], cmap='gray');\n",
    "print(train_labels[i])"
   ]
  },
  {
   "cell_type": "code",
   "execution_count": 11,
   "id": "eb722fdb-06ac-48c4-81c4-898ca722cd70",
   "metadata": {},
   "outputs": [
    {
     "name": "stdout",
     "output_type": "stream",
     "text": [
      "1\n"
     ]
    },
    {
     "data": {
      "image/png": "[encoded data removed]",
      "text/plain": [
       "<Figure size 640x480 with 1 Axes>"
      ]
     },
     "metadata": {},
     "output_type": "display_data"
    }
   ],
   "source": [
    "i = 78\n",
    "plt.imshow(train_images[i], cmap='gray');\n",
    "print(train_labels[i])"
   ]
  },
  {
   "cell_type": "markdown",
   "id": "5701a907-6211-432f-81fd-931653ddf756",
   "metadata": {},
   "source": [
    "### Normalize data"
   ]
  },
  {
   "cell_type": "markdown",
   "id": "252d71c3-5f05-4918-aeca-d9056603dbbc",
   "metadata": {},
   "source": [
    "Each pixel holds three values ranging from 0 to 255 that represents red green and blue amounts found in that pixel. If we divide each r g b value by 255, we will reduce each value to a maximum of 1, while also keeping the original ratios."
   ]
  },
  {
   "cell_type": "code",
   "execution_count": 12,
   "id": "c050889f-d800-4783-8c5f-cc5725de93ca",
   "metadata": {},
   "outputs": [],
   "source": [
    "train_images = train_images / 255.0\n",
    "test_images = test_images / 255.0"
   ]
  },
  {
   "cell_type": "code",
   "execution_count": 13,
   "id": "a6b0635e-1f2d-412f-9c96-eaf88148e95a",
   "metadata": {},
   "outputs": [
    {
     "name": "stdout",
     "output_type": "stream",
     "text": [
      "1\n"
     ]
    },
    {
     "data": {
      "image/png": "[encoded data removed]",
      "text/plain": [
       "<Figure size 640x480 with 1 Axes>"
      ]
     },
     "metadata": {},
     "output_type": "display_data"
    }
   ],
   "source": [
    "i = 78\n",
    "plt.imshow(train_images[i], cmap='gray');\n",
    "print(train_labels[i])"
   ]
  },
  {
   "cell_type": "markdown",
   "id": "09a300ac-e66f-485c-a7ff-f79201688c84",
   "metadata": {},
   "source": [
    "Normalizing does not change the data"
   ]
  },
  {
   "cell_type": "markdown",
   "id": "c097d5ed-f9fc-48ef-a1a0-245130da95e8",
   "metadata": {},
   "source": [
    "#### Convolutional Neural Networks - CNN\n",
    "\n",
    "Image classification"
   ]
  },
  {
   "cell_type": "code",
   "execution_count": 14,
   "id": "4813def1-305c-4855-807d-74cb5ac9d56d",
   "metadata": {},
   "outputs": [],
   "source": [
    "from tensorflow.keras.models import Sequential\n",
    "from tensorflow.keras.layers import Dense, Conv2D, InputLayer, Reshape, MaxPooling2D, Flatten"
   ]
  },
  {
   "cell_type": "code",
   "execution_count": 15,
   "id": "8276df6d-a315-4f8b-8acb-80364bcc2015",
   "metadata": {},
   "outputs": [],
   "source": [
    "model = Sequential()"
   ]
  },
  {
   "cell_type": "code",
   "execution_count": 17,
   "id": "49481e3e-e150-475a-97d3-909542db01eb",
   "metadata": {},
   "outputs": [
    {
     "ename": "ValueError",
     "evalue": "Sequential model 'sequential' has already been configured to use input shape (None, 28, 28). You cannot add a different Input layer to it.",
     "output_type": "error",
     "traceback": [
      "\u001b[0;31m---------------------------------------------------------------------------\u001b[0m",
      "\u001b[0;31mValueError\u001b[0m                                Traceback (most recent call last)",
      "Cell \u001b[0;32mIn[17], line 1\u001b[0m\n\u001b[0;32m----> 1\u001b[0m model\u001b[38;5;241m.\u001b[39madd(InputLayer(input_shape\u001b[38;5;241m=\u001b[39m(\u001b[38;5;241m28\u001b[39m, \u001b[38;5;241m28\u001b[39m)))\n\u001b[1;32m      2\u001b[0m model\u001b[38;5;241m.\u001b[39madd(Reshape(target_shape\u001b[38;5;241m=\u001b[39m(\u001b[38;5;241m28\u001b[39m, \u001b[38;5;241m28\u001b[39m, \u001b[38;5;241m1\u001b[39m)))\n\u001b[1;32m      3\u001b[0m model\u001b[38;5;241m.\u001b[39madd(Conv2D(filters\u001b[38;5;241m=\u001b[39m\u001b[38;5;241m12\u001b[39m, kernel_size\u001b[38;5;241m=\u001b[39m(\u001b[38;5;241m3\u001b[39m, \u001b[38;5;241m3\u001b[39m)), activation\u001b[38;5;241m=\u001b[39m\u001b[38;5;124m'\u001b[39m\u001b[38;5;124mrelu\u001b[39m\u001b[38;5;124m'\u001b[39m)\n",
      "File \u001b[0;32m/opt/homebrew/Caskroom/miniconda/base/envs/datascience/lib/python3.11/site-packages/keras/src/models/sequential.py:109\u001b[0m, in \u001b[0;36mSequential.add\u001b[0;34m(self, layer, rebuild)\u001b[0m\n\u001b[1;32m     98\u001b[0m     \u001b[38;5;28;01mraise\u001b[39;00m \u001b[38;5;167;01mValueError\u001b[39;00m(\n\u001b[1;32m     99\u001b[0m         \u001b[38;5;124m\"\u001b[39m\u001b[38;5;124mAll layers added to a Sequential model \u001b[39m\u001b[38;5;124m\"\u001b[39m\n\u001b[1;32m    100\u001b[0m         \u001b[38;5;124mf\u001b[39m\u001b[38;5;124m\"\u001b[39m\u001b[38;5;124mshould have unique names. Name \u001b[39m\u001b[38;5;124m'\u001b[39m\u001b[38;5;132;01m{\u001b[39;00mlayer\u001b[38;5;241m.\u001b[39mname\u001b[38;5;132;01m}\u001b[39;00m\u001b[38;5;124m'\u001b[39m\u001b[38;5;124m is already \u001b[39m\u001b[38;5;124m\"\u001b[39m\n\u001b[1;32m    101\u001b[0m         \u001b[38;5;124m\"\u001b[39m\u001b[38;5;124mthe name of a layer in this model. Update the `name` argument \u001b[39m\u001b[38;5;124m\"\u001b[39m\n\u001b[1;32m    102\u001b[0m         \u001b[38;5;124m\"\u001b[39m\u001b[38;5;124mto pass a unique name.\u001b[39m\u001b[38;5;124m\"\u001b[39m\n\u001b[1;32m    103\u001b[0m     )\n\u001b[1;32m    104\u001b[0m \u001b[38;5;28;01mif\u001b[39;00m (\n\u001b[1;32m    105\u001b[0m     \u001b[38;5;28misinstance\u001b[39m(layer, InputLayer)\n\u001b[1;32m    106\u001b[0m     \u001b[38;5;129;01mand\u001b[39;00m \u001b[38;5;28mself\u001b[39m\u001b[38;5;241m.\u001b[39m_layers\n\u001b[1;32m    107\u001b[0m     \u001b[38;5;129;01mand\u001b[39;00m \u001b[38;5;28misinstance\u001b[39m(\u001b[38;5;28mself\u001b[39m\u001b[38;5;241m.\u001b[39m_layers[\u001b[38;5;241m0\u001b[39m], InputLayer)\n\u001b[1;32m    108\u001b[0m ):\n\u001b[0;32m--> 109\u001b[0m     \u001b[38;5;28;01mraise\u001b[39;00m \u001b[38;5;167;01mValueError\u001b[39;00m(\n\u001b[1;32m    110\u001b[0m         \u001b[38;5;124mf\u001b[39m\u001b[38;5;124m\"\u001b[39m\u001b[38;5;124mSequential model \u001b[39m\u001b[38;5;124m'\u001b[39m\u001b[38;5;132;01m{\u001b[39;00m\u001b[38;5;28mself\u001b[39m\u001b[38;5;241m.\u001b[39mname\u001b[38;5;132;01m}\u001b[39;00m\u001b[38;5;124m'\u001b[39m\u001b[38;5;124m has already been configured \u001b[39m\u001b[38;5;124m\"\u001b[39m\n\u001b[1;32m    111\u001b[0m         \u001b[38;5;124mf\u001b[39m\u001b[38;5;124m\"\u001b[39m\u001b[38;5;124mto use input shape \u001b[39m\u001b[38;5;132;01m{\u001b[39;00m\u001b[38;5;28mself\u001b[39m\u001b[38;5;241m.\u001b[39m_layers[\u001b[38;5;241m0\u001b[39m]\u001b[38;5;241m.\u001b[39mbatch_shape\u001b[38;5;132;01m}\u001b[39;00m\u001b[38;5;124m. You cannot \u001b[39m\u001b[38;5;124m\"\u001b[39m\n\u001b[1;32m    112\u001b[0m         \u001b[38;5;124mf\u001b[39m\u001b[38;5;124m\"\u001b[39m\u001b[38;5;124madd a different Input layer to it.\u001b[39m\u001b[38;5;124m\"\u001b[39m\n\u001b[1;32m    113\u001b[0m     )\n\u001b[1;32m    115\u001b[0m \u001b[38;5;28mself\u001b[39m\u001b[38;5;241m.\u001b[39m_layers\u001b[38;5;241m.\u001b[39mappend(layer)\n\u001b[1;32m    116\u001b[0m \u001b[38;5;28;01mif\u001b[39;00m rebuild:\n",
      "\u001b[0;31mValueError\u001b[0m: Sequential model 'sequential' has already been configured to use input shape (None, 28, 28). You cannot add a different Input layer to it."
     ]
    }
   ],
   "source": [
    "model.add(InputLayer(input_shape=(28, 28)))\n",
    "model.add(Reshape(target_shape=(28, 28, 1)))\n",
    "model.add(Conv2D(filters=12, kernel_size=(3, 3)), activation='relu')\n",
    "model.add(MaxPooling2D(pool_size=(2, 2)))\n",
    "model.add(Flatten())\n",
    "model.add(Dense(10))# 10 different answers (classification 0-9)\n",
    "model.compile(optimizer='adam', loss=tf.keras.losses.SparseCategoricalCrossEntropy(from_logits=True), metrics=['accuracy'])"
   ]
  },
  {
   "cell_type": "code",
   "execution_count": null,
   "id": "54670a4d-ea18-4118-900b-6b57675ca9ff",
   "metadata": {},
   "outputs": [],
   "source": []
  }
 ],
 "metadata": {
  "kernelspec": {
   "display_name": "Python 3 (ipykernel)",
   "language": "python",
   "name": "python3"
  },
  "language_info": {
   "codemirror_mode": {
    "name": "ipython",
    "version": 3
   },
   "file_extension": ".py",
   "mimetype": "text/x-python",
   "name": "python",
   "nbconvert_exporter": "python",
   "pygments_lexer": "ipython3",
   "version": "3.11.7"
  }
 },
 "nbformat": 4,
 "nbformat_minor": 5
}
