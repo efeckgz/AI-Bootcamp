{
 "cells": [
  {
   "cell_type": "code",
   "execution_count": 15,
   "id": "8c92b734-86c1-42d1-a793-8cbbf9b28c2b",
   "metadata": {},
   "outputs": [],
   "source": [
    "from hashlib import sha256\n",
    "from datetime import datetime"
   ]
  },
  {
   "cell_type": "code",
   "execution_count": 16,
   "id": "22cebaf7-500e-4fbd-b829-8bbad7be98e4",
   "metadata": {},
   "outputs": [],
   "source": [
    "class Block:\n",
    "    def __init__(self, data, prev_hash):\n",
    "        self.timestamp =  datetime.now()\n",
    "        self.data = data\n",
    "        self.previous_hash = prev_hash\n",
    "        self.hash = self.calculate_hash()\n",
    "\n",
    "    def calculate_hash(self):\n",
    "        hash_string = str(self.timestamp) + str(self.data) + str(self.previous_hash)\n",
    "        return sha256(hash_string.encode()).hexdigest()"
   ]
  },
  {
   "cell_type": "code",
   "execution_count": 17,
   "id": "5e22a8b6-747e-4540-93cd-39a6ad505c23",
   "metadata": {},
   "outputs": [],
   "source": [
    "class Blockchain:\n",
    "    def __init__(self):\n",
    "        self.chain=[self.create_genesis_block()]\n",
    "        \n",
    "    def create_genesis_block(self):\n",
    "        return Block('Genesis Block',0)\n",
    "        \n",
    "    def add_block(self,data):\n",
    "        prev_block=self.chain[-1]\n",
    "        new_block=Block(data,prev_block.hash)\n",
    "        self.chain.append(new_block)"
   ]
  },
  {
   "cell_type": "code",
   "execution_count": 18,
   "id": "1c077cbb-069a-4959-8398-718005eb68cf",
   "metadata": {},
   "outputs": [],
   "source": [
    "blockchain = Blockchain()"
   ]
  },
  {
   "cell_type": "code",
   "execution_count": 19,
   "id": "98abe094-54c0-48b6-acbb-eb6143b14eac",
   "metadata": {},
   "outputs": [],
   "source": [
    "blockchain.add_block('block 1')\n",
    "blockchain.add_block('block 2')\n",
    "blockchain.add_block('block 3')"
   ]
  },
  {
   "cell_type": "code",
   "execution_count": 20,
   "id": "613c9aba-06c8-4534-a3d2-e4077b7a8054",
   "metadata": {},
   "outputs": [
    {
     "name": "stdout",
     "output_type": "stream",
     "text": [
      "Date: 2024-04-06 09:17:18.984996\n",
      "Data: Genesis Block\n",
      "Previous Hash: 0\n",
      "Current Hash: ede065e5e4f913322b5b04735b320d86eb4d4bf04b2d0d70ed10b34921d09a38\n",
      "\n",
      "Date: 2024-04-06 09:17:19.301218\n",
      "Data: block 1\n",
      "Previous Hash: ede065e5e4f913322b5b04735b320d86eb4d4bf04b2d0d70ed10b34921d09a38\n",
      "Current Hash: 5a3e4d5c9c399fe357f927fdad9fdf150011dde9558a060a5e8a2495f0ee3d13\n",
      "\n",
      "Date: 2024-04-06 09:17:19.301336\n",
      "Data: block 2\n",
      "Previous Hash: 5a3e4d5c9c399fe357f927fdad9fdf150011dde9558a060a5e8a2495f0ee3d13\n",
      "Current Hash: 842d7095de61890802c271e5870553cf4ee731d5f9c7394fb2a89ca30161c066\n",
      "\n",
      "Date: 2024-04-06 09:17:19.301405\n",
      "Data: block 3\n",
      "Previous Hash: 842d7095de61890802c271e5870553cf4ee731d5f9c7394fb2a89ca30161c066\n",
      "Current Hash: d2602be5f77ea51c1d6e6984ab91478e452613308e09acfdd71d24a227f5ab7d\n",
      "\n"
     ]
    }
   ],
   "source": [
    "for block in blockchain.chain:\n",
    "    print(f'Date: {block.timestamp}')\n",
    "    print(f'Data: {block.data}')\n",
    "    print(f'Previous Hash: {block.previous_hash}')\n",
    "    print(f'Current Hash: {block.hash}')\n",
    "    print()"
   ]
  },
  {
   "cell_type": "code",
   "execution_count": null,
   "id": "31c2feea-1dc1-437c-b7af-13e17a69ad4c",
   "metadata": {},
   "outputs": [],
   "source": []
  }
 ],
 "metadata": {
  "kernelspec": {
   "display_name": "Python 3 (ipykernel)",
   "language": "python",
   "name": "python3"
  },
  "language_info": {
   "codemirror_mode": {
    "name": "ipython",
    "version": 3
   },
   "file_extension": ".py",
   "mimetype": "text/x-python",
   "name": "python",
   "nbconvert_exporter": "python",
   "pygments_lexer": "ipython3",
   "version": "3.11.6"
  }
 },
 "nbformat": 4,
 "nbformat_minor": 5
}
